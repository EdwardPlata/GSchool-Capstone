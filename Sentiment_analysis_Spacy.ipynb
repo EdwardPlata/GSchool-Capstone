{
 "cells": [
  {
   "cell_type": "code",
   "execution_count": 1,
   "metadata": {},
   "outputs": [],
   "source": [
    "import pandas as pd"
   ]
  },
  {
   "cell_type": "code",
   "execution_count": 2,
   "metadata": {},
   "outputs": [
    {
     "data": {
      "text/html": [
       "<div>\n",
       "<style scoped>\n",
       "    .dataframe tbody tr th:only-of-type {\n",
       "        vertical-align: middle;\n",
       "    }\n",
       "\n",
       "    .dataframe tbody tr th {\n",
       "        vertical-align: top;\n",
       "    }\n",
       "\n",
       "    .dataframe thead th {\n",
       "        text-align: right;\n",
       "    }\n",
       "</style>\n",
       "<table border=\"1\" class=\"dataframe\">\n",
       "  <thead>\n",
       "    <tr style=\"text-align: right;\">\n",
       "      <th></th>\n",
       "      <th>publishedAt</th>\n",
       "      <th>author</th>\n",
       "      <th>content</th>\n",
       "      <th>description</th>\n",
       "      <th>source</th>\n",
       "      <th>title</th>\n",
       "      <th>url</th>\n",
       "      <th>urlToImage</th>\n",
       "      <th>clean_content</th>\n",
       "      <th>clean_description</th>\n",
       "      <th>...</th>\n",
       "      <th>content_subjectivity</th>\n",
       "      <th>description_subjectivity</th>\n",
       "      <th>title_subjectivity</th>\n",
       "      <th>Date</th>\n",
       "      <th>my_rep</th>\n",
       "      <th>content_vaderSentiment</th>\n",
       "      <th>neg</th>\n",
       "      <th>neu</th>\n",
       "      <th>pos</th>\n",
       "      <th>compound</th>\n",
       "    </tr>\n",
       "  </thead>\n",
       "  <tbody>\n",
       "    <tr>\n",
       "      <th>0</th>\n",
       "      <td>2019-03-26 18:12:10</td>\n",
       "      <td>NaN</td>\n",
       "      <td>By Stephen Nellis\\r\\nSAN FRANCISCO (Reuters) -...</td>\n",
       "      <td>Adobe Inc and Microsoft Corp are partnering to...</td>\n",
       "      <td>{'id': None, 'name': 'Yahoo.com'}</td>\n",
       "      <td>Adobe, Microsoft to take on Salesforce's marke...</td>\n",
       "      <td>https://news.yahoo.com/adobe-microsoft-salesfo...</td>\n",
       "      <td>https://s.yimg.com/uu/api/res/1.2/6C.pcfAOCEsc...</td>\n",
       "      <td>['By', 'Stephen', 'Nellis', 'SAN', 'FRANCISCO'...</td>\n",
       "      <td>Adobe Inc and Microsoft Corp are partnering to...</td>\n",
       "      <td>...</td>\n",
       "      <td>0.437500</td>\n",
       "      <td>0.437500</td>\n",
       "      <td>0.0</td>\n",
       "      <td>2019-03-26 18:12:10</td>\n",
       "      <td>['By', 'Stephen', 'Nellis', 'SAN', 'FRANCISCO'...</td>\n",
       "      <td>{'neg': 0.0, 'neu': 0.932, 'pos': 0.068, 'comp...</td>\n",
       "      <td>0.000</td>\n",
       "      <td>0.932</td>\n",
       "      <td>0.068</td>\n",
       "      <td>0.4404</td>\n",
       "    </tr>\n",
       "    <tr>\n",
       "      <th>1</th>\n",
       "      <td>2019-03-26 18:25:00</td>\n",
       "      <td>NaN</td>\n",
       "      <td>Every weekday we bring you the Ad Age/iSpot Ho...</td>\n",
       "      <td>Every weekday we bring you the Ad Age/iSpot Ho...</td>\n",
       "      <td>{'id': None, 'name': 'Adage.com'}</td>\n",
       "      <td>Watch the newest commercials on TV from Aldi, ...</td>\n",
       "      <td>https://adage.com/article/hot-spots/watch-newe...</td>\n",
       "      <td>https://gaia.adage.com/images/bin/image/x-larg...</td>\n",
       "      <td>['Every', 'weekday', 'we', 'bring', 'you', 'th...</td>\n",
       "      <td>Every weekday we bring you the Ad Age/iSpot Ho...</td>\n",
       "      <td>...</td>\n",
       "      <td>0.347576</td>\n",
       "      <td>0.347576</td>\n",
       "      <td>0.5</td>\n",
       "      <td>2019-03-26 18:25:00</td>\n",
       "      <td>['Every', 'weekday', 'we', 'bring', 'you', 'th...</td>\n",
       "      <td>{'neg': 0.0, 'neu': 1.0, 'pos': 0.0, 'compound...</td>\n",
       "      <td>0.000</td>\n",
       "      <td>1.000</td>\n",
       "      <td>0.000</td>\n",
       "      <td>0.0000</td>\n",
       "    </tr>\n",
       "    <tr>\n",
       "      <th>2</th>\n",
       "      <td>2019-03-26 18:34:08</td>\n",
       "      <td>newsfeedback@fool.com (Motley Fool Transcription)</td>\n",
       "      <td>Image source: The Motley Fool.\\r\\nCarnival Cor...</td>\n",
       "      <td>CCL earnings call for the period ending Februa...</td>\n",
       "      <td>{'id': None, 'name': 'Fool.com'}</td>\n",
       "      <td>Carnival Corp (CCL) Q1 2019 Earnings Conferenc...</td>\n",
       "      <td>https://www.fool.com/earnings/call-transcripts...</td>\n",
       "      <td>https://g.foolcdn.com/editorial/images/517400/...</td>\n",
       "      <td>['Image', 'source:', 'The', 'Motley', 'Fool.',...</td>\n",
       "      <td>CCL earnings call for the period ending Februa...</td>\n",
       "      <td>...</td>\n",
       "      <td>0.900000</td>\n",
       "      <td>0.000000</td>\n",
       "      <td>0.0</td>\n",
       "      <td>2019-03-26 18:34:08</td>\n",
       "      <td>['Image', 'source', 'The', 'Motley', 'Fool', '...</td>\n",
       "      <td>{'neg': 0.073, 'neu': 0.831, 'pos': 0.096, 'co...</td>\n",
       "      <td>0.073</td>\n",
       "      <td>0.831</td>\n",
       "      <td>0.096</td>\n",
       "      <td>-0.0258</td>\n",
       "    </tr>\n",
       "    <tr>\n",
       "      <th>3</th>\n",
       "      <td>2019-03-26 19:05:00</td>\n",
       "      <td>NaN</td>\n",
       "      <td>None</td>\n",
       "      <td>After Boston move, Alexion employees see 34 pe...</td>\n",
       "      <td>{'id': None, 'name': 'Bizjournals.com'}</td>\n",
       "      <td>After Boston move, Alexion employees see 34 pe...</td>\n",
       "      <td>https://www.bizjournals.com/boston/news/2019/0...</td>\n",
       "      <td>NaN</td>\n",
       "      <td>['None']</td>\n",
       "      <td>After Boston move, Alexion employees see 34 pe...</td>\n",
       "      <td>...</td>\n",
       "      <td>0.000000</td>\n",
       "      <td>0.488889</td>\n",
       "      <td>0.0</td>\n",
       "      <td>2019-03-26 19:05:00</td>\n",
       "      <td>['None']</td>\n",
       "      <td>{'neg': 0.0, 'neu': 1.0, 'pos': 0.0, 'compound...</td>\n",
       "      <td>0.000</td>\n",
       "      <td>1.000</td>\n",
       "      <td>0.000</td>\n",
       "      <td>0.0000</td>\n",
       "    </tr>\n",
       "    <tr>\n",
       "      <th>4</th>\n",
       "      <td>2019-03-26 19:26:41</td>\n",
       "      <td>Kelly</td>\n",
       "      <td>He was the son of Anna van der Meij and Christ...</td>\n",
       "      <td>1656 – Dutch mathematician Nicolaas Hartsoeker...</td>\n",
       "      <td>{'id': None, 'name': 'Adafruit.com'}</td>\n",
       "      <td>Time Travel Tuesday #timetravel a look back at...</td>\n",
       "      <td>https://blog.adafruit.com/2019/03/26/time-trav...</td>\n",
       "      <td>https://cdn-blog.adafruit.com/uploads/2019/03/...</td>\n",
       "      <td>['He', 'was', 'the', 'son', 'of', 'Anna', 'van...</td>\n",
       "      <td>1656 – Dutch mathematician Nicolaas Hartsoeker...</td>\n",
       "      <td>...</td>\n",
       "      <td>0.700000</td>\n",
       "      <td>0.700000</td>\n",
       "      <td>0.0</td>\n",
       "      <td>2019-03-26 19:26:41</td>\n",
       "      <td>['He', 'was', 'the', 'son', 'of', 'Anna', 'van...</td>\n",
       "      <td>{'neg': 0.0, 'neu': 1.0, 'pos': 0.0, 'compound...</td>\n",
       "      <td>0.000</td>\n",
       "      <td>1.000</td>\n",
       "      <td>0.000</td>\n",
       "      <td>0.0000</td>\n",
       "    </tr>\n",
       "  </tbody>\n",
       "</table>\n",
       "<p>5 rows × 27 columns</p>\n",
       "</div>"
      ],
      "text/plain": [
       "           publishedAt                                             author  \\\n",
       "0  2019-03-26 18:12:10                                                NaN   \n",
       "1  2019-03-26 18:25:00                                                NaN   \n",
       "2  2019-03-26 18:34:08  newsfeedback@fool.com (Motley Fool Transcription)   \n",
       "3  2019-03-26 19:05:00                                                NaN   \n",
       "4  2019-03-26 19:26:41                                              Kelly   \n",
       "\n",
       "                                             content  \\\n",
       "0  By Stephen Nellis\\r\\nSAN FRANCISCO (Reuters) -...   \n",
       "1  Every weekday we bring you the Ad Age/iSpot Ho...   \n",
       "2  Image source: The Motley Fool.\\r\\nCarnival Cor...   \n",
       "3                                               None   \n",
       "4  He was the son of Anna van der Meij and Christ...   \n",
       "\n",
       "                                         description  \\\n",
       "0  Adobe Inc and Microsoft Corp are partnering to...   \n",
       "1  Every weekday we bring you the Ad Age/iSpot Ho...   \n",
       "2  CCL earnings call for the period ending Februa...   \n",
       "3  After Boston move, Alexion employees see 34 pe...   \n",
       "4  1656 – Dutch mathematician Nicolaas Hartsoeker...   \n",
       "\n",
       "                                    source  \\\n",
       "0        {'id': None, 'name': 'Yahoo.com'}   \n",
       "1        {'id': None, 'name': 'Adage.com'}   \n",
       "2         {'id': None, 'name': 'Fool.com'}   \n",
       "3  {'id': None, 'name': 'Bizjournals.com'}   \n",
       "4     {'id': None, 'name': 'Adafruit.com'}   \n",
       "\n",
       "                                               title  \\\n",
       "0  Adobe, Microsoft to take on Salesforce's marke...   \n",
       "1  Watch the newest commercials on TV from Aldi, ...   \n",
       "2  Carnival Corp (CCL) Q1 2019 Earnings Conferenc...   \n",
       "3  After Boston move, Alexion employees see 34 pe...   \n",
       "4  Time Travel Tuesday #timetravel a look back at...   \n",
       "\n",
       "                                                 url  \\\n",
       "0  https://news.yahoo.com/adobe-microsoft-salesfo...   \n",
       "1  https://adage.com/article/hot-spots/watch-newe...   \n",
       "2  https://www.fool.com/earnings/call-transcripts...   \n",
       "3  https://www.bizjournals.com/boston/news/2019/0...   \n",
       "4  https://blog.adafruit.com/2019/03/26/time-trav...   \n",
       "\n",
       "                                          urlToImage  \\\n",
       "0  https://s.yimg.com/uu/api/res/1.2/6C.pcfAOCEsc...   \n",
       "1  https://gaia.adage.com/images/bin/image/x-larg...   \n",
       "2  https://g.foolcdn.com/editorial/images/517400/...   \n",
       "3                                                NaN   \n",
       "4  https://cdn-blog.adafruit.com/uploads/2019/03/...   \n",
       "\n",
       "                                       clean_content  \\\n",
       "0  ['By', 'Stephen', 'Nellis', 'SAN', 'FRANCISCO'...   \n",
       "1  ['Every', 'weekday', 'we', 'bring', 'you', 'th...   \n",
       "2  ['Image', 'source:', 'The', 'Motley', 'Fool.',...   \n",
       "3                                           ['None']   \n",
       "4  ['He', 'was', 'the', 'son', 'of', 'Anna', 'van...   \n",
       "\n",
       "                                   clean_description  ...  \\\n",
       "0  Adobe Inc and Microsoft Corp are partnering to...  ...   \n",
       "1  Every weekday we bring you the Ad Age/iSpot Ho...  ...   \n",
       "2  CCL earnings call for the period ending Februa...  ...   \n",
       "3  After Boston move, Alexion employees see 34 pe...  ...   \n",
       "4  1656 – Dutch mathematician Nicolaas Hartsoeker...  ...   \n",
       "\n",
       "  content_subjectivity description_subjectivity  title_subjectivity  \\\n",
       "0             0.437500                 0.437500                 0.0   \n",
       "1             0.347576                 0.347576                 0.5   \n",
       "2             0.900000                 0.000000                 0.0   \n",
       "3             0.000000                 0.488889                 0.0   \n",
       "4             0.700000                 0.700000                 0.0   \n",
       "\n",
       "                  Date                                             my_rep  \\\n",
       "0  2019-03-26 18:12:10  ['By', 'Stephen', 'Nellis', 'SAN', 'FRANCISCO'...   \n",
       "1  2019-03-26 18:25:00  ['Every', 'weekday', 'we', 'bring', 'you', 'th...   \n",
       "2  2019-03-26 18:34:08  ['Image', 'source', 'The', 'Motley', 'Fool', '...   \n",
       "3  2019-03-26 19:05:00                                           ['None']   \n",
       "4  2019-03-26 19:26:41  ['He', 'was', 'the', 'son', 'of', 'Anna', 'van...   \n",
       "\n",
       "                              content_vaderSentiment    neg    neu    pos  \\\n",
       "0  {'neg': 0.0, 'neu': 0.932, 'pos': 0.068, 'comp...  0.000  0.932  0.068   \n",
       "1  {'neg': 0.0, 'neu': 1.0, 'pos': 0.0, 'compound...  0.000  1.000  0.000   \n",
       "2  {'neg': 0.073, 'neu': 0.831, 'pos': 0.096, 'co...  0.073  0.831  0.096   \n",
       "3  {'neg': 0.0, 'neu': 1.0, 'pos': 0.0, 'compound...  0.000  1.000  0.000   \n",
       "4  {'neg': 0.0, 'neu': 1.0, 'pos': 0.0, 'compound...  0.000  1.000  0.000   \n",
       "\n",
       "   compound  \n",
       "0    0.4404  \n",
       "1    0.0000  \n",
       "2   -0.0258  \n",
       "3    0.0000  \n",
       "4    0.0000  \n",
       "\n",
       "[5 rows x 27 columns]"
      ]
     },
     "execution_count": 2,
     "metadata": {},
     "output_type": "execute_result"
    }
   ],
   "source": [
    "big_df = pd.read_csv('big_data.csv')\n",
    "big_df.head()"
   ]
  },
  {
   "cell_type": "code",
   "execution_count": 3,
   "metadata": {},
   "outputs": [
    {
     "name": "stdout",
     "output_type": "stream",
     "text": [
      "Collecting spacy\n",
      "\u001b[?25l  Downloading https://files.pythonhosted.org/packages/77/f3/eb5aece989ecca541c4b5a439cb8a86fe5254b1521925b547609fb3aaf64/spacy-2.1.3.tar.gz (27.7MB)\n",
      "\u001b[K    100% |████████████████████████████████| 27.7MB 586kB/s \n",
      "\u001b[?25h  Installing build dependencies ... \u001b[?25ldone\n",
      "\u001b[?25h  Getting requirements to build wheel ... \u001b[?25ldone\n",
      "\u001b[?25h    Preparing wheel metadata ... \u001b[?25ldone\n",
      "\u001b[?25hCollecting blis<0.3.0,>=0.2.2 (from spacy)\n",
      "  Using cached https://files.pythonhosted.org/packages/36/41/9e934e2b8a2cdae447ed1923a94f98c2d70c898b65af6635f5fe55f7ed4d/blis-0.2.4-cp37-cp37m-macosx_10_6_intel.macosx_10_9_intel.macosx_10_9_x86_64.macosx_10_10_intel.macosx_10_10_x86_64.whl\n",
      "Collecting jsonschema<3.0.0,>=2.6.0 (from spacy)\n",
      "  Downloading https://files.pythonhosted.org/packages/77/de/47e35a97b2b05c2fadbec67d44cfcdcd09b8086951b331d82de90d2912da/jsonschema-2.6.0-py2.py3-none-any.whl\n",
      "Requirement already satisfied: requests<3.0.0,>=2.13.0 in /Users/anthonyplata/anaconda3/lib/python3.7/site-packages (from spacy) (2.21.0)\n",
      "Collecting preshed<2.1.0,>=2.0.1 (from spacy)\n",
      "  Using cached https://files.pythonhosted.org/packages/48/fe/2f2e8c91541785f2abe0d51f37eb00356513b9ff3d24fb27fd5b59e18264/preshed-2.0.1-cp37-cp37m-macosx_10_6_intel.macosx_10_9_intel.macosx_10_9_x86_64.macosx_10_10_intel.macosx_10_10_x86_64.whl\n",
      "Requirement already satisfied: numpy>=1.15.0 in /Users/anthonyplata/anaconda3/lib/python3.7/site-packages (from spacy) (1.16.2)\n",
      "Collecting thinc<7.1.0,>=7.0.2 (from spacy)\n",
      "\u001b[?25l  Downloading https://files.pythonhosted.org/packages/92/b1/d7df83813ee3c42d46e6ddf4d4f1d9bd35a4735827d35b7f02539bea3136/thinc-7.0.4-cp37-cp37m-macosx_10_6_intel.macosx_10_9_intel.macosx_10_9_x86_64.macosx_10_10_intel.macosx_10_10_x86_64.whl (2.8MB)\n",
      "\u001b[K    100% |████████████████████████████████| 2.8MB 3.2MB/s \n",
      "\u001b[?25hCollecting srsly<1.1.0,>=0.0.5 (from spacy)\n",
      "  Using cached https://files.pythonhosted.org/packages/c8/b2/d2cc9f5aa5a458aca45d8689279b41d4b42ba4e8c63b0cb6a9f009340fd0/srsly-0.0.5-cp37-cp37m-macosx_10_6_intel.macosx_10_9_intel.macosx_10_9_x86_64.macosx_10_10_intel.macosx_10_10_x86_64.whl\n",
      "Collecting cymem<2.1.0,>=2.0.2 (from spacy)\n",
      "  Using cached https://files.pythonhosted.org/packages/d7/11/37da628920bf2999bd8c4ffc40908413622486d5dbc4e60d87a58c428367/cymem-2.0.2-cp37-cp37m-macosx_10_6_intel.macosx_10_9_intel.macosx_10_9_x86_64.macosx_10_10_intel.macosx_10_10_x86_64.whl\n",
      "Collecting murmurhash<1.1.0,>=0.28.0 (from spacy)\n",
      "  Using cached https://files.pythonhosted.org/packages/b9/bd/faace403086ee922afc74e5615cb8c21020fcf5d5667314e943c08f71fde/murmurhash-1.0.2-cp37-cp37m-macosx_10_6_intel.macosx_10_9_intel.macosx_10_9_x86_64.macosx_10_10_intel.macosx_10_10_x86_64.whl\n",
      "Collecting plac<1.0.0,>=0.9.6 (from spacy)\n",
      "  Using cached https://files.pythonhosted.org/packages/9e/9b/62c60d2f5bc135d2aa1d8c8a86aaf84edb719a59c7f11a4316259e61a298/plac-0.9.6-py2.py3-none-any.whl\n",
      "Collecting wasabi<1.1.0,>=0.2.0 (from spacy)\n",
      "  Using cached https://files.pythonhosted.org/packages/76/6c/0376977df1ba9f0ec27835d80456d9284c79737cb5205649451db1181f01/wasabi-0.2.1-py3-none-any.whl\n",
      "Requirement already satisfied: chardet<3.1.0,>=3.0.2 in /Users/anthonyplata/anaconda3/lib/python3.7/site-packages (from requests<3.0.0,>=2.13.0->spacy) (3.0.4)\n",
      "Requirement already satisfied: idna<2.9,>=2.5 in /Users/anthonyplata/anaconda3/lib/python3.7/site-packages (from requests<3.0.0,>=2.13.0->spacy) (2.5)\n",
      "Requirement already satisfied: urllib3<1.25,>=1.21.1 in /Users/anthonyplata/anaconda3/lib/python3.7/site-packages (from requests<3.0.0,>=2.13.0->spacy) (1.21.1)\n",
      "Requirement already satisfied: certifi>=2017.4.17 in /Users/anthonyplata/anaconda3/lib/python3.7/site-packages (from requests<3.0.0,>=2.13.0->spacy) (2019.3.9)\n",
      "Collecting tqdm<5.0.0,>=4.10.0 (from thinc<7.1.0,>=7.0.2->spacy)\n",
      "  Using cached https://files.pythonhosted.org/packages/6c/4b/c38b5144cf167c4f52288517436ccafefe9dc01b8d1c190e18a6b154cd4a/tqdm-4.31.1-py2.py3-none-any.whl\n",
      "Building wheels for collected packages: spacy\n",
      "  Building wheel for spacy (PEP 517) ... \u001b[?25ldone\n",
      "\u001b[?25h  Stored in directory: /Users/anthonyplata/Library/Caches/pip/wheels/67/16/2b/95f509d3ed9752e575649e4072f072363e75146ac06d09195a\n",
      "Successfully built spacy\n",
      "Installing collected packages: blis, jsonschema, cymem, preshed, wasabi, srsly, murmurhash, plac, tqdm, thinc, spacy\n",
      "  Found existing installation: jsonschema 3.0.1\n",
      "    Uninstalling jsonschema-3.0.1:\n",
      "      Successfully uninstalled jsonschema-3.0.1\n",
      "Successfully installed blis-0.2.4 cymem-2.0.2 jsonschema-3.0.1 murmurhash-1.0.2 plac-0.9.6 preshed-2.0.1 spacy-2.1.3 srsly-0.0.5 thinc-7.0.4 tqdm-4.31.1 wasabi-0.2.1\n"
     ]
    }
   ],
   "source": [
    "!pip install spacy"
   ]
  },
  {
   "cell_type": "code",
   "execution_count": 4,
   "metadata": {},
   "outputs": [],
   "source": [
    "import spacy"
   ]
  },
  {
   "cell_type": "code",
   "execution_count": 6,
   "metadata": {},
   "outputs": [
    {
     "name": "stdout",
     "output_type": "stream",
     "text": [
      "Index(['publishedAt', 'author', 'content', 'description', 'source', 'title',\n",
      "       'url', 'urlToImage', 'clean_content', 'clean_description',\n",
      "       'cleanned_title', 'content_wiki', 'content_polarity',\n",
      "       'description_wiki', 'title_wiki', 'description_polarity',\n",
      "       'title_polarity', 'content_subjectivity', 'description_subjectivity',\n",
      "       'title_subjectivity', 'Date', 'my_rep', 'content_vaderSentiment', 'neg',\n",
      "       'neu', 'pos', 'compound'],\n",
      "      dtype='object')\n"
     ]
    }
   ],
   "source": [
    "col = big_df.columns\n",
    "print(col)"
   ]
  },
  {
   "cell_type": "code",
   "execution_count": 8,
   "metadata": {},
   "outputs": [],
   "source": [
    "testing_numbers = big_df[['content_polarity', 'description_polarity',\n",
    "       'title_polarity', 'content_subjectivity', 'description_subjectivity',\n",
    "       'title_subjectivity', 'Date', 'my_rep', 'content_vaderSentiment', 'neg',\n",
    "       'neu', 'pos', 'compound']]"
   ]
  },
  {
   "cell_type": "code",
   "execution_count": 9,
   "metadata": {},
   "outputs": [
    {
     "data": {
      "text/html": [
       "<div>\n",
       "<style scoped>\n",
       "    .dataframe tbody tr th:only-of-type {\n",
       "        vertical-align: middle;\n",
       "    }\n",
       "\n",
       "    .dataframe tbody tr th {\n",
       "        vertical-align: top;\n",
       "    }\n",
       "\n",
       "    .dataframe thead th {\n",
       "        text-align: right;\n",
       "    }\n",
       "</style>\n",
       "<table border=\"1\" class=\"dataframe\">\n",
       "  <thead>\n",
       "    <tr style=\"text-align: right;\">\n",
       "      <th></th>\n",
       "      <th>content_polarity</th>\n",
       "      <th>description_polarity</th>\n",
       "      <th>title_polarity</th>\n",
       "      <th>content_subjectivity</th>\n",
       "      <th>description_subjectivity</th>\n",
       "      <th>title_subjectivity</th>\n",
       "      <th>Date</th>\n",
       "      <th>my_rep</th>\n",
       "      <th>content_vaderSentiment</th>\n",
       "      <th>neg</th>\n",
       "      <th>neu</th>\n",
       "      <th>pos</th>\n",
       "      <th>compound</th>\n",
       "    </tr>\n",
       "  </thead>\n",
       "  <tbody>\n",
       "    <tr>\n",
       "      <th>0</th>\n",
       "      <td>-0.212500</td>\n",
       "      <td>-0.212500</td>\n",
       "      <td>0.0</td>\n",
       "      <td>0.437500</td>\n",
       "      <td>0.437500</td>\n",
       "      <td>0.0</td>\n",
       "      <td>2019-03-26 18:12:10</td>\n",
       "      <td>['By', 'Stephen', 'Nellis', 'SAN', 'FRANCISCO'...</td>\n",
       "      <td>{'neg': 0.0, 'neu': 0.932, 'pos': 0.068, 'comp...</td>\n",
       "      <td>0.000</td>\n",
       "      <td>0.932</td>\n",
       "      <td>0.068</td>\n",
       "      <td>0.4404</td>\n",
       "    </tr>\n",
       "    <tr>\n",
       "      <th>1</th>\n",
       "      <td>0.107273</td>\n",
       "      <td>0.107273</td>\n",
       "      <td>0.5</td>\n",
       "      <td>0.347576</td>\n",
       "      <td>0.347576</td>\n",
       "      <td>0.5</td>\n",
       "      <td>2019-03-26 18:25:00</td>\n",
       "      <td>['Every', 'weekday', 'we', 'bring', 'you', 'th...</td>\n",
       "      <td>{'neg': 0.0, 'neu': 1.0, 'pos': 0.0, 'compound...</td>\n",
       "      <td>0.000</td>\n",
       "      <td>1.000</td>\n",
       "      <td>0.000</td>\n",
       "      <td>0.0000</td>\n",
       "    </tr>\n",
       "    <tr>\n",
       "      <th>2</th>\n",
       "      <td>0.600000</td>\n",
       "      <td>0.000000</td>\n",
       "      <td>0.0</td>\n",
       "      <td>0.900000</td>\n",
       "      <td>0.000000</td>\n",
       "      <td>0.0</td>\n",
       "      <td>2019-03-26 18:34:08</td>\n",
       "      <td>['Image', 'source', 'The', 'Motley', 'Fool', '...</td>\n",
       "      <td>{'neg': 0.073, 'neu': 0.831, 'pos': 0.096, 'co...</td>\n",
       "      <td>0.073</td>\n",
       "      <td>0.831</td>\n",
       "      <td>0.096</td>\n",
       "      <td>-0.0258</td>\n",
       "    </tr>\n",
       "    <tr>\n",
       "      <th>3</th>\n",
       "      <td>0.000000</td>\n",
       "      <td>0.033333</td>\n",
       "      <td>0.0</td>\n",
       "      <td>0.000000</td>\n",
       "      <td>0.488889</td>\n",
       "      <td>0.0</td>\n",
       "      <td>2019-03-26 19:05:00</td>\n",
       "      <td>['None']</td>\n",
       "      <td>{'neg': 0.0, 'neu': 1.0, 'pos': 0.0, 'compound...</td>\n",
       "      <td>0.000</td>\n",
       "      <td>1.000</td>\n",
       "      <td>0.000</td>\n",
       "      <td>0.0000</td>\n",
       "    </tr>\n",
       "    <tr>\n",
       "      <th>4</th>\n",
       "      <td>0.050000</td>\n",
       "      <td>0.050000</td>\n",
       "      <td>0.0</td>\n",
       "      <td>0.700000</td>\n",
       "      <td>0.700000</td>\n",
       "      <td>0.0</td>\n",
       "      <td>2019-03-26 19:26:41</td>\n",
       "      <td>['He', 'was', 'the', 'son', 'of', 'Anna', 'van...</td>\n",
       "      <td>{'neg': 0.0, 'neu': 1.0, 'pos': 0.0, 'compound...</td>\n",
       "      <td>0.000</td>\n",
       "      <td>1.000</td>\n",
       "      <td>0.000</td>\n",
       "      <td>0.0000</td>\n",
       "    </tr>\n",
       "  </tbody>\n",
       "</table>\n",
       "</div>"
      ],
      "text/plain": [
       "   content_polarity  description_polarity  title_polarity  \\\n",
       "0         -0.212500             -0.212500             0.0   \n",
       "1          0.107273              0.107273             0.5   \n",
       "2          0.600000              0.000000             0.0   \n",
       "3          0.000000              0.033333             0.0   \n",
       "4          0.050000              0.050000             0.0   \n",
       "\n",
       "   content_subjectivity  description_subjectivity  title_subjectivity  \\\n",
       "0              0.437500                  0.437500                 0.0   \n",
       "1              0.347576                  0.347576                 0.5   \n",
       "2              0.900000                  0.000000                 0.0   \n",
       "3              0.000000                  0.488889                 0.0   \n",
       "4              0.700000                  0.700000                 0.0   \n",
       "\n",
       "                  Date                                             my_rep  \\\n",
       "0  2019-03-26 18:12:10  ['By', 'Stephen', 'Nellis', 'SAN', 'FRANCISCO'...   \n",
       "1  2019-03-26 18:25:00  ['Every', 'weekday', 'we', 'bring', 'you', 'th...   \n",
       "2  2019-03-26 18:34:08  ['Image', 'source', 'The', 'Motley', 'Fool', '...   \n",
       "3  2019-03-26 19:05:00                                           ['None']   \n",
       "4  2019-03-26 19:26:41  ['He', 'was', 'the', 'son', 'of', 'Anna', 'van...   \n",
       "\n",
       "                              content_vaderSentiment    neg    neu    pos  \\\n",
       "0  {'neg': 0.0, 'neu': 0.932, 'pos': 0.068, 'comp...  0.000  0.932  0.068   \n",
       "1  {'neg': 0.0, 'neu': 1.0, 'pos': 0.0, 'compound...  0.000  1.000  0.000   \n",
       "2  {'neg': 0.073, 'neu': 0.831, 'pos': 0.096, 'co...  0.073  0.831  0.096   \n",
       "3  {'neg': 0.0, 'neu': 1.0, 'pos': 0.0, 'compound...  0.000  1.000  0.000   \n",
       "4  {'neg': 0.0, 'neu': 1.0, 'pos': 0.0, 'compound...  0.000  1.000  0.000   \n",
       "\n",
       "   compound  \n",
       "0    0.4404  \n",
       "1    0.0000  \n",
       "2   -0.0258  \n",
       "3    0.0000  \n",
       "4    0.0000  "
      ]
     },
     "execution_count": 9,
     "metadata": {},
     "output_type": "execute_result"
    }
   ],
   "source": [
    "testing_numbers.head()"
   ]
  },
  {
   "cell_type": "code",
   "execution_count": 11,
   "metadata": {},
   "outputs": [
    {
     "data": {
      "text/plain": [
       "'[\\'By\\', \\'Stephen\\', \\'Nellis\\', \\'SAN\\', \\'FRANCISCO\\', \\'(Reuters)\\', \\'-\\', \\'Adobe\\', \\'Inc\\', \\'and\\', \\'Microsoft\\', \\'Corp\\', \\'are\\', \\'partnering\\', \\'to\\', \\'bolster\\', \\'each\\', \"other\\'s\", \\'sales\\', \\'and\\', \\'marketing\\', \\'software\\', \\'capabilities,\\', \\'taking\\', \\'aim\\', \\'at\\', \\'common\\', \\'rival\\', \\'Salesforce.com\\', \\'Inc,\\', \\'they\\', \\'said\\', \\'on\\', \\'Tuesday.\\', \\'Adobe\\', \\'and\\', \\'Microsoft\\', \\'hope\\', \\'to\\', \\'make\\', \\'…\\', \\'[+2386\\', \\'chars]\\']'"
      ]
     },
     "execution_count": 11,
     "metadata": {},
     "output_type": "execute_result"
    }
   ],
   "source": [
    "big_df['clean_content'][0]"
   ]
  },
  {
   "cell_type": "code",
   "execution_count": 14,
   "metadata": {},
   "outputs": [
    {
     "ename": "OSError",
     "evalue": "[E050] Can't find model 'en_core_web_sm'. It doesn't seem to be a shortcut link, a Python package or a valid path to a data directory.",
     "output_type": "error",
     "traceback": [
      "\u001b[0;31m---------------------------------------------------------------------------\u001b[0m",
      "\u001b[0;31mOSError\u001b[0m                                   Traceback (most recent call last)",
      "\u001b[0;32m<ipython-input-14-8d092272a28e>\u001b[0m in \u001b[0;36m<module>\u001b[0;34m\u001b[0m\n\u001b[0;32m----> 1\u001b[0;31m \u001b[0mnlp\u001b[0m \u001b[0;34m=\u001b[0m \u001b[0mspacy\u001b[0m\u001b[0;34m.\u001b[0m\u001b[0mload\u001b[0m\u001b[0;34m(\u001b[0m\u001b[0;34m\"en_core_web_sm\"\u001b[0m\u001b[0;34m)\u001b[0m\u001b[0;34m\u001b[0m\u001b[0;34m\u001b[0m\u001b[0m\n\u001b[0m",
      "\u001b[0;32m~/anaconda3/lib/python3.7/site-packages/spacy/__init__.py\u001b[0m in \u001b[0;36mload\u001b[0;34m(name, **overrides)\u001b[0m\n\u001b[1;32m     25\u001b[0m     \u001b[0;32mif\u001b[0m \u001b[0mdepr_path\u001b[0m \u001b[0;32mnot\u001b[0m \u001b[0;32min\u001b[0m \u001b[0;34m(\u001b[0m\u001b[0;32mTrue\u001b[0m\u001b[0;34m,\u001b[0m \u001b[0;32mFalse\u001b[0m\u001b[0;34m,\u001b[0m \u001b[0;32mNone\u001b[0m\u001b[0;34m)\u001b[0m\u001b[0;34m:\u001b[0m\u001b[0;34m\u001b[0m\u001b[0;34m\u001b[0m\u001b[0m\n\u001b[1;32m     26\u001b[0m         \u001b[0mdeprecation_warning\u001b[0m\u001b[0;34m(\u001b[0m\u001b[0mWarnings\u001b[0m\u001b[0;34m.\u001b[0m\u001b[0mW001\u001b[0m\u001b[0;34m.\u001b[0m\u001b[0mformat\u001b[0m\u001b[0;34m(\u001b[0m\u001b[0mpath\u001b[0m\u001b[0;34m=\u001b[0m\u001b[0mdepr_path\u001b[0m\u001b[0;34m)\u001b[0m\u001b[0;34m)\u001b[0m\u001b[0;34m\u001b[0m\u001b[0;34m\u001b[0m\u001b[0m\n\u001b[0;32m---> 27\u001b[0;31m     \u001b[0;32mreturn\u001b[0m \u001b[0mutil\u001b[0m\u001b[0;34m.\u001b[0m\u001b[0mload_model\u001b[0m\u001b[0;34m(\u001b[0m\u001b[0mname\u001b[0m\u001b[0;34m,\u001b[0m \u001b[0;34m**\u001b[0m\u001b[0moverrides\u001b[0m\u001b[0;34m)\u001b[0m\u001b[0;34m\u001b[0m\u001b[0;34m\u001b[0m\u001b[0m\n\u001b[0m\u001b[1;32m     28\u001b[0m \u001b[0;34m\u001b[0m\u001b[0m\n\u001b[1;32m     29\u001b[0m \u001b[0;34m\u001b[0m\u001b[0m\n",
      "\u001b[0;32m~/anaconda3/lib/python3.7/site-packages/spacy/util.py\u001b[0m in \u001b[0;36mload_model\u001b[0;34m(name, **overrides)\u001b[0m\n\u001b[1;32m    134\u001b[0m     \u001b[0;32melif\u001b[0m \u001b[0mhasattr\u001b[0m\u001b[0;34m(\u001b[0m\u001b[0mname\u001b[0m\u001b[0;34m,\u001b[0m \u001b[0;34m\"exists\"\u001b[0m\u001b[0;34m)\u001b[0m\u001b[0;34m:\u001b[0m  \u001b[0;31m# Path or Path-like to model data\u001b[0m\u001b[0;34m\u001b[0m\u001b[0;34m\u001b[0m\u001b[0m\n\u001b[1;32m    135\u001b[0m         \u001b[0;32mreturn\u001b[0m \u001b[0mload_model_from_path\u001b[0m\u001b[0;34m(\u001b[0m\u001b[0mname\u001b[0m\u001b[0;34m,\u001b[0m \u001b[0;34m**\u001b[0m\u001b[0moverrides\u001b[0m\u001b[0;34m)\u001b[0m\u001b[0;34m\u001b[0m\u001b[0;34m\u001b[0m\u001b[0m\n\u001b[0;32m--> 136\u001b[0;31m     \u001b[0;32mraise\u001b[0m \u001b[0mIOError\u001b[0m\u001b[0;34m(\u001b[0m\u001b[0mErrors\u001b[0m\u001b[0;34m.\u001b[0m\u001b[0mE050\u001b[0m\u001b[0;34m.\u001b[0m\u001b[0mformat\u001b[0m\u001b[0;34m(\u001b[0m\u001b[0mname\u001b[0m\u001b[0;34m=\u001b[0m\u001b[0mname\u001b[0m\u001b[0;34m)\u001b[0m\u001b[0;34m)\u001b[0m\u001b[0;34m\u001b[0m\u001b[0;34m\u001b[0m\u001b[0m\n\u001b[0m\u001b[1;32m    137\u001b[0m \u001b[0;34m\u001b[0m\u001b[0m\n\u001b[1;32m    138\u001b[0m \u001b[0;34m\u001b[0m\u001b[0m\n",
      "\u001b[0;31mOSError\u001b[0m: [E050] Can't find model 'en_core_web_sm'. It doesn't seem to be a shortcut link, a Python package or a valid path to a data directory."
     ]
    }
   ],
   "source": [
    "nlp = spacy.load(\"en_core_web_sm\")"
   ]
  },
  {
   "cell_type": "code",
   "execution_count": 18,
   "metadata": {},
   "outputs": [
    {
     "data": {
      "text/html": [
       "<div>\n",
       "<style scoped>\n",
       "    .dataframe tbody tr th:only-of-type {\n",
       "        vertical-align: middle;\n",
       "    }\n",
       "\n",
       "    .dataframe tbody tr th {\n",
       "        vertical-align: top;\n",
       "    }\n",
       "\n",
       "    .dataframe thead th {\n",
       "        text-align: right;\n",
       "    }\n",
       "</style>\n",
       "<table border=\"1\" class=\"dataframe\">\n",
       "  <thead>\n",
       "    <tr style=\"text-align: right;\">\n",
       "      <th></th>\n",
       "      <th>content_polarity</th>\n",
       "      <th>pos</th>\n",
       "      <th>neu</th>\n",
       "      <th>neg</th>\n",
       "    </tr>\n",
       "  </thead>\n",
       "  <tbody>\n",
       "    <tr>\n",
       "      <th>0</th>\n",
       "      <td>-0.212500</td>\n",
       "      <td>0.068</td>\n",
       "      <td>0.932</td>\n",
       "      <td>0.000</td>\n",
       "    </tr>\n",
       "    <tr>\n",
       "      <th>1</th>\n",
       "      <td>0.107273</td>\n",
       "      <td>0.000</td>\n",
       "      <td>1.000</td>\n",
       "      <td>0.000</td>\n",
       "    </tr>\n",
       "    <tr>\n",
       "      <th>2</th>\n",
       "      <td>0.600000</td>\n",
       "      <td>0.096</td>\n",
       "      <td>0.831</td>\n",
       "      <td>0.073</td>\n",
       "    </tr>\n",
       "    <tr>\n",
       "      <th>3</th>\n",
       "      <td>0.000000</td>\n",
       "      <td>0.000</td>\n",
       "      <td>1.000</td>\n",
       "      <td>0.000</td>\n",
       "    </tr>\n",
       "    <tr>\n",
       "      <th>4</th>\n",
       "      <td>0.050000</td>\n",
       "      <td>0.000</td>\n",
       "      <td>1.000</td>\n",
       "      <td>0.000</td>\n",
       "    </tr>\n",
       "  </tbody>\n",
       "</table>\n",
       "</div>"
      ],
      "text/plain": [
       "   content_polarity    pos    neu    neg\n",
       "0         -0.212500  0.068  0.932  0.000\n",
       "1          0.107273  0.000  1.000  0.000\n",
       "2          0.600000  0.096  0.831  0.073\n",
       "3          0.000000  0.000  1.000  0.000\n",
       "4          0.050000  0.000  1.000  0.000"
      ]
     },
     "execution_count": 18,
     "metadata": {},
     "output_type": "execute_result"
    }
   ],
   "source": [
    "testing_numbers[['content_polarity','pos','neu','neg']].head()"
   ]
  },
  {
   "cell_type": "code",
   "execution_count": 30,
   "metadata": {},
   "outputs": [],
   "source": [
    "from vaderSentiment.vaderSentiment import SentimentIntensityAnalyzer\n",
    "analyser = SentimentIntensityAnalyzer()"
   ]
  },
  {
   "cell_type": "code",
   "execution_count": 22,
   "metadata": {},
   "outputs": [],
   "source": [
    "from nltk.sentiment.sentiment_analyzer import SentimentAnalyzer"
   ]
  },
  {
   "cell_type": "code",
   "execution_count": 27,
   "metadata": {},
   "outputs": [],
   "source": [
    "analyser = SentimentAnalyzer()"
   ]
  },
  {
   "cell_type": "code",
   "execution_count": 31,
   "metadata": {},
   "outputs": [],
   "source": [
    "def sentiment_analyzer_scores(sentence):\n",
    "    score = analyser.polarity_scores(sentence)\n",
    "    return score"
   ]
  },
  {
   "cell_type": "code",
   "execution_count": 34,
   "metadata": {},
   "outputs": [
    {
     "data": {
      "text/plain": [
       "\"Adobe Inc and Microsoft Corp are partnering to bolster each other's sales and marketing software capabilities, taking aim at common rival Salesforce.com Inc, they said on Tuesday. Adobe and Microsoft hope to make it easier for users of Adobe's marketing softw…\""
      ]
     },
     "execution_count": 34,
     "metadata": {},
     "output_type": "execute_result"
    }
   ],
   "source": [
    "big_df['description'][0]"
   ]
  },
  {
   "cell_type": "code",
   "execution_count": 36,
   "metadata": {},
   "outputs": [
    {
     "data": {
      "text/plain": [
       "{'neg': 0.0, 'neu': 0.872, 'pos': 0.128, 'compound': 0.6908}"
      ]
     },
     "execution_count": 36,
     "metadata": {},
     "output_type": "execute_result"
    }
   ],
   "source": [
    "sentiment_analyzer_scores(big_df['description'][0])"
   ]
  },
  {
   "cell_type": "code",
   "execution_count": 38,
   "metadata": {},
   "outputs": [
    {
     "data": {
      "text/plain": [
       "\"Adobe, Microsoft to take on Salesforce's marketing software, with LinkedIn as a weapon\""
      ]
     },
     "execution_count": 38,
     "metadata": {},
     "output_type": "execute_result"
    }
   ],
   "source": [
    "big_df['title'][0]"
   ]
  },
  {
   "cell_type": "code",
   "execution_count": 37,
   "metadata": {},
   "outputs": [
    {
     "data": {
      "text/plain": [
       "{'neg': 0.167, 'neu': 0.833, 'pos': 0.0, 'compound': -0.296}"
      ]
     },
     "execution_count": 37,
     "metadata": {},
     "output_type": "execute_result"
    }
   ],
   "source": [
    "sentiment_analyzer_scores(big_df['title'][0])"
   ]
  },
  {
   "cell_type": "code",
   "execution_count": 39,
   "metadata": {},
   "outputs": [
    {
     "name": "stdout",
     "output_type": "stream",
     "text": [
      "Collecting en_core_web_sm==2.1.0 from https://github.com/explosion/spacy-models/releases/download/en_core_web_sm-2.1.0/en_core_web_sm-2.1.0.tar.gz#egg=en_core_web_sm==2.1.0\n",
      "\u001b[?25l  Downloading https://github.com/explosion/spacy-models/releases/download/en_core_web_sm-2.1.0/en_core_web_sm-2.1.0.tar.gz (11.1MB)\n",
      "\u001b[K    100% |████████████████████████████████| 11.1MB 13.2MB/s \n",
      "\u001b[?25hInstalling collected packages: en-core-web-sm\n",
      "  Running setup.py install for en-core-web-sm ... \u001b[?25ldone\n",
      "\u001b[?25hSuccessfully installed en-core-web-sm-2.1.0\n",
      "\u001b[38;5;2m✔ Download and installation successful\u001b[0m\n",
      "You can now load the model via spacy.load('en_core_web_sm')\n",
      "\u001b[38;5;2m✔ Linking successful\u001b[0m\n",
      "/Users/anthonyplata/anaconda3/lib/python3.7/site-packages/en_core_web_sm -->\n",
      "/Users/anthonyplata/anaconda3/lib/python3.7/site-packages/spacy/data/en\n",
      "You can now load the model via spacy.load('en')\n"
     ]
    }
   ],
   "source": [
    "!python -m spacy download en"
   ]
  },
  {
   "cell_type": "code",
   "execution_count": 44,
   "metadata": {},
   "outputs": [
    {
     "name": "stdout",
     "output_type": "stream",
     "text": [
      "{'neg': 0.0, 'neu': 0.596, 'pos': 0.404, 'compound': 0.5242}\n"
     ]
    }
   ],
   "source": [
    "from spacy.tokens import Doc\n",
    "from nltk.sentiment.vader import SentimentIntensityAnalyzer\n",
    "\n",
    "sentiment_analyzer = SentimentIntensityAnalyzer()\n",
    "def polarity_scores(doc):\n",
    "    return sentiment_analyzer.polarity_scores(doc.text)\n",
    " \n",
    "Doc.set_extension('polarity_scores', getter=polarity_scores, force = True)\n",
    " \n",
    "nlp = spacy.load('en')\n",
    "doc = nlp(\"Really Whaaat event apple nice! it!\")\n",
    "print(doc._.polarity_scores)"
   ]
  },
  {
   "cell_type": "code",
   "execution_count": 51,
   "metadata": {},
   "outputs": [
    {
     "name": "stdout",
     "output_type": "stream",
     "text": [
      "after boston move, alexion employees see 34 percent pay bump boston business journal employees at alexion pharmaceuticals inc. not only got a view of the seaport when they moved to boston last year, but also saw a nearly 34 percent increase in...\n"
     ]
    }
   ],
   "source": [
    "doc = nlp(big_df['description'][3].lower())\n",
    "print(doc)"
   ]
  },
  {
   "cell_type": "code",
   "execution_count": 52,
   "metadata": {},
   "outputs": [
    {
     "data": {
      "text/plain": [
       "{'neg': 0.028, 'neu': 0.902, 'pos': 0.07, 'compound': 0.4118}"
      ]
     },
     "execution_count": 52,
     "metadata": {},
     "output_type": "execute_result"
    }
   ],
   "source": [
    "doc._.polarity_scores"
   ]
  },
  {
   "cell_type": "code",
   "execution_count": 60,
   "metadata": {},
   "outputs": [
    {
     "data": {
      "text/plain": [
       "{'neg': 0.0, 'neu': 1.0, 'pos': 0.0, 'compound': 0.0}"
      ]
     },
     "execution_count": 60,
     "metadata": {},
     "output_type": "execute_result"
    }
   ],
   "source": [
    "doc = nlp(\"battery life camera short\")\n",
    "doc._.polarity_scores"
   ]
  },
  {
   "cell_type": "code",
   "execution_count": 62,
   "metadata": {},
   "outputs": [],
   "source": [
    "big_df['spaCy_tok_desc'] = [nlp(i) for i in big_df['description']]"
   ]
  },
  {
   "cell_type": "code",
   "execution_count": 65,
   "metadata": {},
   "outputs": [],
   "source": [
    "the_vader = [doc._.polarity_scores for doc in big_df['spaCy_tok_desc']]"
   ]
  },
  {
   "cell_type": "code",
   "execution_count": 68,
   "metadata": {},
   "outputs": [],
   "source": [
    "the_vader = pd.DataFrame(the_vader)"
   ]
  },
  {
   "cell_type": "code",
   "execution_count": 75,
   "metadata": {},
   "outputs": [
    {
     "data": {
      "text/html": [
       "<div>\n",
       "<style scoped>\n",
       "    .dataframe tbody tr th:only-of-type {\n",
       "        vertical-align: middle;\n",
       "    }\n",
       "\n",
       "    .dataframe tbody tr th {\n",
       "        vertical-align: top;\n",
       "    }\n",
       "\n",
       "    .dataframe thead th {\n",
       "        text-align: right;\n",
       "    }\n",
       "</style>\n",
       "<table border=\"1\" class=\"dataframe\">\n",
       "  <thead>\n",
       "    <tr style=\"text-align: right;\">\n",
       "      <th></th>\n",
       "      <th>compound</th>\n",
       "      <th>neg</th>\n",
       "      <th>neu</th>\n",
       "      <th>pos</th>\n",
       "    </tr>\n",
       "  </thead>\n",
       "  <tbody>\n",
       "    <tr>\n",
       "      <th>0</th>\n",
       "      <td>0.6908</td>\n",
       "      <td>0.000</td>\n",
       "      <td>0.872</td>\n",
       "      <td>0.128</td>\n",
       "    </tr>\n",
       "    <tr>\n",
       "      <th>1</th>\n",
       "      <td>0.0000</td>\n",
       "      <td>0.000</td>\n",
       "      <td>1.000</td>\n",
       "      <td>0.000</td>\n",
       "    </tr>\n",
       "    <tr>\n",
       "      <th>2</th>\n",
       "      <td>0.0000</td>\n",
       "      <td>0.000</td>\n",
       "      <td>1.000</td>\n",
       "      <td>0.000</td>\n",
       "    </tr>\n",
       "    <tr>\n",
       "      <th>3</th>\n",
       "      <td>0.4118</td>\n",
       "      <td>0.028</td>\n",
       "      <td>0.902</td>\n",
       "      <td>0.070</td>\n",
       "    </tr>\n",
       "    <tr>\n",
       "      <th>4</th>\n",
       "      <td>0.0000</td>\n",
       "      <td>0.000</td>\n",
       "      <td>1.000</td>\n",
       "      <td>0.000</td>\n",
       "    </tr>\n",
       "  </tbody>\n",
       "</table>\n",
       "</div>"
      ],
      "text/plain": [
       "   compound    neg    neu    pos\n",
       "0    0.6908  0.000  0.872  0.128\n",
       "1    0.0000  0.000  1.000  0.000\n",
       "2    0.0000  0.000  1.000  0.000\n",
       "3    0.4118  0.028  0.902  0.070\n",
       "4    0.0000  0.000  1.000  0.000"
      ]
     },
     "execution_count": 75,
     "metadata": {},
     "output_type": "execute_result"
    }
   ],
   "source": [
    "the_vader.head()"
   ]
  },
  {
   "cell_type": "code",
   "execution_count": 70,
   "metadata": {},
   "outputs": [
    {
     "data": {
      "text/plain": [
       "'There is one big mystery in the first-quarter GDP report - where did all the inventories come from if industrial output and imports both were weak?'"
      ]
     },
     "execution_count": 70,
     "metadata": {},
     "output_type": "execute_result"
    }
   ],
   "source": [
    "big_df['description'][1516]"
   ]
  },
  {
   "cell_type": "code",
   "execution_count": 72,
   "metadata": {},
   "outputs": [
    {
     "data": {
      "text/plain": [
       "0    Adobe Inc and Microsoft Corp are partnering to...\n",
       "1    Every weekday we bring you the Ad Age/iSpot Ho...\n",
       "2    CCL earnings call for the period ending Februa...\n",
       "3    After Boston move, Alexion employees see 34 pe...\n",
       "4    1656 – Dutch mathematician Nicolaas Hartsoeker...\n",
       "Name: clean_description, dtype: object"
      ]
     },
     "execution_count": 72,
     "metadata": {},
     "output_type": "execute_result"
    }
   ],
   "source": [
    "big_df['clean_description'] = "
   ]
  },
  {
   "cell_type": "code",
   "execution_count": 74,
   "metadata": {},
   "outputs": [
    {
     "data": {
      "text/plain": [
       "0.11737933350324134"
      ]
     },
     "execution_count": 74,
     "metadata": {},
     "output_type": "execute_result"
    }
   ],
   "source": [
    "big_df['content_polarity'].mean()"
   ]
  },
  {
   "cell_type": "code",
   "execution_count": 78,
   "metadata": {},
   "outputs": [],
   "source": [
    "import re"
   ]
  },
  {
   "cell_type": "code",
   "execution_count": 129,
   "metadata": {},
   "outputs": [],
   "source": [
    "def sentiment_spacy(searies):\n",
    "    list_of_sentiment = []\n",
    "    for sent in searies:\n",
    "        #pattern = re.sub('…','',sent)\n",
    "        #sentence = pattern2.sub('',sent)\n",
    "        doc = nlp(pattern)\n",
    "        list_of_sentiment.append(doc._.polarity_scores)\n",
    "    return pd.DataFrame(list_of_sentiment)\n",
    "        "
   ]
  },
  {
   "cell_type": "code",
   "execution_count": 130,
   "metadata": {},
   "outputs": [],
   "source": [
    "desc_vader = sentiment_spacy(big_df['clean_description'])"
   ]
  },
  {
   "cell_type": "code",
   "execution_count": 131,
   "metadata": {},
   "outputs": [
    {
     "data": {
      "text/plain": [
       "<bound method NDFrame.describe of       compound  neg  neu  pos\n",
       "0          0.0  0.0  1.0  0.0\n",
       "1          0.0  0.0  1.0  0.0\n",
       "2          0.0  0.0  1.0  0.0\n",
       "3          0.0  0.0  1.0  0.0\n",
       "4          0.0  0.0  1.0  0.0\n",
       "5          0.0  0.0  1.0  0.0\n",
       "6          0.0  0.0  1.0  0.0\n",
       "7          0.0  0.0  1.0  0.0\n",
       "8          0.0  0.0  1.0  0.0\n",
       "9          0.0  0.0  1.0  0.0\n",
       "10         0.0  0.0  1.0  0.0\n",
       "11         0.0  0.0  1.0  0.0\n",
       "12         0.0  0.0  1.0  0.0\n",
       "13         0.0  0.0  1.0  0.0\n",
       "14         0.0  0.0  1.0  0.0\n",
       "15         0.0  0.0  1.0  0.0\n",
       "16         0.0  0.0  1.0  0.0\n",
       "17         0.0  0.0  1.0  0.0\n",
       "18         0.0  0.0  1.0  0.0\n",
       "19         0.0  0.0  1.0  0.0\n",
       "20         0.0  0.0  1.0  0.0\n",
       "21         0.0  0.0  1.0  0.0\n",
       "22         0.0  0.0  1.0  0.0\n",
       "23         0.0  0.0  1.0  0.0\n",
       "24         0.0  0.0  1.0  0.0\n",
       "25         0.0  0.0  1.0  0.0\n",
       "26         0.0  0.0  1.0  0.0\n",
       "27         0.0  0.0  1.0  0.0\n",
       "28         0.0  0.0  1.0  0.0\n",
       "29         0.0  0.0  1.0  0.0\n",
       "...        ...  ...  ...  ...\n",
       "1487       0.0  0.0  1.0  0.0\n",
       "1488       0.0  0.0  1.0  0.0\n",
       "1489       0.0  0.0  1.0  0.0\n",
       "1490       0.0  0.0  1.0  0.0\n",
       "1491       0.0  0.0  1.0  0.0\n",
       "1492       0.0  0.0  1.0  0.0\n",
       "1493       0.0  0.0  1.0  0.0\n",
       "1494       0.0  0.0  1.0  0.0\n",
       "1495       0.0  0.0  1.0  0.0\n",
       "1496       0.0  0.0  1.0  0.0\n",
       "1497       0.0  0.0  1.0  0.0\n",
       "1498       0.0  0.0  1.0  0.0\n",
       "1499       0.0  0.0  1.0  0.0\n",
       "1500       0.0  0.0  1.0  0.0\n",
       "1501       0.0  0.0  1.0  0.0\n",
       "1502       0.0  0.0  1.0  0.0\n",
       "1503       0.0  0.0  1.0  0.0\n",
       "1504       0.0  0.0  1.0  0.0\n",
       "1505       0.0  0.0  1.0  0.0\n",
       "1506       0.0  0.0  1.0  0.0\n",
       "1507       0.0  0.0  1.0  0.0\n",
       "1508       0.0  0.0  1.0  0.0\n",
       "1509       0.0  0.0  1.0  0.0\n",
       "1510       0.0  0.0  1.0  0.0\n",
       "1511       0.0  0.0  1.0  0.0\n",
       "1512       0.0  0.0  1.0  0.0\n",
       "1513       0.0  0.0  1.0  0.0\n",
       "1514       0.0  0.0  1.0  0.0\n",
       "1515       0.0  0.0  1.0  0.0\n",
       "1516       0.0  0.0  1.0  0.0\n",
       "\n",
       "[1517 rows x 4 columns]>"
      ]
     },
     "execution_count": 131,
     "metadata": {},
     "output_type": "execute_result"
    }
   ],
   "source": [
    "top"
   ]
  },
  {
   "cell_type": "code",
   "execution_count": null,
   "metadata": {},
   "outputs": [],
   "source": []
  },
  {
   "cell_type": "code",
   "execution_count": null,
   "metadata": {},
   "outputs": [],
   "source": []
  },
  {
   "cell_type": "code",
   "execution_count": 121,
   "metadata": {},
   "outputs": [],
   "source": [
    "pattern1 = re.compile('http[s]?://(?:[a-zA-Z]|[0-9]|[$-_@.&+]|[!*\\(\\),]|(?:%[0-9a-fA-F][0-9a-fA-F]))+')\n",
    "text = str(big_df['clean_description'][1])\n",
    "#sentence = pattern1.sub('','',big_df['clean_description'][0])"
   ]
  },
  {
   "cell_type": "code",
   "execution_count": 122,
   "metadata": {},
   "outputs": [
    {
     "name": "stdout",
     "output_type": "stream",
     "text": [
      "Every weekday we bring you the Ad Age/iSpot Hot Spots, new TV commercials tracked by iSpot.tv, the TV ad measurement and attribution company. The ads here ran on national TV for the first time yesterday. A few highlights: A not-so-great dad offers his son a n\n"
     ]
    }
   ],
   "source": [
    "pattern = re.sub('…','',text)\n",
    "print(pattern)"
   ]
  },
  {
   "cell_type": "code",
   "execution_count": 90,
   "metadata": {},
   "outputs": [
    {
     "ename": "TypeError",
     "evalue": "expected string or bytes-like object",
     "output_type": "error",
     "traceback": [
      "\u001b[0;31m---------------------------------------------------------------------------\u001b[0m",
      "\u001b[0;31mTypeError\u001b[0m                                 Traceback (most recent call last)",
      "\u001b[0;32m<ipython-input-90-88a3e5986e3f>\u001b[0m in \u001b[0;36m<module>\u001b[0;34m\u001b[0m\n\u001b[0;32m----> 1\u001b[0;31m \u001b[0msent_df\u001b[0m \u001b[0;34m=\u001b[0m \u001b[0mcleaning_text\u001b[0m\u001b[0;34m(\u001b[0m\u001b[0mbig_df\u001b[0m\u001b[0;34m[\u001b[0m\u001b[0;34m'clean_description'\u001b[0m\u001b[0;34m]\u001b[0m\u001b[0;34m)\u001b[0m\u001b[0;34m\u001b[0m\u001b[0;34m\u001b[0m\u001b[0m\n\u001b[0m",
      "\u001b[0;32m<ipython-input-89-0edeba769132>\u001b[0m in \u001b[0;36mcleaning_text\u001b[0;34m(searies)\u001b[0m\n\u001b[1;32m      4\u001b[0m     \u001b[0mpattern2\u001b[0m \u001b[0;34m=\u001b[0m \u001b[0mre\u001b[0m\u001b[0;34m.\u001b[0m\u001b[0mcompile\u001b[0m\u001b[0;34m(\u001b[0m\u001b[0;34m'RT @:?(?:[a-zA-Z]|[0-9]|[$-_@.&+]|[!*\\(\\),]|(?:%[0-9a-fA-F][0-9a-fA-F]))+'\u001b[0m\u001b[0;34m)\u001b[0m\u001b[0;34m\u001b[0m\u001b[0;34m\u001b[0m\u001b[0m\n\u001b[1;32m      5\u001b[0m     \u001b[0;32mfor\u001b[0m \u001b[0msent\u001b[0m \u001b[0;32min\u001b[0m \u001b[0msearies\u001b[0m\u001b[0;34m:\u001b[0m\u001b[0;34m\u001b[0m\u001b[0;34m\u001b[0m\u001b[0m\n\u001b[0;32m----> 6\u001b[0;31m         \u001b[0msentence\u001b[0m \u001b[0;34m=\u001b[0m \u001b[0mpattern1\u001b[0m\u001b[0;34m.\u001b[0m\u001b[0msub\u001b[0m\u001b[0;34m(\u001b[0m\u001b[0;34m''\u001b[0m\u001b[0;34m,\u001b[0m\u001b[0msent\u001b[0m\u001b[0;34m)\u001b[0m\u001b[0;34m\u001b[0m\u001b[0;34m\u001b[0m\u001b[0m\n\u001b[0m\u001b[1;32m      7\u001b[0m         \u001b[0;31m#sentence = pattern2.sub('',sent)\u001b[0m\u001b[0;34m\u001b[0m\u001b[0;34m\u001b[0m\u001b[0;34m\u001b[0m\u001b[0m\n\u001b[1;32m      8\u001b[0m         \u001b[0mdoc\u001b[0m \u001b[0;34m=\u001b[0m \u001b[0mnlp\u001b[0m\u001b[0;34m(\u001b[0m\u001b[0mstr\u001b[0m\u001b[0;34m(\u001b[0m\u001b[0msentence\u001b[0m\u001b[0;34m)\u001b[0m\u001b[0;34m)\u001b[0m\u001b[0;34m\u001b[0m\u001b[0;34m\u001b[0m\u001b[0m\n",
      "\u001b[0;31mTypeError\u001b[0m: expected string or bytes-like object"
     ]
    }
   ],
   "source": [
    "sent_df = cleaning_text(big_df['clean_description'])"
   ]
  },
  {
   "cell_type": "code",
   "execution_count": 88,
   "metadata": {},
   "outputs": [
    {
     "name": "stdout",
     "output_type": "stream",
     "text": [
      "Python for beginner is a very cool website\n"
     ]
    }
   ],
   "source": [
    "import re\n",
    "text = \"Python for beginner is a very cool website\"\n",
    "pattern = re.sub(\"cool\", \"good\", text)\n",
    "print (text)"
   ]
  },
  {
   "cell_type": "code",
   "execution_count": 107,
   "metadata": {},
   "outputs": [
    {
     "data": {
      "text/plain": [
       "{'neg': 0.0, 'neu': 0.921, 'pos': 0.079, 'compound': 0.4404}"
      ]
     },
     "execution_count": 107,
     "metadata": {},
     "output_type": "execute_result"
    }
   ],
   "source": [
    "doc = nlp(big_df['clean_description'][5].lower())\n",
    "doc._.polarity_scores"
   ]
  },
  {
   "cell_type": "code",
   "execution_count": 103,
   "metadata": {},
   "outputs": [
    {
     "data": {
      "text/plain": [
       "'Abbott Labs (NYSE:ABT) generates its revenues from Medical Devices, Nutritionals, Diagnostics, and Generic Pharmaceuticals business. Medical Devices is the largest segment, and accounts for more than one-third of the company’s total revenues and profits. The …'"
      ]
     },
     "execution_count": 103,
     "metadata": {},
     "output_type": "execute_result"
    }
   ],
   "source": [
    "big_df['clean_description'][5]"
   ]
  },
  {
   "cell_type": "code",
   "execution_count": null,
   "metadata": {},
   "outputs": [],
   "source": []
  }
 ],
 "metadata": {
  "kernelspec": {
   "display_name": "Python 3",
   "language": "python",
   "name": "python3"
  },
  "language_info": {
   "codemirror_mode": {
    "name": "ipython",
    "version": 3
   },
   "file_extension": ".py",
   "mimetype": "text/x-python",
   "name": "python",
   "nbconvert_exporter": "python",
   "pygments_lexer": "ipython3",
   "version": "3.7.2"
  }
 },
 "nbformat": 4,
 "nbformat_minor": 2
}
