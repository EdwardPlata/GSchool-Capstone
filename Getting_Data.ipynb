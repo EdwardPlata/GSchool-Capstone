{
 "cells": [
  {
   "cell_type": "markdown",
   "metadata": {},
   "source": [
    "### Phase 1 of the Capstone\n",
    "##### Let's collect data\n",
    "##### We'll be using news-api to gather current news data for the past 30 months, since there is a limit on days and I do not want to pay for the extension ..."
   ]
  },
  {
   "cell_type": "markdown",
   "metadata": {},
   "source": [
    "Let's start with our libraries"
   ]
  },
  {
   "cell_type": "code",
   "execution_count": 64,
   "metadata": {},
   "outputs": [],
   "source": [
    "import pandas as pd\n",
    "import numpy as np\n",
    "# This will be our data cleaners and fixers\n",
    "from newsapi import NewsApiClient\n",
    "# This is how we'll be getting news data to discover sentiment\n",
    "import nltk \n",
    "# Our nlp pipeline, for any nlp cleaning tasks\n",
    "from textblob import TextBlob\n",
    "# One method on gathering sentiment (since this will be unsupervised learning)\n",
    "from vaderSentiment.vaderSentiment import SentimentIntensityAnalyzer\n",
    "# Second method of gathering sentimnet\n",
    "from iex import Stock\n",
    "# THis is how we'll be getting stock data, and find correlation between movement and setiment generated\n",
    "import plotly_express as px\n",
    "#Nice graphs\n",
    "import seaborn as sns \n",
    "# Nicer graphs than matplotlib"
   ]
  },
  {
   "cell_type": "markdown",
   "metadata": {},
   "source": [
    "##### Starting Small, let's see what we have to get"
   ]
  },
  {
   "cell_type": "code",
   "execution_count": 2,
   "metadata": {},
   "outputs": [
    {
     "data": {
      "text/html": [
       "<div>\n",
       "<style scoped>\n",
       "    .dataframe tbody tr th:only-of-type {\n",
       "        vertical-align: middle;\n",
       "    }\n",
       "\n",
       "    .dataframe tbody tr th {\n",
       "        vertical-align: top;\n",
       "    }\n",
       "\n",
       "    .dataframe thead th {\n",
       "        text-align: right;\n",
       "    }\n",
       "</style>\n",
       "<table border=\"1\" class=\"dataframe\">\n",
       "  <thead>\n",
       "    <tr style=\"text-align: right;\">\n",
       "      <th></th>\n",
       "      <th>Symbol</th>\n",
       "      <th>Name</th>\n",
       "      <th>Sector</th>\n",
       "    </tr>\n",
       "  </thead>\n",
       "  <tbody>\n",
       "    <tr>\n",
       "      <th>0</th>\n",
       "      <td>MMM</td>\n",
       "      <td>3M Company</td>\n",
       "      <td>Industrials</td>\n",
       "    </tr>\n",
       "    <tr>\n",
       "      <th>1</th>\n",
       "      <td>AOS</td>\n",
       "      <td>A.O. Smith Corp</td>\n",
       "      <td>Industrials</td>\n",
       "    </tr>\n",
       "    <tr>\n",
       "      <th>2</th>\n",
       "      <td>ABT</td>\n",
       "      <td>Abbott Laboratories</td>\n",
       "      <td>Health Care</td>\n",
       "    </tr>\n",
       "    <tr>\n",
       "      <th>3</th>\n",
       "      <td>ABBV</td>\n",
       "      <td>AbbVie Inc.</td>\n",
       "      <td>Health Care</td>\n",
       "    </tr>\n",
       "    <tr>\n",
       "      <th>4</th>\n",
       "      <td>ACN</td>\n",
       "      <td>Accenture plc</td>\n",
       "      <td>Information Technology</td>\n",
       "    </tr>\n",
       "  </tbody>\n",
       "</table>\n",
       "</div>"
      ],
      "text/plain": [
       "  Symbol                 Name                  Sector\n",
       "0    MMM           3M Company             Industrials\n",
       "1    AOS      A.O. Smith Corp             Industrials\n",
       "2    ABT  Abbott Laboratories             Health Care\n",
       "3   ABBV          AbbVie Inc.             Health Care\n",
       "4    ACN        Accenture plc  Information Technology"
      ]
     },
     "execution_count": 2,
     "metadata": {},
     "output_type": "execute_result"
    }
   ],
   "source": [
    "stocks_df = pd.read_csv('data/constituents.csv')\n",
    "stocks_df.head()"
   ]
  },
  {
   "cell_type": "markdown",
   "metadata": {},
   "source": [
    "This is how I will be getting information from. These companies. These are all securities covered under the S&P 500."
   ]
  },
  {
   "cell_type": "code",
   "execution_count": 5,
   "metadata": {},
   "outputs": [
    {
     "data": {
      "application/vnd.plotly.v1+json": {
       "config": {
        "linkText": "Export to plot.ly",
        "plotlyServerURL": "https://plot.ly",
        "responsive": true,
        "showLink": false
       },
       "data": [
        {
         "alignmentgroup": "True",
         "hovertemplate": "Sector=%{x}<extra></extra>",
         "legendgroup": "",
         "marker": {
          "color": "#636efa"
         },
         "name": "",
         "offsetgroup": "",
         "orientation": "v",
         "showlegend": false,
         "textposition": "auto",
         "type": "bar",
         "uid": "aabda262-5713-4943-996e-d75baf349c48",
         "x": [
          "Industrials",
          "Industrials",
          "Health Care",
          "Health Care",
          "Information Technology",
          "Information Technology",
          "Industrials",
          "Information Technology",
          "Consumer Discretionary",
          "Information Technology",
          "Utilities",
          "Health Care",
          "Financials",
          "Financials",
          "Health Care",
          "Materials",
          "Information Technology",
          "Industrials",
          "Materials",
          "Real Estate",
          "Health Care",
          "Health Care",
          "Industrials",
          "Health Care",
          "Information Technology",
          "Utilities",
          "Financials",
          "Information Technology",
          "Information Technology",
          "Consumer Staples",
          "Consumer Discretionary",
          "Utilities",
          "Industrials",
          "Utilities",
          "Financials",
          "Financials",
          "Real Estate",
          "Utilities",
          "Financials",
          "Health Care",
          "Industrials",
          "Health Care",
          "Information Technology",
          "Energy",
          "Information Technology",
          "Energy",
          "Information Technology",
          "Health Care",
          "Financials",
          "Energy",
          "Real Estate",
          "Information Technology",
          "Information Technology",
          "Consumer Discretionary",
          "Consumer Staples",
          "Industrials",
          "Financials",
          "Financials",
          "Telecommunication Services",
          "Information Technology",
          "Information Technology",
          "Consumer Discretionary",
          "Real Estate",
          "Materials",
          "Energy",
          "Materials",
          "Financials",
          "Health Care",
          "Financials",
          "Health Care",
          "Financials",
          "Consumer Discretionary",
          "Health Care",
          "Financials",
          "Financials",
          "Industrials",
          "Consumer Discretionary",
          "Consumer Discretionary",
          "Real Estate",
          "Health Care",
          "Financials",
          "Health Care",
          "Information Technology",
          "Consumer Staples",
          "Industrials",
          "Information Technology",
          "Energy",
          "Information Technology",
          "Consumer Staples",
          "Financials",
          "Health Care",
          "Consumer Discretionary",
          "Consumer Discretionary",
          "Industrials",
          "Financials",
          "Real Estate",
          "Consumer Discretionary",
          "Health Care",
          "Health Care",
          "Utilities",
          "Telecommunication Services",
          "Health Care",
          "Materials",
          "Financials",
          "Consumer Discretionary",
          "Energy",
          "Consumer Discretionary",
          "Financials",
          "Consumer Staples",
          "Health Care",
          "Energy",
          "Financials",
          "Industrials",
          "Information Technology",
          "Financials",
          "Financials",
          "Information Technology",
          "Financials",
          "Utilities",
          "Consumer Staples",
          "Information Technology",
          "Consumer Staples",
          "Consumer Discretionary",
          "Financials",
          "Consumer Staples",
          "Energy",
          "Energy",
          "Utilities",
          "Consumer Staples",
          "Information Technology",
          "Consumer Staples",
          "Consumer Staples",
          "Real Estate",
          "Information Technology",
          "Industrials",
          "Industrials",
          "Consumer Staples",
          "Consumer Discretionary",
          "Health Care",
          "Consumer Discretionary",
          "Health Care",
          "Industrials",
          "Industrials",
          "Health Care",
          "Energy",
          "Real Estate",
          "Financials",
          "Consumer Discretionary",
          "Consumer Discretionary",
          "Consumer Discretionary",
          "Consumer Discretionary",
          "Consumer Discretionary",
          "Utilities",
          "Industrials",
          "Materials",
          "Consumer Staples",
          "Utilities",
          "Utilities",
          "Real Estate",
          "Information Technology",
          "Financials",
          "Materials",
          "Industrials",
          "Information Technology",
          "Materials",
          "Utilities",
          "Health Care",
          "Information Technology",
          "Industrials",
          "Utilities",
          "Health Care",
          "Energy",
          "Energy",
          "Industrials",
          "Real Estate",
          "Real Estate",
          "Real Estate",
          "Consumer Staples",
          "Financials",
          "Utilities",
          "Utilities",
          "Consumer Discretionary",
          "Industrials",
          "Health Care",
          "Real Estate",
          "Energy",
          "Information Technology",
          "Information Technology",
          "Industrials",
          "Real Estate",
          "Industrials",
          "Information Technology",
          "Financials",
          "Utilities",
          "Information Technology",
          "Information Technology",
          "Industrials",
          "Industrials",
          "Materials",
          "Consumer Discretionary",
          "Consumer Discretionary",
          "Industrials",
          "Industrials",
          "Financials",
          "Materials",
          "Consumer Discretionary",
          "Consumer Discretionary",
          "Information Technology",
          "Industrials",
          "Industrials",
          "Real Estate",
          "Consumer Staples",
          "Consumer Discretionary",
          "Consumer Discretionary",
          "Health Care",
          "Information Technology",
          "Financials",
          "Consumer Discretionary",
          "Industrials",
          "Energy",
          "Consumer Discretionary",
          "Consumer Discretionary",
          "Information Technology",
          "Financials",
          "Consumer Discretionary",
          "Health Care",
          "Real Estate",
          "Energy",
          "Health Care",
          "Energy",
          "Information Technology",
          "Consumer Discretionary",
          "Health Care",
          "Consumer Discretionary",
          "Industrials",
          "Consumer Staples",
          "Real Estate",
          "Information Technology",
          "Health Care",
          "Financials",
          "Industrials",
          "Health Care",
          "Industrials",
          "Industrials",
          "Health Care",
          "Health Care",
          "Industrials",
          "Information Technology",
          "Financials",
          "Information Technology",
          "Materials",
          "Consumer Discretionary",
          "Materials",
          "Information Technology",
          "Health Care",
          "Financials",
          "Information Technology",
          "Health Care",
          "Real Estate",
          "Industrials",
          "Industrials",
          "Consumer Staples",
          "Health Care",
          "Industrials",
          "Financials",
          "Information Technology",
          "Industrials",
          "Consumer Staples",
          "Financials",
          "Consumer Staples",
          "Real Estate",
          "Energy",
          "Information Technology",
          "Consumer Discretionary",
          "Consumer Staples",
          "Consumer Staples",
          "Consumer Discretionary",
          "Industrials",
          "Health Care",
          "Information Technology",
          "Consumer Discretionary",
          "Consumer Discretionary",
          "Financials",
          "Health Care",
          "Financials",
          "Consumer Discretionary",
          "Industrials",
          "Financials",
          "Consumer Discretionary",
          "Materials",
          "Financials",
          "Real Estate",
          "Consumer Discretionary",
          "Energy",
          "Energy",
          "Consumer Discretionary",
          "Financials",
          "Materials",
          "Industrials",
          "Information Technology",
          "Consumer Discretionary",
          "Consumer Staples",
          "Consumer Discretionary",
          "Health Care",
          "Health Care",
          "Health Care",
          "Financials",
          "Health Care",
          "Consumer Discretionary",
          "Consumer Discretionary",
          "Information Technology",
          "Information Technology",
          "Information Technology",
          "Real Estate",
          "Consumer Discretionary",
          "Consumer Staples",
          "Consumer Staples",
          "Materials",
          "Consumer Staples",
          "Financials",
          "Financials",
          "Information Technology",
          "Health Care",
          "Financials",
          "Energy",
          "Financials",
          "Health Care",
          "Information Technology",
          "Information Technology",
          "Consumer Discretionary",
          "Energy",
          "Materials",
          "Consumer Discretionary",
          "Consumer Discretionary",
          "Utilities",
          "Industrials",
          "Consumer Discretionary",
          "Utilities",
          "Energy",
          "Consumer Discretionary",
          "Industrials",
          "Financials",
          "Industrials",
          "Consumer Discretionary",
          "Utilities",
          "Materials",
          "Information Technology",
          "Consumer Discretionary",
          "Energy",
          "Consumer Discretionary",
          "Energy",
          "Information Technology",
          "Industrials",
          "Materials",
          "Industrials",
          "Information Technology",
          "Information Technology",
          "Industrials",
          "Financials",
          "Consumer Staples",
          "Health Care",
          "Health Care",
          "Health Care",
          "Utilities",
          "Consumer Staples",
          "Energy",
          "Utilities",
          "Energy",
          "Financials",
          "Consumer Discretionary",
          "Materials",
          "Utilities",
          "Materials",
          "Financials",
          "Consumer Staples",
          "Financials",
          "Real Estate",
          "Financials",
          "Utilities",
          "Real Estate",
          "Consumer Discretionary",
          "Consumer Discretionary",
          "Information Technology",
          "Information Technology",
          "Industrials",
          "Health Care",
          "Energy",
          "Financials",
          "Industrials",
          "Real Estate",
          "Information Technology",
          "Real Estate",
          "Health Care",
          "Financials",
          "Industrials",
          "Health Care",
          "Industrials",
          "Industrials",
          "Industrials",
          "Industrials",
          "Consumer Discretionary",
          "Consumer Discretionary",
          "Financials",
          "Information Technology",
          "Real Estate",
          "Utilities",
          "Energy",
          "Information Technology",
          "Materials",
          "Utilities",
          "Materials",
          "Real Estate",
          "Information Technology",
          "Real Estate",
          "Consumer Discretionary",
          "Utilities",
          "Industrials",
          "Consumer Discretionary",
          "Consumer Discretionary",
          "Financials",
          "Industrials",
          "Health Care",
          "Financials",
          "Financials",
          "Information Technology",
          "Financials",
          "Information Technology",
          "Consumer Staples",
          "Financials",
          "Information Technology",
          "Consumer Discretionary",
          "Consumer Discretionary",
          "Information Technology",
          "Energy",
          "Information Technology",
          "Industrials",
          "Financials",
          "Consumer Staples",
          "Health Care",
          "Consumer Staples",
          "Materials",
          "Financials",
          "Consumer Discretionary",
          "Health Care",
          "Consumer Discretionary",
          "Consumer Discretionary",
          "Consumer Discretionary",
          "Financials",
          "Information Technology",
          "Consumer Discretionary",
          "Industrials",
          "Consumer Discretionary",
          "Consumer Discretionary",
          "Consumer Discretionary",
          "Consumer Staples",
          "Financials",
          "Real Estate",
          "Consumer Discretionary",
          "Consumer Discretionary",
          "Consumer Discretionary",
          "Industrials",
          "Industrials",
          "Health Care",
          "Industrials",
          "Industrials",
          "Industrials",
          "Health Care",
          "Financials",
          "Consumer Discretionary",
          "Energy",
          "Health Care",
          "Real Estate",
          "Information Technology",
          "Industrials",
          "Telecommunication Services",
          "Health Care",
          "Consumer Discretionary",
          "Information Technology",
          "Real Estate",
          "Materials",
          "Consumer Staples",
          "Consumer Staples",
          "Industrials",
          "Health Care",
          "Utilities",
          "Financials",
          "Real Estate",
          "Information Technology",
          "Information Technology",
          "Materials",
          "Real Estate",
          "Consumer Discretionary",
          "Energy",
          "Financials",
          "Consumer Discretionary",
          "Consumer Discretionary",
          "Utilities",
          "Information Technology",
          "Information Technology",
          "Financials",
          "Industrials",
          "Consumer Discretionary",
          "Health Care",
          "Financials",
          "Health Care"
         ],
         "xaxis": "x",
         "yaxis": "y"
        }
       ],
       "layout": {
        "barmode": "relative",
        "grid": {
         "xaxes": [
          "x"
         ],
         "xgap": 0.1,
         "xside": "bottom",
         "yaxes": [
          "y"
         ],
         "ygap": 0.1,
         "yside": "left"
        },
        "height": 600,
        "legend": {
         "tracegroupgap": 0
        },
        "margin": {
         "t": 60
        },
        "template": {
         "data": {
          "bar": [
           {
            "marker": {
             "line": {
              "color": "#E5ECF6",
              "width": 0.5
             }
            },
            "type": "bar"
           }
          ],
          "barpolar": [
           {
            "marker": {
             "line": {
              "color": "#E5ECF6",
              "width": 0.5
             }
            },
            "type": "barpolar"
           }
          ],
          "carpet": [
           {
            "aaxis": {
             "endlinecolor": "#2a3f5f",
             "gridcolor": "white",
             "linecolor": "white",
             "minorgridcolor": "white",
             "startlinecolor": "#2a3f5f"
            },
            "baxis": {
             "endlinecolor": "#2a3f5f",
             "gridcolor": "white",
             "linecolor": "white",
             "minorgridcolor": "white",
             "startlinecolor": "#2a3f5f"
            },
            "type": "carpet"
           }
          ],
          "choropleth": [
           {
            "colorbar": {
             "outlinewidth": 0,
             "ticks": ""
            },
            "type": "choropleth"
           }
          ],
          "contour": [
           {
            "autocolorscale": true,
            "colorbar": {
             "outlinewidth": 0,
             "ticks": ""
            },
            "type": "contour"
           }
          ],
          "contourcarpet": [
           {
            "colorbar": {
             "outlinewidth": 0,
             "ticks": ""
            },
            "type": "contourcarpet"
           }
          ],
          "heatmap": [
           {
            "autocolorscale": true,
            "colorbar": {
             "outlinewidth": 0,
             "ticks": ""
            },
            "type": "heatmap"
           }
          ],
          "heatmapgl": [
           {
            "colorbar": {
             "outlinewidth": 0,
             "ticks": ""
            },
            "type": "heatmapgl"
           }
          ],
          "histogram": [
           {
            "marker": {
             "colorbar": {
              "outlinewidth": 0,
              "ticks": ""
             }
            },
            "type": "histogram"
           }
          ],
          "histogram2d": [
           {
            "autocolorscale": true,
            "colorbar": {
             "outlinewidth": 0,
             "ticks": ""
            },
            "type": "histogram2d"
           }
          ],
          "histogram2dcontour": [
           {
            "autocolorscale": true,
            "colorbar": {
             "outlinewidth": 0,
             "ticks": ""
            },
            "type": "histogram2dcontour"
           }
          ],
          "mesh3d": [
           {
            "colorbar": {
             "outlinewidth": 0,
             "ticks": ""
            },
            "type": "mesh3d"
           }
          ],
          "parcoords": [
           {
            "line": {
             "colorbar": {
              "outlinewidth": 0,
              "ticks": ""
             }
            },
            "type": "parcoords"
           }
          ],
          "scatter": [
           {
            "marker": {
             "colorbar": {
              "outlinewidth": 0,
              "ticks": ""
             }
            },
            "type": "scatter"
           }
          ],
          "scatter3d": [
           {
            "marker": {
             "colorbar": {
              "outlinewidth": 0,
              "ticks": ""
             }
            },
            "type": "scatter3d"
           }
          ],
          "scattercarpet": [
           {
            "marker": {
             "colorbar": {
              "outlinewidth": 0,
              "ticks": ""
             }
            },
            "type": "scattercarpet"
           }
          ],
          "scattergeo": [
           {
            "marker": {
             "colorbar": {
              "outlinewidth": 0,
              "ticks": ""
             }
            },
            "type": "scattergeo"
           }
          ],
          "scattergl": [
           {
            "marker": {
             "colorbar": {
              "outlinewidth": 0,
              "ticks": ""
             }
            },
            "type": "scattergl"
           }
          ],
          "scattermapbox": [
           {
            "marker": {
             "colorbar": {
              "outlinewidth": 0,
              "ticks": ""
             }
            },
            "type": "scattermapbox"
           }
          ],
          "scatterpolar": [
           {
            "marker": {
             "colorbar": {
              "outlinewidth": 0,
              "ticks": ""
             }
            },
            "type": "scatterpolar"
           }
          ],
          "scatterpolargl": [
           {
            "marker": {
             "colorbar": {
              "outlinewidth": 0,
              "ticks": ""
             }
            },
            "type": "scatterpolargl"
           }
          ],
          "scatterternary": [
           {
            "marker": {
             "colorbar": {
              "outlinewidth": 0,
              "ticks": ""
             }
            },
            "type": "scatterternary"
           }
          ],
          "surface": [
           {
            "colorbar": {
             "outlinewidth": 0,
             "ticks": ""
            },
            "type": "surface"
           }
          ],
          "table": [
           {
            "cells": {
             "fill": {
              "color": "#EBF0F8"
             },
             "line": {
              "color": "white"
             }
            },
            "header": {
             "fill": {
              "color": "#C8D4E3"
             },
             "line": {
              "color": "white"
             }
            },
            "type": "table"
           }
          ]
         },
         "layout": {
          "annotationdefaults": {
           "arrowcolor": "#506784",
           "arrowhead": 0,
           "arrowwidth": 1
          },
          "colorscale": {
           "diverging": [
            [
             0,
             "#8e0152"
            ],
            [
             0.1,
             "#c51b7d"
            ],
            [
             0.2,
             "#de77ae"
            ],
            [
             0.3,
             "#f1b6da"
            ],
            [
             0.4,
             "#fde0ef"
            ],
            [
             0.5,
             "#f7f7f7"
            ],
            [
             0.6,
             "#e6f5d0"
            ],
            [
             0.7,
             "#b8e186"
            ],
            [
             0.8,
             "#7fbc41"
            ],
            [
             0.9,
             "#4d9221"
            ],
            [
             1,
             "#276419"
            ]
           ],
           "sequential": [
            [
             0,
             "#0508b8"
            ],
            [
             0.0893854748603352,
             "#1910d8"
            ],
            [
             0.1787709497206704,
             "#3c19f0"
            ],
            [
             0.2681564245810056,
             "#6b1cfb"
            ],
            [
             0.3575418994413408,
             "#981cfd"
            ],
            [
             0.44692737430167595,
             "#bf1cfd"
            ],
            [
             0.5363128491620112,
             "#dd2bfd"
            ],
            [
             0.6256983240223464,
             "#f246fe"
            ],
            [
             0.7150837988826816,
             "#fc67fd"
            ],
            [
             0.8044692737430168,
             "#fe88fc"
            ],
            [
             0.8938547486033519,
             "#fea5fd"
            ],
            [
             0.9832402234636871,
             "#febefe"
            ],
            [
             1,
             "#fec3fe"
            ]
           ],
           "sequentialminus": [
            [
             0,
             "#0508b8"
            ],
            [
             0.0893854748603352,
             "#1910d8"
            ],
            [
             0.1787709497206704,
             "#3c19f0"
            ],
            [
             0.2681564245810056,
             "#6b1cfb"
            ],
            [
             0.3575418994413408,
             "#981cfd"
            ],
            [
             0.44692737430167595,
             "#bf1cfd"
            ],
            [
             0.5363128491620112,
             "#dd2bfd"
            ],
            [
             0.6256983240223464,
             "#f246fe"
            ],
            [
             0.7150837988826816,
             "#fc67fd"
            ],
            [
             0.8044692737430168,
             "#fe88fc"
            ],
            [
             0.8938547486033519,
             "#fea5fd"
            ],
            [
             0.9832402234636871,
             "#febefe"
            ],
            [
             1,
             "#fec3fe"
            ]
           ]
          },
          "colorway": [
           "#636efa",
           "#EF553B",
           "#00cc96",
           "#ab63fa",
           "#19d3f3",
           "#e763fa",
           "#FECB52",
           "#FFA15A",
           "#FF6692",
           "#B6E880"
          ],
          "font": {
           "color": "#2a3f5f"
          },
          "geo": {
           "bgcolor": "white",
           "lakecolor": "white",
           "landcolor": "#E5ECF6",
           "showlakes": true,
           "showland": true,
           "subunitcolor": "white"
          },
          "hoverlabel": {
           "align": "left"
          },
          "hovermode": "closest",
          "mapbox": {
           "style": "light"
          },
          "paper_bgcolor": "white",
          "plot_bgcolor": "#E5ECF6",
          "polar": {
           "angularaxis": {
            "gridcolor": "white",
            "linecolor": "white",
            "ticks": ""
           },
           "bgcolor": "#E5ECF6",
           "radialaxis": {
            "gridcolor": "white",
            "linecolor": "white",
            "ticks": ""
           }
          },
          "scene": {
           "xaxis": {
            "backgroundcolor": "#E5ECF6",
            "gridcolor": "white",
            "gridwidth": 2,
            "linecolor": "white",
            "showbackground": true,
            "ticks": "",
            "zerolinecolor": "white"
           },
           "yaxis": {
            "backgroundcolor": "#E5ECF6",
            "gridcolor": "white",
            "gridwidth": 2,
            "linecolor": "white",
            "showbackground": true,
            "ticks": "",
            "zerolinecolor": "white"
           },
           "zaxis": {
            "backgroundcolor": "#E5ECF6",
            "gridcolor": "white",
            "gridwidth": 2,
            "linecolor": "white",
            "showbackground": true,
            "ticks": "",
            "zerolinecolor": "white"
           }
          },
          "shapedefaults": {
           "fillcolor": "#506784",
           "line": {
            "width": 0
           },
           "opacity": 0.4
          },
          "ternary": {
           "aaxis": {
            "gridcolor": "white",
            "linecolor": "white",
            "ticks": ""
           },
           "baxis": {
            "gridcolor": "white",
            "linecolor": "white",
            "ticks": ""
           },
           "bgcolor": "#E5ECF6",
           "caxis": {
            "gridcolor": "white",
            "linecolor": "white",
            "ticks": ""
           }
          },
          "title": {
           "x": 0.05
          },
          "xaxis": {
           "automargin": true,
           "gridcolor": "white",
           "linecolor": "white",
           "ticks": "",
           "zerolinecolor": "white",
           "zerolinewidth": 2
          },
          "yaxis": {
           "automargin": true,
           "gridcolor": "white",
           "linecolor": "white",
           "ticks": "",
           "zerolinecolor": "white",
           "zerolinewidth": 2
          }
         }
        },
        "xaxis": {
         "title": {
          "text": "Sector"
         }
        }
       }
      },
      "text/html": [
       "<div>\n",
       "        \n",
       "        \n",
       "            <div id=\"2dfe521a-c21f-4a62-9d9f-d4c283f2fa2a\" class=\"plotly-graph-div\" style=\"height:600px; width:100%;\"></div>\n",
       "            <script type=\"text/javascript\">\n",
       "                require([\"plotly\"], function(Plotly) {\n",
       "                    window.PLOTLYENV=window.PLOTLYENV || {};\n",
       "                    window.PLOTLYENV.BASE_URL='https://plot.ly';\n",
       "                    \n",
       "                if (document.getElementById(\"2dfe521a-c21f-4a62-9d9f-d4c283f2fa2a\")) {\n",
       "                    Plotly.newPlot(\n",
       "                        '2dfe521a-c21f-4a62-9d9f-d4c283f2fa2a',\n",
       "                        [{\"alignmentgroup\": \"True\", \"hovertemplate\": \"Sector=%{x}<extra></extra>\", \"legendgroup\": \"\", \"marker\": {\"color\": \"#636efa\"}, \"name\": \"\", \"offsetgroup\": \"\", \"orientation\": \"v\", \"showlegend\": false, \"textposition\": \"auto\", \"type\": \"bar\", \"uid\": \"ee8a4a57-45cb-4315-bd4e-7ed885e612e0\", \"x\": [\"Industrials\", \"Industrials\", \"Health Care\", \"Health Care\", \"Information Technology\", \"Information Technology\", \"Industrials\", \"Information Technology\", \"Consumer Discretionary\", \"Information Technology\", \"Utilities\", \"Health Care\", \"Financials\", \"Financials\", \"Health Care\", \"Materials\", \"Information Technology\", \"Industrials\", \"Materials\", \"Real Estate\", \"Health Care\", \"Health Care\", \"Industrials\", \"Health Care\", \"Information Technology\", \"Utilities\", \"Financials\", \"Information Technology\", \"Information Technology\", \"Consumer Staples\", \"Consumer Discretionary\", \"Utilities\", \"Industrials\", \"Utilities\", \"Financials\", \"Financials\", \"Real Estate\", \"Utilities\", \"Financials\", \"Health Care\", \"Industrials\", \"Health Care\", \"Information Technology\", \"Energy\", \"Information Technology\", \"Energy\", \"Information Technology\", \"Health Care\", \"Financials\", \"Energy\", \"Real Estate\", \"Information Technology\", \"Information Technology\", \"Consumer Discretionary\", \"Consumer Staples\", \"Industrials\", \"Financials\", \"Financials\", \"Telecommunication Services\", \"Information Technology\", \"Information Technology\", \"Consumer Discretionary\", \"Real Estate\", \"Materials\", \"Energy\", \"Materials\", \"Financials\", \"Health Care\", \"Financials\", \"Health Care\", \"Financials\", \"Consumer Discretionary\", \"Health Care\", \"Financials\", \"Financials\", \"Industrials\", \"Consumer Discretionary\", \"Consumer Discretionary\", \"Real Estate\", \"Health Care\", \"Financials\", \"Health Care\", \"Information Technology\", \"Consumer Staples\", \"Industrials\", \"Information Technology\", \"Energy\", \"Information Technology\", \"Consumer Staples\", \"Financials\", \"Health Care\", \"Consumer Discretionary\", \"Consumer Discretionary\", \"Industrials\", \"Financials\", \"Real Estate\", \"Consumer Discretionary\", \"Health Care\", \"Health Care\", \"Utilities\", \"Telecommunication Services\", \"Health Care\", \"Materials\", \"Financials\", \"Consumer Discretionary\", \"Energy\", \"Consumer Discretionary\", \"Financials\", \"Consumer Staples\", \"Health Care\", \"Energy\", \"Financials\", \"Industrials\", \"Information Technology\", \"Financials\", \"Financials\", \"Information Technology\", \"Financials\", \"Utilities\", \"Consumer Staples\", \"Information Technology\", \"Consumer Staples\", \"Consumer Discretionary\", \"Financials\", \"Consumer Staples\", \"Energy\", \"Energy\", \"Utilities\", \"Consumer Staples\", \"Information Technology\", \"Consumer Staples\", \"Consumer Staples\", \"Real Estate\", \"Information Technology\", \"Industrials\", \"Industrials\", \"Consumer Staples\", \"Consumer Discretionary\", \"Health Care\", \"Consumer Discretionary\", \"Health Care\", \"Industrials\", \"Industrials\", \"Health Care\", \"Energy\", \"Real Estate\", \"Financials\", \"Consumer Discretionary\", \"Consumer Discretionary\", \"Consumer Discretionary\", \"Consumer Discretionary\", \"Consumer Discretionary\", \"Utilities\", \"Industrials\", \"Materials\", \"Consumer Staples\", \"Utilities\", \"Utilities\", \"Real Estate\", \"Information Technology\", \"Financials\", \"Materials\", \"Industrials\", \"Information Technology\", \"Materials\", \"Utilities\", \"Health Care\", \"Information Technology\", \"Industrials\", \"Utilities\", \"Health Care\", \"Energy\", \"Energy\", \"Industrials\", \"Real Estate\", \"Real Estate\", \"Real Estate\", \"Consumer Staples\", \"Financials\", \"Utilities\", \"Utilities\", \"Consumer Discretionary\", \"Industrials\", \"Health Care\", \"Real Estate\", \"Energy\", \"Information Technology\", \"Information Technology\", \"Industrials\", \"Real Estate\", \"Industrials\", \"Information Technology\", \"Financials\", \"Utilities\", \"Information Technology\", \"Information Technology\", \"Industrials\", \"Industrials\", \"Materials\", \"Consumer Discretionary\", \"Consumer Discretionary\", \"Industrials\", \"Industrials\", \"Financials\", \"Materials\", \"Consumer Discretionary\", \"Consumer Discretionary\", \"Information Technology\", \"Industrials\", \"Industrials\", \"Real Estate\", \"Consumer Staples\", \"Consumer Discretionary\", \"Consumer Discretionary\", \"Health Care\", \"Information Technology\", \"Financials\", \"Consumer Discretionary\", \"Industrials\", \"Energy\", \"Consumer Discretionary\", \"Consumer Discretionary\", \"Information Technology\", \"Financials\", \"Consumer Discretionary\", \"Health Care\", \"Real Estate\", \"Energy\", \"Health Care\", \"Energy\", \"Information Technology\", \"Consumer Discretionary\", \"Health Care\", \"Consumer Discretionary\", \"Industrials\", \"Consumer Staples\", \"Real Estate\", \"Information Technology\", \"Health Care\", \"Financials\", \"Industrials\", \"Health Care\", \"Industrials\", \"Industrials\", \"Health Care\", \"Health Care\", \"Industrials\", \"Information Technology\", \"Financials\", \"Information Technology\", \"Materials\", \"Consumer Discretionary\", \"Materials\", \"Information Technology\", \"Health Care\", \"Financials\", \"Information Technology\", \"Health Care\", \"Real Estate\", \"Industrials\", \"Industrials\", \"Consumer Staples\", \"Health Care\", \"Industrials\", \"Financials\", \"Information Technology\", \"Industrials\", \"Consumer Staples\", \"Financials\", \"Consumer Staples\", \"Real Estate\", \"Energy\", \"Information Technology\", \"Consumer Discretionary\", \"Consumer Staples\", \"Consumer Staples\", \"Consumer Discretionary\", \"Industrials\", \"Health Care\", \"Information Technology\", \"Consumer Discretionary\", \"Consumer Discretionary\", \"Financials\", \"Health Care\", \"Financials\", \"Consumer Discretionary\", \"Industrials\", \"Financials\", \"Consumer Discretionary\", \"Materials\", \"Financials\", \"Real Estate\", \"Consumer Discretionary\", \"Energy\", \"Energy\", \"Consumer Discretionary\", \"Financials\", \"Materials\", \"Industrials\", \"Information Technology\", \"Consumer Discretionary\", \"Consumer Staples\", \"Consumer Discretionary\", \"Health Care\", \"Health Care\", \"Health Care\", \"Financials\", \"Health Care\", \"Consumer Discretionary\", \"Consumer Discretionary\", \"Information Technology\", \"Information Technology\", \"Information Technology\", \"Real Estate\", \"Consumer Discretionary\", \"Consumer Staples\", \"Consumer Staples\", \"Materials\", \"Consumer Staples\", \"Financials\", \"Financials\", \"Information Technology\", \"Health Care\", \"Financials\", \"Energy\", \"Financials\", \"Health Care\", \"Information Technology\", \"Information Technology\", \"Consumer Discretionary\", \"Energy\", \"Materials\", \"Consumer Discretionary\", \"Consumer Discretionary\", \"Utilities\", \"Industrials\", \"Consumer Discretionary\", \"Utilities\", \"Energy\", \"Consumer Discretionary\", \"Industrials\", \"Financials\", \"Industrials\", \"Consumer Discretionary\", \"Utilities\", \"Materials\", \"Information Technology\", \"Consumer Discretionary\", \"Energy\", \"Consumer Discretionary\", \"Energy\", \"Information Technology\", \"Industrials\", \"Materials\", \"Industrials\", \"Information Technology\", \"Information Technology\", \"Industrials\", \"Financials\", \"Consumer Staples\", \"Health Care\", \"Health Care\", \"Health Care\", \"Utilities\", \"Consumer Staples\", \"Energy\", \"Utilities\", \"Energy\", \"Financials\", \"Consumer Discretionary\", \"Materials\", \"Utilities\", \"Materials\", \"Financials\", \"Consumer Staples\", \"Financials\", \"Real Estate\", \"Financials\", \"Utilities\", \"Real Estate\", \"Consumer Discretionary\", \"Consumer Discretionary\", \"Information Technology\", \"Information Technology\", \"Industrials\", \"Health Care\", \"Energy\", \"Financials\", \"Industrials\", \"Real Estate\", \"Information Technology\", \"Real Estate\", \"Health Care\", \"Financials\", \"Industrials\", \"Health Care\", \"Industrials\", \"Industrials\", \"Industrials\", \"Industrials\", \"Consumer Discretionary\", \"Consumer Discretionary\", \"Financials\", \"Information Technology\", \"Real Estate\", \"Utilities\", \"Energy\", \"Information Technology\", \"Materials\", \"Utilities\", \"Materials\", \"Real Estate\", \"Information Technology\", \"Real Estate\", \"Consumer Discretionary\", \"Utilities\", \"Industrials\", \"Consumer Discretionary\", \"Consumer Discretionary\", \"Financials\", \"Industrials\", \"Health Care\", \"Financials\", \"Financials\", \"Information Technology\", \"Financials\", \"Information Technology\", \"Consumer Staples\", \"Financials\", \"Information Technology\", \"Consumer Discretionary\", \"Consumer Discretionary\", \"Information Technology\", \"Energy\", \"Information Technology\", \"Industrials\", \"Financials\", \"Consumer Staples\", \"Health Care\", \"Consumer Staples\", \"Materials\", \"Financials\", \"Consumer Discretionary\", \"Health Care\", \"Consumer Discretionary\", \"Consumer Discretionary\", \"Consumer Discretionary\", \"Financials\", \"Information Technology\", \"Consumer Discretionary\", \"Industrials\", \"Consumer Discretionary\", \"Consumer Discretionary\", \"Consumer Discretionary\", \"Consumer Staples\", \"Financials\", \"Real Estate\", \"Consumer Discretionary\", \"Consumer Discretionary\", \"Consumer Discretionary\", \"Industrials\", \"Industrials\", \"Health Care\", \"Industrials\", \"Industrials\", \"Industrials\", \"Health Care\", \"Financials\", \"Consumer Discretionary\", \"Energy\", \"Health Care\", \"Real Estate\", \"Information Technology\", \"Industrials\", \"Telecommunication Services\", \"Health Care\", \"Consumer Discretionary\", \"Information Technology\", \"Real Estate\", \"Materials\", \"Consumer Staples\", \"Consumer Staples\", \"Industrials\", \"Health Care\", \"Utilities\", \"Financials\", \"Real Estate\", \"Information Technology\", \"Information Technology\", \"Materials\", \"Real Estate\", \"Consumer Discretionary\", \"Energy\", \"Financials\", \"Consumer Discretionary\", \"Consumer Discretionary\", \"Utilities\", \"Information Technology\", \"Information Technology\", \"Financials\", \"Industrials\", \"Consumer Discretionary\", \"Health Care\", \"Financials\", \"Health Care\"], \"xaxis\": \"x\", \"yaxis\": \"y\"}],\n",
       "                        {\"barmode\": \"relative\", \"grid\": {\"xaxes\": [\"x\"], \"xgap\": 0.1, \"xside\": \"bottom\", \"yaxes\": [\"y\"], \"ygap\": 0.1, \"yside\": \"left\"}, \"height\": 600, \"legend\": {\"tracegroupgap\": 0}, \"margin\": {\"t\": 60}, \"template\": {\"data\": {\"bar\": [{\"marker\": {\"line\": {\"color\": \"#E5ECF6\", \"width\": 0.5}}, \"type\": \"bar\"}], \"barpolar\": [{\"marker\": {\"line\": {\"color\": \"#E5ECF6\", \"width\": 0.5}}, \"type\": \"barpolar\"}], \"carpet\": [{\"aaxis\": {\"endlinecolor\": \"#2a3f5f\", \"gridcolor\": \"white\", \"linecolor\": \"white\", \"minorgridcolor\": \"white\", \"startlinecolor\": \"#2a3f5f\"}, \"baxis\": {\"endlinecolor\": \"#2a3f5f\", \"gridcolor\": \"white\", \"linecolor\": \"white\", \"minorgridcolor\": \"white\", \"startlinecolor\": \"#2a3f5f\"}, \"type\": \"carpet\"}], \"choropleth\": [{\"colorbar\": {\"outlinewidth\": 0, \"ticks\": \"\"}, \"type\": \"choropleth\"}], \"contour\": [{\"autocolorscale\": true, \"colorbar\": {\"outlinewidth\": 0, \"ticks\": \"\"}, \"type\": \"contour\"}], \"contourcarpet\": [{\"colorbar\": {\"outlinewidth\": 0, \"ticks\": \"\"}, \"type\": \"contourcarpet\"}], \"heatmap\": [{\"autocolorscale\": true, \"colorbar\": {\"outlinewidth\": 0, \"ticks\": \"\"}, \"type\": \"heatmap\"}], \"heatmapgl\": [{\"colorbar\": {\"outlinewidth\": 0, \"ticks\": \"\"}, \"type\": \"heatmapgl\"}], \"histogram\": [{\"marker\": {\"colorbar\": {\"outlinewidth\": 0, \"ticks\": \"\"}}, \"type\": \"histogram\"}], \"histogram2d\": [{\"autocolorscale\": true, \"colorbar\": {\"outlinewidth\": 0, \"ticks\": \"\"}, \"type\": \"histogram2d\"}], \"histogram2dcontour\": [{\"autocolorscale\": true, \"colorbar\": {\"outlinewidth\": 0, \"ticks\": \"\"}, \"type\": \"histogram2dcontour\"}], \"mesh3d\": [{\"colorbar\": {\"outlinewidth\": 0, \"ticks\": \"\"}, \"type\": \"mesh3d\"}], \"parcoords\": [{\"line\": {\"colorbar\": {\"outlinewidth\": 0, \"ticks\": \"\"}}, \"type\": \"parcoords\"}], \"scatter\": [{\"marker\": {\"colorbar\": {\"outlinewidth\": 0, \"ticks\": \"\"}}, \"type\": \"scatter\"}], \"scatter3d\": [{\"marker\": {\"colorbar\": {\"outlinewidth\": 0, \"ticks\": \"\"}}, \"type\": \"scatter3d\"}], \"scattercarpet\": [{\"marker\": {\"colorbar\": {\"outlinewidth\": 0, \"ticks\": \"\"}}, \"type\": \"scattercarpet\"}], \"scattergeo\": [{\"marker\": {\"colorbar\": {\"outlinewidth\": 0, \"ticks\": \"\"}}, \"type\": \"scattergeo\"}], \"scattergl\": [{\"marker\": {\"colorbar\": {\"outlinewidth\": 0, \"ticks\": \"\"}}, \"type\": \"scattergl\"}], \"scattermapbox\": [{\"marker\": {\"colorbar\": {\"outlinewidth\": 0, \"ticks\": \"\"}}, \"type\": \"scattermapbox\"}], \"scatterpolar\": [{\"marker\": {\"colorbar\": {\"outlinewidth\": 0, \"ticks\": \"\"}}, \"type\": \"scatterpolar\"}], \"scatterpolargl\": [{\"marker\": {\"colorbar\": {\"outlinewidth\": 0, \"ticks\": \"\"}}, \"type\": \"scatterpolargl\"}], \"scatterternary\": [{\"marker\": {\"colorbar\": {\"outlinewidth\": 0, \"ticks\": \"\"}}, \"type\": \"scatterternary\"}], \"surface\": [{\"colorbar\": {\"outlinewidth\": 0, \"ticks\": \"\"}, \"type\": \"surface\"}], \"table\": [{\"cells\": {\"fill\": {\"color\": \"#EBF0F8\"}, \"line\": {\"color\": \"white\"}}, \"header\": {\"fill\": {\"color\": \"#C8D4E3\"}, \"line\": {\"color\": \"white\"}}, \"type\": \"table\"}]}, \"layout\": {\"annotationdefaults\": {\"arrowcolor\": \"#506784\", \"arrowhead\": 0, \"arrowwidth\": 1}, \"colorscale\": {\"diverging\": [[0, \"#8e0152\"], [0.1, \"#c51b7d\"], [0.2, \"#de77ae\"], [0.3, \"#f1b6da\"], [0.4, \"#fde0ef\"], [0.5, \"#f7f7f7\"], [0.6, \"#e6f5d0\"], [0.7, \"#b8e186\"], [0.8, \"#7fbc41\"], [0.9, \"#4d9221\"], [1, \"#276419\"]], \"sequential\": [[0.0, \"#0508b8\"], [0.0893854748603352, \"#1910d8\"], [0.1787709497206704, \"#3c19f0\"], [0.2681564245810056, \"#6b1cfb\"], [0.3575418994413408, \"#981cfd\"], [0.44692737430167595, \"#bf1cfd\"], [0.5363128491620112, \"#dd2bfd\"], [0.6256983240223464, \"#f246fe\"], [0.7150837988826816, \"#fc67fd\"], [0.8044692737430168, \"#fe88fc\"], [0.8938547486033519, \"#fea5fd\"], [0.9832402234636871, \"#febefe\"], [1.0, \"#fec3fe\"]], \"sequentialminus\": [[0.0, \"#0508b8\"], [0.0893854748603352, \"#1910d8\"], [0.1787709497206704, \"#3c19f0\"], [0.2681564245810056, \"#6b1cfb\"], [0.3575418994413408, \"#981cfd\"], [0.44692737430167595, \"#bf1cfd\"], [0.5363128491620112, \"#dd2bfd\"], [0.6256983240223464, \"#f246fe\"], [0.7150837988826816, \"#fc67fd\"], [0.8044692737430168, \"#fe88fc\"], [0.8938547486033519, \"#fea5fd\"], [0.9832402234636871, \"#febefe\"], [1.0, \"#fec3fe\"]]}, \"colorway\": [\"#636efa\", \"#EF553B\", \"#00cc96\", \"#ab63fa\", \"#19d3f3\", \"#e763fa\", \"#FECB52\", \"#FFA15A\", \"#FF6692\", \"#B6E880\"], \"font\": {\"color\": \"#2a3f5f\"}, \"geo\": {\"bgcolor\": \"white\", \"lakecolor\": \"white\", \"landcolor\": \"#E5ECF6\", \"showlakes\": true, \"showland\": true, \"subunitcolor\": \"white\"}, \"hoverlabel\": {\"align\": \"left\"}, \"hovermode\": \"closest\", \"mapbox\": {\"style\": \"light\"}, \"paper_bgcolor\": \"white\", \"plot_bgcolor\": \"#E5ECF6\", \"polar\": {\"angularaxis\": {\"gridcolor\": \"white\", \"linecolor\": \"white\", \"ticks\": \"\"}, \"bgcolor\": \"#E5ECF6\", \"radialaxis\": {\"gridcolor\": \"white\", \"linecolor\": \"white\", \"ticks\": \"\"}}, \"scene\": {\"xaxis\": {\"backgroundcolor\": \"#E5ECF6\", \"gridcolor\": \"white\", \"gridwidth\": 2, \"linecolor\": \"white\", \"showbackground\": true, \"ticks\": \"\", \"zerolinecolor\": \"white\"}, \"yaxis\": {\"backgroundcolor\": \"#E5ECF6\", \"gridcolor\": \"white\", \"gridwidth\": 2, \"linecolor\": \"white\", \"showbackground\": true, \"ticks\": \"\", \"zerolinecolor\": \"white\"}, \"zaxis\": {\"backgroundcolor\": \"#E5ECF6\", \"gridcolor\": \"white\", \"gridwidth\": 2, \"linecolor\": \"white\", \"showbackground\": true, \"ticks\": \"\", \"zerolinecolor\": \"white\"}}, \"shapedefaults\": {\"fillcolor\": \"#506784\", \"line\": {\"width\": 0}, \"opacity\": 0.4}, \"ternary\": {\"aaxis\": {\"gridcolor\": \"white\", \"linecolor\": \"white\", \"ticks\": \"\"}, \"baxis\": {\"gridcolor\": \"white\", \"linecolor\": \"white\", \"ticks\": \"\"}, \"bgcolor\": \"#E5ECF6\", \"caxis\": {\"gridcolor\": \"white\", \"linecolor\": \"white\", \"ticks\": \"\"}}, \"title\": {\"x\": 0.05}, \"xaxis\": {\"automargin\": true, \"gridcolor\": \"white\", \"linecolor\": \"white\", \"ticks\": \"\", \"zerolinecolor\": \"white\", \"zerolinewidth\": 2}, \"yaxis\": {\"automargin\": true, \"gridcolor\": \"white\", \"linecolor\": \"white\", \"ticks\": \"\", \"zerolinecolor\": \"white\", \"zerolinewidth\": 2}}}, \"xaxis\": {\"title\": {\"text\": \"Sector\"}}},\n",
       "                        {\"showLink\": false, \"linkText\": \"Export to plot.ly\", \"plotlyServerURL\": \"https://plot.ly\", \"responsive\": true}\n",
       "                    ).then(function(){\n",
       "                            \n",
       "var gd = document.getElementById('2dfe521a-c21f-4a62-9d9f-d4c283f2fa2a');\n",
       "var x = new MutationObserver(function (mutations, observer) {{\n",
       "        var display = window.getComputedStyle(gd).display;\n",
       "        if (!display || display === 'none') {{\n",
       "            console.log([gd, 'removed!']);\n",
       "            Plotly.purge(gd);\n",
       "            observer.disconnect();\n",
       "        }}\n",
       "}});\n",
       "\n",
       "// Listen for the removal of the full notebook cells\n",
       "var notebookContainer = gd.closest('#notebook-container');\n",
       "if (notebookContainer) {{\n",
       "    x.observe(notebookContainer, {childList: true});\n",
       "}}\n",
       "\n",
       "// Listen for the clearing of the current output cell\n",
       "var outputEl = gd.closest('.output');\n",
       "if (outputEl) {{\n",
       "    x.observe(outputEl, {childList: true});\n",
       "}}\n",
       "\n",
       "                        })\n",
       "                };\n",
       "                });\n",
       "            </script>\n",
       "        </div>"
      ]
     },
     "metadata": {},
     "output_type": "display_data"
    }
   ],
   "source": [
    "px.bar(stocks_df, x = 'Sector')"
   ]
  },
  {
   "cell_type": "markdown",
   "metadata": {},
   "source": [
    "### Let's get our news!"
   ]
  },
  {
   "cell_type": "code",
   "execution_count": 8,
   "metadata": {},
   "outputs": [
    {
     "data": {
      "text/plain": [
       "{'status': 'ok',\n",
       " 'sources': [{'id': 'abc-news',\n",
       "   'name': 'ABC News',\n",
       "   'description': 'Your trusted source for breaking news, analysis, exclusive interviews, headlines, and videos at ABCNews.com.',\n",
       "   'url': 'https://abcnews.go.com',\n",
       "   'category': 'general',\n",
       "   'language': 'en',\n",
       "   'country': 'us'},\n",
       "  {'id': 'al-jazeera-english',\n",
       "   'name': 'Al Jazeera English',\n",
       "   'description': 'News, analysis from the Middle East and worldwide, multimedia and interactives, opinions, documentaries, podcasts, long reads and broadcast schedule.',\n",
       "   'url': 'http://www.aljazeera.com',\n",
       "   'category': 'general',\n",
       "   'language': 'en',\n",
       "   'country': 'us'},\n",
       "  {'id': 'ars-technica',\n",
       "   'name': 'Ars Technica',\n",
       "   'description': \"The PC enthusiast's resource. Power users and the tools they love, without computing religion.\",\n",
       "   'url': 'http://arstechnica.com',\n",
       "   'category': 'technology',\n",
       "   'language': 'en',\n",
       "   'country': 'us'},\n",
       "  {'id': 'associated-press',\n",
       "   'name': 'Associated Press',\n",
       "   'description': 'The AP delivers in-depth coverage on the international, politics, lifestyle, business, and entertainment news.',\n",
       "   'url': 'https://apnews.com/',\n",
       "   'category': 'general',\n",
       "   'language': 'en',\n",
       "   'country': 'us'},\n",
       "  {'id': 'axios',\n",
       "   'name': 'Axios',\n",
       "   'description': 'Axios are a new media company delivering vital, trustworthy news and analysis in the most efficient, illuminating and shareable ways possible.',\n",
       "   'url': 'https://www.axios.com',\n",
       "   'category': 'general',\n",
       "   'language': 'en',\n",
       "   'country': 'us'},\n",
       "  {'id': 'bleacher-report',\n",
       "   'name': 'Bleacher Report',\n",
       "   'description': 'Sports journalists and bloggers covering NFL, MLB, NBA, NHL, MMA, college football and basketball, NASCAR, fantasy sports and more. News, photos, mock drafts, game scores, player profiles and more!',\n",
       "   'url': 'http://www.bleacherreport.com',\n",
       "   'category': 'sports',\n",
       "   'language': 'en',\n",
       "   'country': 'us'},\n",
       "  {'id': 'bloomberg',\n",
       "   'name': 'Bloomberg',\n",
       "   'description': 'Bloomberg delivers business and markets news, data, analysis, and video to the world, featuring stories from Businessweek and Bloomberg News.',\n",
       "   'url': 'http://www.bloomberg.com',\n",
       "   'category': 'business',\n",
       "   'language': 'en',\n",
       "   'country': 'us'},\n",
       "  {'id': 'breitbart-news',\n",
       "   'name': 'Breitbart News',\n",
       "   'description': 'Syndicated news and opinion website providing continuously updated headlines to top news and analysis sources.',\n",
       "   'url': 'http://www.breitbart.com',\n",
       "   'category': 'general',\n",
       "   'language': 'en',\n",
       "   'country': 'us'},\n",
       "  {'id': 'business-insider',\n",
       "   'name': 'Business Insider',\n",
       "   'description': 'Business Insider is a fast-growing business site with deep financial, media, tech, and other industry verticals. Launched in 2007, the site is now the largest business news site on the web.',\n",
       "   'url': 'http://www.businessinsider.com',\n",
       "   'category': 'business',\n",
       "   'language': 'en',\n",
       "   'country': 'us'},\n",
       "  {'id': 'buzzfeed',\n",
       "   'name': 'Buzzfeed',\n",
       "   'description': 'BuzzFeed is a cross-platform, global network for news and entertainment that generates seven billion views each month.',\n",
       "   'url': 'https://www.buzzfeed.com',\n",
       "   'category': 'entertainment',\n",
       "   'language': 'en',\n",
       "   'country': 'us'},\n",
       "  {'id': 'cbs-news',\n",
       "   'name': 'CBS News',\n",
       "   'description': 'CBS News: dedicated to providing the best in journalism under standards it pioneered at the dawn of radio and television and continue in the digital age.',\n",
       "   'url': 'http://www.cbsnews.com',\n",
       "   'category': 'general',\n",
       "   'language': 'en',\n",
       "   'country': 'us'},\n",
       "  {'id': 'cnbc',\n",
       "   'name': 'CNBC',\n",
       "   'description': 'Get latest business news on stock markets, financial & earnings on CNBC. View world markets streaming charts & video; check stock tickers and quotes.',\n",
       "   'url': 'http://www.cnbc.com',\n",
       "   'category': 'business',\n",
       "   'language': 'en',\n",
       "   'country': 'us'},\n",
       "  {'id': 'cnn',\n",
       "   'name': 'CNN',\n",
       "   'description': 'View the latest news and breaking news today for U.S., world, weather, entertainment, politics and health at CNN',\n",
       "   'url': 'http://us.cnn.com',\n",
       "   'category': 'general',\n",
       "   'language': 'en',\n",
       "   'country': 'us'},\n",
       "  {'id': 'cnn-es',\n",
       "   'name': 'CNN Spanish',\n",
       "   'description': 'Lee las últimas noticias e información sobre Latinoamérica, Estados Unidos, mundo, entretenimiento, política, salud, tecnología y deportes en CNNEspañol.com.',\n",
       "   'url': 'http://cnnespanol.cnn.com/',\n",
       "   'category': 'general',\n",
       "   'language': 'es',\n",
       "   'country': 'us'},\n",
       "  {'id': 'crypto-coins-news',\n",
       "   'name': 'Crypto Coins News',\n",
       "   'description': 'Providing breaking cryptocurrency news - focusing on Bitcoin, Ethereum, ICOs, blockchain technology, and smart contracts.',\n",
       "   'url': 'https://www.ccn.com',\n",
       "   'category': 'technology',\n",
       "   'language': 'en',\n",
       "   'country': 'us'},\n",
       "  {'id': 'engadget',\n",
       "   'name': 'Engadget',\n",
       "   'description': 'Engadget is a web magazine with obsessive daily coverage of everything new in gadgets and consumer electronics.',\n",
       "   'url': 'https://www.engadget.com',\n",
       "   'category': 'technology',\n",
       "   'language': 'en',\n",
       "   'country': 'us'},\n",
       "  {'id': 'entertainment-weekly',\n",
       "   'name': 'Entertainment Weekly',\n",
       "   'description': 'Online version of the print magazine includes entertainment news, interviews, reviews of music, film, TV and books, and a special area for magazine subscribers.',\n",
       "   'url': 'http://www.ew.com',\n",
       "   'category': 'entertainment',\n",
       "   'language': 'en',\n",
       "   'country': 'us'},\n",
       "  {'id': 'espn',\n",
       "   'name': 'ESPN',\n",
       "   'description': 'ESPN has up-to-the-minute sports news coverage, scores, highlights and commentary for NFL, MLB, NBA, College Football, NCAA Basketball and more.',\n",
       "   'url': 'http://espn.go.com',\n",
       "   'category': 'sports',\n",
       "   'language': 'en',\n",
       "   'country': 'us'},\n",
       "  {'id': 'espn-cric-info',\n",
       "   'name': 'ESPN Cric Info',\n",
       "   'description': 'ESPN Cricinfo provides the most comprehensive cricket coverage available including live ball-by-ball commentary, news, unparalleled statistics, quality editorial comment and analysis.',\n",
       "   'url': 'http://www.espncricinfo.com/',\n",
       "   'category': 'sports',\n",
       "   'language': 'en',\n",
       "   'country': 'us'},\n",
       "  {'id': 'fortune',\n",
       "   'name': 'Fortune',\n",
       "   'description': 'Fortune 500 Daily and Breaking Business News',\n",
       "   'url': 'http://fortune.com',\n",
       "   'category': 'business',\n",
       "   'language': 'en',\n",
       "   'country': 'us'},\n",
       "  {'id': 'fox-news',\n",
       "   'name': 'Fox News',\n",
       "   'description': 'Breaking News, Latest News and Current News from FOXNews.com. Breaking news and video. Latest Current News: U.S., World, Entertainment, Health, Business, Technology, Politics, Sports.',\n",
       "   'url': 'http://www.foxnews.com',\n",
       "   'category': 'general',\n",
       "   'language': 'en',\n",
       "   'country': 'us'},\n",
       "  {'id': 'fox-sports',\n",
       "   'name': 'Fox Sports',\n",
       "   'description': 'Find live scores, player and team news, videos, rumors, stats, standings, schedules and fantasy games on FOX Sports.',\n",
       "   'url': 'http://www.foxsports.com',\n",
       "   'category': 'sports',\n",
       "   'language': 'en',\n",
       "   'country': 'us'},\n",
       "  {'id': 'google-news',\n",
       "   'name': 'Google News',\n",
       "   'description': 'Comprehensive, up-to-date news coverage, aggregated from sources all over the world by Google News.',\n",
       "   'url': 'https://news.google.com',\n",
       "   'category': 'general',\n",
       "   'language': 'en',\n",
       "   'country': 'us'},\n",
       "  {'id': 'hacker-news',\n",
       "   'name': 'Hacker News',\n",
       "   'description': 'Hacker News is a social news website focusing on computer science and entrepreneurship. It is run by Paul Graham\\'s investment fund and startup incubator, Y Combinator. In general, content that can be submitted is defined as \"anything that gratifies one\\'s intellectual curiosity\".',\n",
       "   'url': 'https://news.ycombinator.com',\n",
       "   'category': 'technology',\n",
       "   'language': 'en',\n",
       "   'country': 'us'},\n",
       "  {'id': 'ign',\n",
       "   'name': 'IGN',\n",
       "   'description': 'IGN is your site for Xbox One, PS4, PC, Wii-U, Xbox 360, PS3, Wii, 3DS, PS Vita and iPhone games with expert reviews, news, previews, trailers, cheat codes, wiki guides and walkthroughs.',\n",
       "   'url': 'http://www.ign.com',\n",
       "   'category': 'entertainment',\n",
       "   'language': 'en',\n",
       "   'country': 'us'},\n",
       "  {'id': 'mashable',\n",
       "   'name': 'Mashable',\n",
       "   'description': 'Mashable is a global, multi-platform media and entertainment company.',\n",
       "   'url': 'http://mashable.com',\n",
       "   'category': 'entertainment',\n",
       "   'language': 'en',\n",
       "   'country': 'us'},\n",
       "  {'id': 'medical-news-today',\n",
       "   'name': 'Medical News Today',\n",
       "   'description': 'Medical news and health news headlines posted throughout the day, every day.',\n",
       "   'url': 'http://www.medicalnewstoday.com',\n",
       "   'category': 'health',\n",
       "   'language': 'en',\n",
       "   'country': 'us'},\n",
       "  {'id': 'msnbc',\n",
       "   'name': 'MSNBC',\n",
       "   'description': 'Breaking news and in-depth analysis of the headlines, as well as commentary and informed perspectives from The Rachel Maddow Show, Morning Joe & more.',\n",
       "   'url': 'http://www.msnbc.com',\n",
       "   'category': 'general',\n",
       "   'language': 'en',\n",
       "   'country': 'us'},\n",
       "  {'id': 'mtv-news',\n",
       "   'name': 'MTV News',\n",
       "   'description': \"The ultimate news source for music, celebrity, entertainment, movies, and current events on the web. It's pop culture on steroids.\",\n",
       "   'url': 'http://www.mtv.com/news',\n",
       "   'category': 'entertainment',\n",
       "   'language': 'en',\n",
       "   'country': 'us'},\n",
       "  {'id': 'national-geographic',\n",
       "   'name': 'National Geographic',\n",
       "   'description': 'Reporting our world daily: original nature and science news from National Geographic.',\n",
       "   'url': 'http://news.nationalgeographic.com',\n",
       "   'category': 'science',\n",
       "   'language': 'en',\n",
       "   'country': 'us'},\n",
       "  {'id': 'national-review',\n",
       "   'name': 'National Review',\n",
       "   'description': 'National Review: Conservative News, Opinion, Politics, Policy, & Current Events.',\n",
       "   'url': 'https://www.nationalreview.com/',\n",
       "   'category': 'general',\n",
       "   'language': 'en',\n",
       "   'country': 'us'},\n",
       "  {'id': 'nbc-news',\n",
       "   'name': 'NBC News',\n",
       "   'description': 'Breaking news, videos, and the latest top stories in world news, business, politics, health and pop culture.',\n",
       "   'url': 'http://www.nbcnews.com',\n",
       "   'category': 'general',\n",
       "   'language': 'en',\n",
       "   'country': 'us'},\n",
       "  {'id': 'new-scientist',\n",
       "   'name': 'New Scientist',\n",
       "   'description': 'Breaking science and technology news from around the world. Exclusive stories and expert analysis on space, technology, health, physics, life and Earth.',\n",
       "   'url': 'https://www.newscientist.com/section/news',\n",
       "   'category': 'science',\n",
       "   'language': 'en',\n",
       "   'country': 'us'},\n",
       "  {'id': 'newsweek',\n",
       "   'name': 'Newsweek',\n",
       "   'description': 'Newsweek provides in-depth analysis, news and opinion about international issues, technology, business, culture and politics.',\n",
       "   'url': 'http://www.newsweek.com',\n",
       "   'category': 'general',\n",
       "   'language': 'en',\n",
       "   'country': 'us'},\n",
       "  {'id': 'new-york-magazine',\n",
       "   'name': 'New York Magazine',\n",
       "   'description': 'NYMAG and New York magazine cover the new, the undiscovered, the next in politics, culture, food, fashion, and behavior nationally, through a New York lens.',\n",
       "   'url': 'http://nymag.com',\n",
       "   'category': 'general',\n",
       "   'language': 'en',\n",
       "   'country': 'us'},\n",
       "  {'id': 'next-big-future',\n",
       "   'name': 'Next Big Future',\n",
       "   'description': 'Coverage of science and technology that have the potential for disruption, and analysis of plans, policies, and technology that enable radical improvement.',\n",
       "   'url': 'https://www.nextbigfuture.com',\n",
       "   'category': 'science',\n",
       "   'language': 'en',\n",
       "   'country': 'us'},\n",
       "  {'id': 'nfl-news',\n",
       "   'name': 'NFL News',\n",
       "   'description': 'The official source for NFL news, schedules, stats, scores and more.',\n",
       "   'url': 'http://www.nfl.com/news',\n",
       "   'category': 'sports',\n",
       "   'language': 'en',\n",
       "   'country': 'us'},\n",
       "  {'id': 'nhl-news',\n",
       "   'name': 'NHL News',\n",
       "   'description': 'The most up-to-date breaking hockey news from the official source including interviews, rumors, statistics and schedules.',\n",
       "   'url': 'https://www.nhl.com/news',\n",
       "   'category': 'sports',\n",
       "   'language': 'en',\n",
       "   'country': 'us'},\n",
       "  {'id': 'politico',\n",
       "   'name': 'Politico',\n",
       "   'description': 'Political news about Congress, the White House, campaigns, lobbyists and issues.',\n",
       "   'url': 'https://www.politico.com',\n",
       "   'category': 'general',\n",
       "   'language': 'en',\n",
       "   'country': 'us'},\n",
       "  {'id': 'polygon',\n",
       "   'name': 'Polygon',\n",
       "   'description': 'Polygon is a gaming website in partnership with Vox Media. Our culture focused site covers games, their creators, the fans, trending stories and entertainment news.',\n",
       "   'url': 'http://www.polygon.com',\n",
       "   'category': 'entertainment',\n",
       "   'language': 'en',\n",
       "   'country': 'us'},\n",
       "  {'id': 'recode',\n",
       "   'name': 'Recode',\n",
       "   'description': 'Get the latest independent tech news, reviews and analysis from Recode with the most informed and respected journalists in technology and media.',\n",
       "   'url': 'http://www.recode.net',\n",
       "   'category': 'technology',\n",
       "   'language': 'en',\n",
       "   'country': 'us'},\n",
       "  {'id': 'reddit-r-all',\n",
       "   'name': 'Reddit /r/all',\n",
       "   'description': \"Reddit is an entertainment, social news networking service, and news website. Reddit's registered community members can submit content, such as text posts or direct links.\",\n",
       "   'url': 'https://www.reddit.com/r/all',\n",
       "   'category': 'general',\n",
       "   'language': 'en',\n",
       "   'country': 'us'},\n",
       "  {'id': 'reuters',\n",
       "   'name': 'Reuters',\n",
       "   'description': 'Reuters.com brings you the latest news from around the world, covering breaking news in business, politics, entertainment, technology, video and pictures.',\n",
       "   'url': 'http://www.reuters.com',\n",
       "   'category': 'general',\n",
       "   'language': 'en',\n",
       "   'country': 'us'},\n",
       "  {'id': 'techcrunch',\n",
       "   'name': 'TechCrunch',\n",
       "   'description': 'TechCrunch is a leading technology media property, dedicated to obsessively profiling startups, reviewing new Internet products, and breaking tech news.',\n",
       "   'url': 'https://techcrunch.com',\n",
       "   'category': 'technology',\n",
       "   'language': 'en',\n",
       "   'country': 'us'},\n",
       "  {'id': 'techradar',\n",
       "   'name': 'TechRadar',\n",
       "   'description': 'The latest technology news and reviews, covering computing, home entertainment systems, gadgets and more.',\n",
       "   'url': 'http://www.techradar.com',\n",
       "   'category': 'technology',\n",
       "   'language': 'en',\n",
       "   'country': 'us'},\n",
       "  {'id': 'the-american-conservative',\n",
       "   'name': 'The American Conservative',\n",
       "   'description': 'Realism and reform. A new voice for a new generation of conservatives.',\n",
       "   'url': 'http://www.theamericanconservative.com/',\n",
       "   'category': 'general',\n",
       "   'language': 'en',\n",
       "   'country': 'us'},\n",
       "  {'id': 'the-hill',\n",
       "   'name': 'The Hill',\n",
       "   'description': 'The Hill is a top US political website, read by the White House and more lawmakers than any other site -- vital for policy, politics and election campaigns.',\n",
       "   'url': 'http://thehill.com',\n",
       "   'category': 'general',\n",
       "   'language': 'en',\n",
       "   'country': 'us'},\n",
       "  {'id': 'the-huffington-post',\n",
       "   'name': 'The Huffington Post',\n",
       "   'description': 'The Huffington Post is a politically liberal American online news aggregator and blog that has both localized and international editions founded by Arianna Huffington, Kenneth Lerer, Andrew Breitbart, and Jonah Peretti, featuring columnists.',\n",
       "   'url': 'http://www.huffingtonpost.com',\n",
       "   'category': 'general',\n",
       "   'language': 'en',\n",
       "   'country': 'us'},\n",
       "  {'id': 'the-new-york-times',\n",
       "   'name': 'The New York Times',\n",
       "   'description': 'The New York Times: Find breaking news, multimedia, reviews & opinion on Washington, business, sports, movies, travel, books, jobs, education, real estate, cars & more at nytimes.com.',\n",
       "   'url': 'http://www.nytimes.com',\n",
       "   'category': 'general',\n",
       "   'language': 'en',\n",
       "   'country': 'us'},\n",
       "  {'id': 'the-next-web',\n",
       "   'name': 'The Next Web',\n",
       "   'description': 'The Next Web is one of the world’s largest online publications that delivers an international perspective on the latest news about Internet technology, business and culture.',\n",
       "   'url': 'http://thenextweb.com',\n",
       "   'category': 'technology',\n",
       "   'language': 'en',\n",
       "   'country': 'us'},\n",
       "  {'id': 'the-verge',\n",
       "   'name': 'The Verge',\n",
       "   'description': 'The Verge covers the intersection of technology, science, art, and culture.',\n",
       "   'url': 'http://www.theverge.com',\n",
       "   'category': 'technology',\n",
       "   'language': 'en',\n",
       "   'country': 'us'},\n",
       "  {'id': 'the-wall-street-journal',\n",
       "   'name': 'The Wall Street Journal',\n",
       "   'description': 'WSJ online coverage of breaking news and current headlines from the US and around the world. Top stories, photos, videos, detailed analysis and in-depth reporting.',\n",
       "   'url': 'http://www.wsj.com',\n",
       "   'category': 'business',\n",
       "   'language': 'en',\n",
       "   'country': 'us'},\n",
       "  {'id': 'the-washington-post',\n",
       "   'name': 'The Washington Post',\n",
       "   'description': 'Breaking news and analysis on politics, business, world national news, entertainment more. In-depth DC, Virginia, Maryland news coverage including traffic, weather, crime, education, restaurant reviews and more.',\n",
       "   'url': 'https://www.washingtonpost.com',\n",
       "   'category': 'general',\n",
       "   'language': 'en',\n",
       "   'country': 'us'},\n",
       "  {'id': 'the-washington-times',\n",
       "   'name': 'The Washington Times',\n",
       "   'description': 'The Washington Times delivers breaking news and commentary on the issues that affect the future of our nation.',\n",
       "   'url': 'https://www.washingtontimes.com/',\n",
       "   'category': 'general',\n",
       "   'language': 'en',\n",
       "   'country': 'us'},\n",
       "  {'id': 'time',\n",
       "   'name': 'Time',\n",
       "   'description': 'Breaking news and analysis from TIME.com. Politics, world news, photos, video, tech reviews, health, science and entertainment news.',\n",
       "   'url': 'http://time.com',\n",
       "   'category': 'general',\n",
       "   'language': 'en',\n",
       "   'country': 'us'},\n",
       "  {'id': 'usa-today',\n",
       "   'name': 'USA Today',\n",
       "   'description': 'Get the latest national, international, and political news at USATODAY.com.',\n",
       "   'url': 'http://www.usatoday.com/news',\n",
       "   'category': 'general',\n",
       "   'language': 'en',\n",
       "   'country': 'us'},\n",
       "  {'id': 'vice-news',\n",
       "   'name': 'Vice News',\n",
       "   'description': 'Vice News is Vice Media, Inc.\\'s current affairs channel, producing daily documentary essays and video through its website and YouTube channel. It promotes itself on its coverage of \"under - reported stories\".',\n",
       "   'url': 'https://news.vice.com',\n",
       "   'category': 'general',\n",
       "   'language': 'en',\n",
       "   'country': 'us'},\n",
       "  {'id': 'wired',\n",
       "   'name': 'Wired',\n",
       "   'description': 'Wired is a monthly American magazine, published in print and online editions, that focuses on how emerging technologies affect culture, the economy, and politics.',\n",
       "   'url': 'https://www.wired.com',\n",
       "   'category': 'technology',\n",
       "   'language': 'en',\n",
       "   'country': 'us'}]}"
      ]
     },
     "execution_count": 8,
     "metadata": {},
     "output_type": "execute_result"
    }
   ],
   "source": [
    "#Key so we can use the API\n",
    "newsapi = NewsApiClient(api_key='22901f790d59422e817ef038a62c6c38')\n",
    "\n",
    "# Let's check our news sources\n",
    "newsapi.get_sources(country = 'us')\n"
   ]
  },
  {
   "cell_type": "markdown",
   "metadata": {},
   "source": [
    "#### We want to limit our number of sources so we do not get too much fluff, and stick with mainly business journalist"
   ]
  },
  {
   "cell_type": "code",
   "execution_count": 10,
   "metadata": {},
   "outputs": [],
   "source": [
    "S_P_500_news = newsapi.get_everything(q='S&P 500',\n",
    "                                     sources = 'business-insider,cnbc,fortune,fox-news,nbc-news,bloomberg,the-wall-street-journal,the-washington-post,the-new-york-times,reuters')"
   ]
  },
  {
   "cell_type": "code",
   "execution_count": 14,
   "metadata": {},
   "outputs": [
    {
     "data": {
      "text/plain": [
       "{'status': 'ok',\n",
       " 'totalResults': 413,\n",
       " 'articles': [{'source': {'id': 'business-insider',\n",
       "    'name': 'Business Insider'},\n",
       "   'author': 'Arjun Reddy',\n",
       "   'title': \"Warren Buffett isn't sure Berkshire Hathaway can beat the S&P 500 (BRK.A)\",\n",
       "   'description': 'The legendary investor Warre n Buffett predicts Berkshire Hathaway may only modestly outperform the S&P 500, if at all. The Berkshire CEO made the comment in a wide-ranging interview with the Financial Times. Buffett also noted that Berkshire may buy back as …',\n",
       "   'url': 'https://www.businessinsider.com/warren-buffett-isnt-sure-berkshire-hathaway-can-beat-sp-500-2019-4',\n",
       "   'urlToImage': 'https://amp.businessinsider.com/images/5cc1f06bb14bf4628b26b9a2-1334-667.jpg',\n",
       "   'publishedAt': '2019-04-26T10:02:00Z',\n",
       "   'content': 'Warren Buffett shot down expectations that the conglomerate Berkshire Hathaway will significantly outperform the S&amp;P 500 going forward. \\r\\n The billionaire investor, dubbed the \"Oracle of Omaha,\" told The Financial Times that Berkshire Hathaway, the compan… [+2522 chars]'},\n",
       "  {'source': {'id': 'business-insider', 'name': 'Business Insider'},\n",
       "   'author': 'Arjun Reddy',\n",
       "   'title': \"The stock market just hit a record high and history suggests it's headed even higher\",\n",
       "   'description': \"The stock market's new closing peak may signal further gains over the next 12 months, according to a new research report. Read more stories at MarketsInsider.com. The stock market is set to go even higher if history is a guide, according to Ryan Detrick, Seni…\",\n",
       "   'url': 'https://markets.businessinsider.com/news/stocks/stock-market-hit-record-high-history-says-they-are-headed-higher-2019-4-1028135907',\n",
       "   'urlToImage': 'https://images.markets.businessinsider.com/image/5cc09ddcb14bf44c8f258bc8-961/screen-shot-2019-04-24-at-13241-pm.png',\n",
       "   'publishedAt': '2019-04-24T18:31:02Z',\n",
       "   'content': 'Markets Insider\\r\\nThe stock market is set to go even higher if history is a guide, according to Ryan Detrick, Senior Market Strategist for LPL Financial.\\r\\nThe S&amp;P 500 recorded an all-time high closing price of 2,933.68 on April 23, some seven months after … [+2140 chars]'},\n",
       "  {'source': {'id': 'business-insider', 'name': 'Business Insider'},\n",
       "   'author': 'Marley Jay',\n",
       "   'title': \"We spoke to 3 experts who explained why the stock market's latest record is uniquely vulnerable to a sudden downturn\",\n",
       "   'description': 'The S&P 500 and Nasdaq both set record highs this week, but some experts say the market might not be as solid as it looks. Three Wall Street veterans who spoke to Business Insider note that only a small portion of S&P 500 companies are setting record highs of…',\n",
       "   'url': 'https://www.businessinsider.com/next-stock-market-sell-off-new-record-highs-are-uniquely-vulnerable-breadth-2019-4',\n",
       "   'urlToImage': 'https://amp.businessinsider.com/images/5cc3557cfa99af13d5641656-2732-1366.jpg',\n",
       "   'publishedAt': '2019-04-29T09:58:00Z',\n",
       "   'content': 'Big stock indexes are setting records again, but experts say that if the market held a party right now, hardly anyone would show up. \\r\\n This week the benchmark S&amp;P 500 finally topped its previous record close from September, extending the bull market past… [+3365 chars]'},\n",
       "  {'source': {'id': 'business-insider', 'name': 'Business Insider'},\n",
       "   'author': 'Theron Mohamed',\n",
       "   'title': \"Warren Buffett made 12 predictions about bitcoin, table tennis, and his death — here's how they turned out\",\n",
       "   'description': \"Legendary investor Warren Buffett avoids making predictions, but we've gathered 12 of his best guesses about cryptocurrency, table tennis, and even his own death. We've detailed each prediction and assessed its accuracy in the slideshow below. The legendary i…\",\n",
       "   'url': 'https://www.businessinsider.com/warren-buffett-12-predictions-bitcoin-table-tennis-death-2019-4',\n",
       "   'urlToImage': 'https://amp.businessinsider.com/images/5cb5d50daefeef31b50c68d5-960-480.jpg',\n",
       "   'publishedAt': '2019-04-19T12:46:00Z',\n",
       "   'content': 'Prediction:\\r\\n \"Over a ten-year period commencing on January 1, 2008, and ending on December 31, 2017, the S&amp;P 500 will outperform a portfolio of funds of hedge funds — more than 200 of them — when performance is measured on a basis net of fees, costs and … [+827 chars]'},\n",
       "  {'source': {'id': 'business-insider', 'name': 'Business Insider'},\n",
       "   'author': 'Akin Oyedele',\n",
       "   'title': 'Bank of America has devised the perfect trading strategy to profit from an imminent melt-up in stocks — one it says will win even if the market plunges',\n",
       "   'description': \"Investors worried about the durability of the stock market's rally have pulled billions of dollars from equity funds this year, according to Bank of America Merill Lynch. Meanwhile, the firm's equity-derivatives strategists say a melt-up is likely. For anyone…\",\n",
       "   'url': 'https://www.businessinsider.com/stock-market-options-trading-strategy-for-melt-up-or-crash-baml-2019-5',\n",
       "   'urlToImage': 'https://amp.businessinsider.com/images/5b55e3033b49fc1b008b45b5-1920-960.jpg',\n",
       "   'publishedAt': '2019-05-02T16:46:41Z',\n",
       "   'content': \"A good number of investors are feeling left out of the stock market's blistering rally. \\r\\n According to data compiled by Bank of America Merrill Lynch, $95 billion was pulled from equity funds in the year through April 24 — a period in which the S&amp;P 500 j… [+2295 chars]\"},\n",
       "  {'source': {'id': 'the-new-york-times', 'name': 'The New York Times'},\n",
       "   'author': 'JIM TANKERSLEY and ANA SWANSON',\n",
       "   'title': 'Trump Vows to Close Border, Even if It Hurts the Economy',\n",
       "   'description': '“Security is more important to me than trade,” the president declared, while advisers sought to limit any economic damage from the move.',\n",
       "   'url': 'https://www.nytimes.com/2019/04/02/us/politics/trump-mexico-border-economy.html',\n",
       "   'urlToImage': 'https://static01.nyt.com/images/2019/04/02/business/02DC-BORDER-01/02DC-BORDER-01-facebookJumbo.jpg',\n",
       "   'publishedAt': '2019-04-02T23:55:24Z',\n",
       "   'content': 'Border activity makes up a relatively larger share of Mexicos economy than the United States, meaning Mexico would most likely have more economic damage from a border closing, Mr. Zandi said.\\r\\nBut that does not mean the United States would be in a winning pos… [+1865 chars]'},\n",
       "  {'source': {'id': 'business-insider', 'name': 'Business Insider'},\n",
       "   'author': 'Callum Burroughs',\n",
       "   'title': \"Global stocks stall after Trump's tariffs block US-China trade deal progress\",\n",
       "   'description': 'Global equities paused for thought Thursday, after a lack of fresh positivity around the US-China trade war weighed on markets. The first three days of the week saw strong gains for stocks around the world, but sentiment was more muted Thursday. Investors are…',\n",
       "   'url': 'https://www.businessinsider.com/stock-markets-equities-stall-after-trumps-tariffs-block-trade-talks-2019-4',\n",
       "   'urlToImage': 'https://amp.businessinsider.com/images/5b23dd581ae6621a008b5250-1136-568.png',\n",
       "   'publishedAt': '2019-04-04T09:02:50Z',\n",
       "   'content': 'Stock markets paused for thought Thursday as investors mulled a lack of fresh impetus in the ongoing US-China trade talks. \\r\\n The first three days of the week saw strong gains for stocks around the world, but sentiment was more muted Thursday, as investors aw… [+1634 chars]'},\n",
       "  {'source': {'id': 'business-insider', 'name': 'Business Insider'},\n",
       "   'author': 'Arjun Reddy',\n",
       "   'title': 'JPMorgan: These 66 charts are the ultimate guide to markets and the economy',\n",
       "   'description': 'Through the following slides, JPMorgan provides detailed insight into the state of equities and both the US and global economy. Th key points include the bounceback of equities markets, and how that has run the price-to-earnings multiple of the S&P 500 above …',\n",
       "   'url': 'https://www.businessinsider.com/stock-market-66-charts-ultimate-guide-to-markets-economy-jpmorgan-2019-4',\n",
       "   'urlToImage': 'https://amp.businessinsider.com/images/5ca4d89d16c958333c3e045d-2732-1366.jpg',\n",
       "   'publishedAt': '2019-04-03T16:28:00Z',\n",
       "   'content': 'Through the following slides, JPMorgan provides detailed insight into the state of equities and both the US and global economy. \\r\\n Th key points include the bounceback of equities markets, and how that has run the price-to-earnings multiple of the S&amp;P 500… [+2894 chars]'},\n",
       "  {'source': {'id': 'business-insider', 'name': 'Business Insider'},\n",
       "   'author': 'Jonathan Garber',\n",
       "   'title': '10 things you need to know before the opening bell (SPY, SPX, QQQ, DIA, TSLA, FB, DB)',\n",
       "   'description': 'Here is what you need to know. History suggests stocks could be headed even higher. The stock market just hit its first record high since October. Historically, following periods when new highs were not recorded for at least six months, S&P 500 returns over t…',\n",
       "   'url': 'https://markets.businessinsider.com/news/stocks/stock-market-news-opening-bell-april-25-2019-2019-4-1028138293',\n",
       "   'urlToImage': 'https://images.markets.businessinsider.com/image/5cc190d17456534fdb6d1106-2400/ap19115328349523.jpg',\n",
       "   'publishedAt': '2019-04-25T10:54:00Z',\n",
       "   'content': 'AP/Alexei Nikolsky, Sputnik, Kremlin Pool Photo\\r\\nHere is what you need to know.\\r\\nHistory suggests stocks could be headed even higher. The stock market just hit its first record high since October. Historically, following periods when new highs were not record… [+2245 chars]'},\n",
       "  {'source': {'id': 'business-insider', 'name': 'Business Insider'},\n",
       "   'author': 'Jonathan Garber',\n",
       "   'title': '10 things you need to know before the opening bell (SPY, SPX, QQQ, DIA, TSLA, FB, DB)',\n",
       "   'description': 'Here is what you need to know. History suggests stocks could be headed even higher. The stock market just hit its first record high since October, and history shows that S&P 500 returns over the next 12 months following periods where new highs were not record…',\n",
       "   'url': 'https://www.businessinsider.com/stock-market-news-opening-bell-april-25-2019-2019-4',\n",
       "   'urlToImage': 'https://amp.businessinsider.com/images/5cc190f3b14bf4622a6a25e7-2732-1366.jpg',\n",
       "   'publishedAt': '2019-04-25T10:54:00Z',\n",
       "   'content': 'Here is what you need to know. \\r\\n History suggests stocks could be headed even higher. The stock market just hit its first record high since October, and history shows that S&amp;P 500 returns over the next 12 months following periods where new highs were not… [+2245 chars]'},\n",
       "  {'source': {'id': 'business-insider', 'name': 'Business Insider'},\n",
       "   'author': 'Meghan Morris',\n",
       "   'title': 'iM Global has taken a stake in a top-performing equity business, as it looks to put its remaining $400 million to work',\n",
       "   'description': \"Investment firm iM Global Partner is buying a 40% stake in Scharf Investments, one of iM Global's executives told Business Insider. The California equity manager, which now oversees $3.4 billion, has quintupled in size since 2007. The deal comes amid a hot ti…\",\n",
       "   'url': 'https://www.businessinsider.com/im-global-buys-40-interest-in-californias-scharf-investments-2019-4',\n",
       "   'urlToImage': 'https://amp.businessinsider.com/images/5cbdb2c112ece25fac788714-1536-768.jpg',\n",
       "   'publishedAt': '2019-04-22T13:00:00Z',\n",
       "   'content': 'iM Global Partner, an investment firm that buys minority stakes in asset managers, has inked its latest deal, an executive told Business Insider. \\r\\n The Philadelphia-based firm is buying a 40% stake in Scharf Investments, a Scotts Valley, California-based equ… [+2490 chars]'},\n",
       "  {'source': {'id': 'business-insider', 'name': 'Business Insider'},\n",
       "   'author': 'Jonathan Garber',\n",
       "   'title': '10 things you need to know before the opening bell (SPY, SPX, QQQ, DIA, BA, LYFT, BCS)',\n",
       "   'description': \"Here is what you need to know. Brexit's costs run deep. Brexit has cost the UK 66 billion British pounds ($86 billion) so far, according to S&P Global Ratings, and that before a potential recession does even more damage. Oil hits its best level since November…\",\n",
       "   'url': 'https://www.businessinsider.com/stock-market-news-opening-bell-april-8-2019-2019-4',\n",
       "   'urlToImage': 'https://amp.businessinsider.com/images/5cab2590c6cc50449829a664-2732-1366.jpg',\n",
       "   'publishedAt': '2019-04-08T10:45:00Z',\n",
       "   'content': \"Here is what you need to know. \\r\\n Brexit's costs run deep. Brexit has cost the UK 66 billion British pounds ($86 billion) so far, according to S&amp;P Global Ratings, and that before a potential recession does even more damage. \\r\\n Oil hits its best level sinc… [+1722 chars]\"},\n",
       "  {'source': {'id': 'business-insider', 'name': 'Business Insider'},\n",
       "   'author': 'Tanza Loudenback',\n",
       "   'title': 'How to invest $100,000 to make $1 million',\n",
       "   'description': 'The easiest and safest way to grow your money is to invest it in the stock market, make automatic and consistent contributions, and simply wait. An investment calculator estimates the average investor can turn $100,000 into $1 million by contributing $155 a m…',\n",
       "   'url': 'https://www.businessinsider.com/investment-calculator-invest-100000-make-1-million-2019-4',\n",
       "   'urlToImage': 'https://amp.businessinsider.com/images/5ca65a2d77584e6ed7774f33-1334-667.jpg',\n",
       "   'publishedAt': '2019-04-05T13:30:00Z',\n",
       "   'content': \"If you want to get rich quick, we have some bad news. \\r\\n Most of us don't have the time, knowledge, or risk tolerance to multiply our money quickly. Even then, experts say hot and of-the-moment investments that promise big returns — think Bitcoin or individua… [+2773 chars]\"},\n",
       "  {'source': {'id': 'business-insider', 'name': 'Business Insider'},\n",
       "   'author': 'Meghan Morris',\n",
       "   'title': 'Here comes BlackRock earnings...',\n",
       "   'description': \"BlackRock releases its first quarter earnings on Tuesday. Analysts expect $3.34 billion in revenue. In the fourth quarter, the firm's assets under management dipped to $5.98 trillion. It's still the world's largest asset manager, and assets are predicted to t…\",\n",
       "   'url': 'https://www.businessinsider.com/blackrock-first-quarter-earnings-2019-4',\n",
       "   'urlToImage': None,\n",
       "   'publishedAt': '2019-04-16T04:01:00Z',\n",
       "   'content': \"BlackRock should bounce back from fourth quarter market volatility when it reports earnings on Tuesday, according to analysts. \\r\\n The firm's assets declined in the fourth quarter, to $5.98 trillion, but analysts expect that number to pick back up, to $6.22 tr… [+1356 chars]\"},\n",
       "  {'source': {'id': 'business-insider', 'name': 'Business Insider'},\n",
       "   'author': 'Rebecca Ungarino',\n",
       "   'title': \"Stock buybacks have been labeled a 'bubble,' a 'panic,' and 'corporate self-indulgence,' but an ETF that's tracking them keeps setting records\",\n",
       "   'description': 'Democratic presidential candidates, Republican Sen. Marco Rubio, and an investment strategist at a major Wall Street firm are among the many who have piled onto corporate buybacks in one way or another. Still, an exchange-traded fund that tracks stock-buyback…',\n",
       "   'url': 'https://www.businessinsider.com/stock-market-buyback-etf-sets-record-high-2019-4',\n",
       "   'urlToImage': 'https://amp.businessinsider.com/images/5cc84c09b14bf40ff118f504-2732-1366.jpg',\n",
       "   'publishedAt': '2019-04-30T16:14:00Z',\n",
       "   'content': \"Buybacks are a political football perfectly suited for 2019. \\r\\n Debates around them invoke themes for everyone: shades of corporate greed, historic income inequality, images of populism, and the idea that they've propped up the most-hated bull market of all t… [+3548 chars]\"},\n",
       "  {'source': {'id': 'business-insider', 'name': 'Business Insider'},\n",
       "   'author': 'Jonathan Garber',\n",
       "   'title': '10 things you need to know before the opening bell (SPY, SPX, QQQ, DIA, INTC, TSLA, AMZN)',\n",
       "   'description': 'Here is what you need to know. Uber files to go public. The ride-hailing company says it will aim to offer 180 million shares at a price between $44 and $50 a share, giving it a valuation of up to $90 billion. Elon Musk and the SEC asked for a delay in settle…',\n",
       "   'url': 'https://www.businessinsider.com/stock-market-news-opening-bell-april-26-2019-2019-4',\n",
       "   'urlToImage': 'https://images.markets.businessinsider.com/image/5cc2e8cbd1a2f85a0678f088-2400/2019-04-26t093120z1362713116up1ef4q0qg83yrtrmadp3table-tennis-world.jpg',\n",
       "   'publishedAt': '2019-04-26T11:22:00Z',\n",
       "   'content': 'Your Personalized Market Center'},\n",
       "  {'source': {'id': 'business-insider', 'name': 'Business Insider'},\n",
       "   'author': 'Jonathan Garber',\n",
       "   'title': '10 things you need to know before the opening bell (JPM, CVX, PD)',\n",
       "   'description': \"Here is what you need to know. Trump's trade war could be heading for Japan. Trade talks between US Trade Representative Robert Lighthizer and Japan's economy minister Toshimitsu Motegi are set for Monday and Tuesday in Washington, with the US hoping to strik…\",\n",
       "   'url': 'https://markets.businessinsider.com/news/stocks/stock-market-news-opening-bell-april-12-2019-2019-4-1028106826',\n",
       "   'urlToImage': 'https://images.markets.businessinsider.com/image/5cb06dbc775bc7378529cac6-2400/2019-04-12t091234z406155991rc1645452c30rtrmadp3global-carsales.jpg',\n",
       "   'publishedAt': '2019-04-12T10:54:00Z',\n",
       "   'content': 'Your Personalized Market Center'},\n",
       "  {'source': {'id': 'bloomberg', 'name': 'Bloomberg'},\n",
       "   'author': 'Bloomberg',\n",
       "   'title': 'The Unimpressive Momentum in the S&P 500',\n",
       "   'description': \"Bloomberg's Abigail Doolittle reports on the S&P 500 on 'Bloomberg Markets: The Close.' (Source: Bloomberg)\",\n",
       "   'url': 'https://www.bloomberg.com/news/videos/2019-04-10/s-p-500-s-unimpressive-momentum-video',\n",
       "   'urlToImage': 'https://assets.bwbx.io/images/users/iqjWHBFdfxIU/iN9bDLnNlBoo/v5/-1x-1.jpg',\n",
       "   'publishedAt': '2019-04-10T15:04:39Z',\n",
       "   'content': None},\n",
       "  {'source': {'id': 'business-insider', 'name': 'Business Insider'},\n",
       "   'author': 'Theron Mohamed',\n",
       "   'title': \"China's strong data sparks major stock rally with economic stimulus 'bearing fruit'\",\n",
       "   'description': \"Asian stocks closed higher on Wednesday after a raft of positive Chinese data signaled a recovery in the world's second-largest economy. China's economy grew 6.4% in the first quarter, higher than forecasted. Growth in industrial output, retail sales and fixe…\",\n",
       "   'url': 'https://www.businessinsider.com/stock-market-news-asian-stocks-rally-on-strong-chinese-data-2019-4',\n",
       "   'urlToImage': 'https://amp.businessinsider.com/images/5cb6e0900ed7be16fa4f1224-2732-1366.jpg',\n",
       "   'publishedAt': '2019-04-17T08:48:11Z',\n",
       "   'content': \"Asian stocks closed higher on Wednesday after a raft of positive Chinese data pointed to a recovery in the world's second-largest economy, dampening fears of a global slowdown. \\r\\n China's economy beat forecasts with first-quarter growth of 6.4%. Industrial ou… [+1915 chars]\"},\n",
       "  {'source': {'id': 'business-insider', 'name': 'Business Insider'},\n",
       "   'author': 'Jonathan Garber',\n",
       "   'title': '10 things you need to know before the opening bell (SPY, SPX, QQQ, DIA, LYFT, BA)',\n",
       "   'description': 'Here is what you need to know. The UK is at a Brexit deadlock. Members of Parliament on Monday rejected plans to remain in the European Union Customs Union, to remain in the European Single Market, to hold a second referendum on Brexit, and to revoke Article …',\n",
       "   'url': 'https://markets.businessinsider.com/news/stocks/stock-market-news-opening-bell-april-2-2019-2019-4-1028077657',\n",
       "   'urlToImage': 'https://images.markets.businessinsider.com/image/5ca33d0dc6cc50307824b593-2400/2019-04-02t100857z162039424rc154fb19320rtrmadp3global-cashless.jpg',\n",
       "   'publishedAt': '2019-04-02T10:47:00Z',\n",
       "   'content': 'Reuters/Francis Mascarenhas\\r\\nHere is what you need to know.\\xa0\\r\\nThe UK is at a Brexit deadlock.\\xa0Members of Parliament on Monday rejected plans to remain in the European Union Customs Union, to remain in the European Single Market, to hold a second referendum on… [+1982 chars]'}]}"
      ]
     },
     "execution_count": 14,
     "metadata": {},
     "output_type": "execute_result"
    }
   ],
   "source": [
    "S_P_500_news"
   ]
  },
  {
   "cell_type": "markdown",
   "metadata": {},
   "source": [
    "##### Lets make a dataframe!"
   ]
  },
  {
   "cell_type": "code",
   "execution_count": 12,
   "metadata": {},
   "outputs": [
    {
     "data": {
      "text/html": [
       "<div>\n",
       "<style scoped>\n",
       "    .dataframe tbody tr th:only-of-type {\n",
       "        vertical-align: middle;\n",
       "    }\n",
       "\n",
       "    .dataframe tbody tr th {\n",
       "        vertical-align: top;\n",
       "    }\n",
       "\n",
       "    .dataframe thead th {\n",
       "        text-align: right;\n",
       "    }\n",
       "</style>\n",
       "<table border=\"1\" class=\"dataframe\">\n",
       "  <thead>\n",
       "    <tr style=\"text-align: right;\">\n",
       "      <th></th>\n",
       "      <th>author</th>\n",
       "      <th>content</th>\n",
       "      <th>description</th>\n",
       "      <th>publishedAt</th>\n",
       "      <th>source</th>\n",
       "      <th>title</th>\n",
       "      <th>url</th>\n",
       "      <th>urlToImage</th>\n",
       "    </tr>\n",
       "  </thead>\n",
       "  <tbody>\n",
       "    <tr>\n",
       "      <th>0</th>\n",
       "      <td>Arjun Reddy</td>\n",
       "      <td>Warren Buffett shot down expectations that the...</td>\n",
       "      <td>The legendary investor Warre n Buffett predict...</td>\n",
       "      <td>2019-04-26T10:02:00Z</td>\n",
       "      <td>{'id': 'business-insider', 'name': 'Business I...</td>\n",
       "      <td>Warren Buffett isn't sure Berkshire Hathaway c...</td>\n",
       "      <td>https://www.businessinsider.com/warren-buffett...</td>\n",
       "      <td>https://amp.businessinsider.com/images/5cc1f06...</td>\n",
       "    </tr>\n",
       "    <tr>\n",
       "      <th>1</th>\n",
       "      <td>Arjun Reddy</td>\n",
       "      <td>Markets Insider\\r\\nThe stock market is set to ...</td>\n",
       "      <td>The stock market's new closing peak may signal...</td>\n",
       "      <td>2019-04-24T18:31:02Z</td>\n",
       "      <td>{'id': 'business-insider', 'name': 'Business I...</td>\n",
       "      <td>The stock market just hit a record high and hi...</td>\n",
       "      <td>https://markets.businessinsider.com/news/stock...</td>\n",
       "      <td>https://images.markets.businessinsider.com/ima...</td>\n",
       "    </tr>\n",
       "    <tr>\n",
       "      <th>2</th>\n",
       "      <td>Marley Jay</td>\n",
       "      <td>Big stock indexes are setting records again, b...</td>\n",
       "      <td>The S&amp;P 500 and Nasdaq both set record highs t...</td>\n",
       "      <td>2019-04-29T09:58:00Z</td>\n",
       "      <td>{'id': 'business-insider', 'name': 'Business I...</td>\n",
       "      <td>We spoke to 3 experts who explained why the st...</td>\n",
       "      <td>https://www.businessinsider.com/next-stock-mar...</td>\n",
       "      <td>https://amp.businessinsider.com/images/5cc3557...</td>\n",
       "    </tr>\n",
       "    <tr>\n",
       "      <th>3</th>\n",
       "      <td>Theron Mohamed</td>\n",
       "      <td>Prediction:\\r\\n \"Over a ten-year period commen...</td>\n",
       "      <td>Legendary investor Warren Buffett avoids makin...</td>\n",
       "      <td>2019-04-19T12:46:00Z</td>\n",
       "      <td>{'id': 'business-insider', 'name': 'Business I...</td>\n",
       "      <td>Warren Buffett made 12 predictions about bitco...</td>\n",
       "      <td>https://www.businessinsider.com/warren-buffett...</td>\n",
       "      <td>https://amp.businessinsider.com/images/5cb5d50...</td>\n",
       "    </tr>\n",
       "    <tr>\n",
       "      <th>4</th>\n",
       "      <td>Akin Oyedele</td>\n",
       "      <td>A good number of investors are feeling left ou...</td>\n",
       "      <td>Investors worried about the durability of the ...</td>\n",
       "      <td>2019-05-02T16:46:41Z</td>\n",
       "      <td>{'id': 'business-insider', 'name': 'Business I...</td>\n",
       "      <td>Bank of America has devised the perfect tradin...</td>\n",
       "      <td>https://www.businessinsider.com/stock-market-o...</td>\n",
       "      <td>https://amp.businessinsider.com/images/5b55e30...</td>\n",
       "    </tr>\n",
       "  </tbody>\n",
       "</table>\n",
       "</div>"
      ],
      "text/plain": [
       "           author  ...                                         urlToImage\n",
       "0     Arjun Reddy  ...  https://amp.businessinsider.com/images/5cc1f06...\n",
       "1     Arjun Reddy  ...  https://images.markets.businessinsider.com/ima...\n",
       "2      Marley Jay  ...  https://amp.businessinsider.com/images/5cc3557...\n",
       "3  Theron Mohamed  ...  https://amp.businessinsider.com/images/5cb5d50...\n",
       "4    Akin Oyedele  ...  https://amp.businessinsider.com/images/5b55e30...\n",
       "\n",
       "[5 rows x 8 columns]"
      ]
     },
     "execution_count": 12,
     "metadata": {},
     "output_type": "execute_result"
    }
   ],
   "source": [
    "SP_df = pd.DataFrame(S_P_500_news['articles'])\n",
    "SP_df.head()"
   ]
  },
  {
   "cell_type": "markdown",
   "metadata": {},
   "source": [
    "### Let's try again to see if we can get more news!"
   ]
  },
  {
   "cell_type": "code",
   "execution_count": 17,
   "metadata": {},
   "outputs": [
    {
     "data": {
      "text/plain": [
       "{'status': 'ok',\n",
       " 'totalResults': 1,\n",
       " 'articles': [{'source': {'id': 'crypto-coins-news',\n",
       "    'name': 'Crypto Coins News'},\n",
       "   'author': 'https://facebook.com/no.shit.madore',\n",
       "   'title': 'S&P 500 Stock Plunges 24% After Brutal Q1 Loss Stuns Investors',\n",
       "   'description': 'By CCN: Stocks are broadly tanking today, but Fluor, Inc., a Texas construction outfit, is leading the charge, with a roughly 24% loss by press time. The company lost 48 cents per share and announced',\n",
       "   'url': 'https://www.ccn.com/sp-500-stock-plunges-24-after-brutal-q1-loss-stuns-investors',\n",
       "   'urlToImage': 'https://www.ccn.com/wp-content/uploads/2019/02/tesla-elon-musk-debt-panic-shutterstock.jpg',\n",
       "   'publishedAt': '2019-05-02T15:34:53Z',\n",
       "   'content': 'By CCN: Stocks are broadly tanking today, but Fluor, Inc., a Texas construction outfit, is leading the charge, with a roughly 24% loss by press time. The company lost 48 cents per share and announced the resignation of its 8-year CEO David Seaton. Fluor repor… [+4089 chars]'}]}"
      ]
     },
     "execution_count": 17,
     "metadata": {},
     "output_type": "execute_result"
    }
   ],
   "source": [
    "try2_df = newsapi.get_top_headlines(q='S&P 500')\n",
    "try2_df"
   ]
  },
  {
   "cell_type": "markdown",
   "metadata": {},
   "source": [
    "As we can see that did not work out too well... BUT luckily we have what we looked for!"
   ]
  },
  {
   "cell_type": "code",
   "execution_count": 18,
   "metadata": {},
   "outputs": [
    {
     "data": {
      "text/html": [
       "<div>\n",
       "<style scoped>\n",
       "    .dataframe tbody tr th:only-of-type {\n",
       "        vertical-align: middle;\n",
       "    }\n",
       "\n",
       "    .dataframe tbody tr th {\n",
       "        vertical-align: top;\n",
       "    }\n",
       "\n",
       "    .dataframe thead th {\n",
       "        text-align: right;\n",
       "    }\n",
       "</style>\n",
       "<table border=\"1\" class=\"dataframe\">\n",
       "  <thead>\n",
       "    <tr style=\"text-align: right;\">\n",
       "      <th></th>\n",
       "      <th>author</th>\n",
       "      <th>content</th>\n",
       "      <th>description</th>\n",
       "      <th>publishedAt</th>\n",
       "      <th>source</th>\n",
       "      <th>title</th>\n",
       "      <th>url</th>\n",
       "      <th>urlToImage</th>\n",
       "    </tr>\n",
       "  </thead>\n",
       "  <tbody>\n",
       "    <tr>\n",
       "      <th>15</th>\n",
       "      <td>Jonathan Garber</td>\n",
       "      <td>Your Personalized Market Center</td>\n",
       "      <td>Here is what you need to know. Uber files to g...</td>\n",
       "      <td>2019-04-26T11:22:00Z</td>\n",
       "      <td>{'id': 'business-insider', 'name': 'Business I...</td>\n",
       "      <td>10 things you need to know before the opening ...</td>\n",
       "      <td>https://www.businessinsider.com/stock-market-n...</td>\n",
       "      <td>https://images.markets.businessinsider.com/ima...</td>\n",
       "    </tr>\n",
       "    <tr>\n",
       "      <th>16</th>\n",
       "      <td>Jonathan Garber</td>\n",
       "      <td>Your Personalized Market Center</td>\n",
       "      <td>Here is what you need to know. Trump's trade w...</td>\n",
       "      <td>2019-04-12T10:54:00Z</td>\n",
       "      <td>{'id': 'business-insider', 'name': 'Business I...</td>\n",
       "      <td>10 things you need to know before the opening ...</td>\n",
       "      <td>https://markets.businessinsider.com/news/stock...</td>\n",
       "      <td>https://images.markets.businessinsider.com/ima...</td>\n",
       "    </tr>\n",
       "    <tr>\n",
       "      <th>17</th>\n",
       "      <td>Bloomberg</td>\n",
       "      <td>None</td>\n",
       "      <td>Bloomberg's Abigail Doolittle reports on the S...</td>\n",
       "      <td>2019-04-10T15:04:39Z</td>\n",
       "      <td>{'id': 'bloomberg', 'name': 'Bloomberg'}</td>\n",
       "      <td>The Unimpressive Momentum in the S&amp;P 500</td>\n",
       "      <td>https://www.bloomberg.com/news/videos/2019-04-...</td>\n",
       "      <td>https://assets.bwbx.io/images/users/iqjWHBFdfx...</td>\n",
       "    </tr>\n",
       "    <tr>\n",
       "      <th>18</th>\n",
       "      <td>Theron Mohamed</td>\n",
       "      <td>Asian stocks closed higher on Wednesday after ...</td>\n",
       "      <td>Asian stocks closed higher on Wednesday after ...</td>\n",
       "      <td>2019-04-17T08:48:11Z</td>\n",
       "      <td>{'id': 'business-insider', 'name': 'Business I...</td>\n",
       "      <td>China's strong data sparks major stock rally w...</td>\n",
       "      <td>https://www.businessinsider.com/stock-market-n...</td>\n",
       "      <td>https://amp.businessinsider.com/images/5cb6e09...</td>\n",
       "    </tr>\n",
       "    <tr>\n",
       "      <th>19</th>\n",
       "      <td>Jonathan Garber</td>\n",
       "      <td>Reuters/Francis Mascarenhas\\r\\nHere is what yo...</td>\n",
       "      <td>Here is what you need to know. The UK is at a ...</td>\n",
       "      <td>2019-04-02T10:47:00Z</td>\n",
       "      <td>{'id': 'business-insider', 'name': 'Business I...</td>\n",
       "      <td>10 things you need to know before the opening ...</td>\n",
       "      <td>https://markets.businessinsider.com/news/stock...</td>\n",
       "      <td>https://images.markets.businessinsider.com/ima...</td>\n",
       "    </tr>\n",
       "  </tbody>\n",
       "</table>\n",
       "</div>"
      ],
      "text/plain": [
       "             author  ...                                         urlToImage\n",
       "15  Jonathan Garber  ...  https://images.markets.businessinsider.com/ima...\n",
       "16  Jonathan Garber  ...  https://images.markets.businessinsider.com/ima...\n",
       "17        Bloomberg  ...  https://assets.bwbx.io/images/users/iqjWHBFdfx...\n",
       "18   Theron Mohamed  ...  https://amp.businessinsider.com/images/5cb6e09...\n",
       "19  Jonathan Garber  ...  https://images.markets.businessinsider.com/ima...\n",
       "\n",
       "[5 rows x 8 columns]"
      ]
     },
     "execution_count": 18,
     "metadata": {},
     "output_type": "execute_result"
    }
   ],
   "source": [
    "SP_df.tail()"
   ]
  },
  {
   "cell_type": "markdown",
   "metadata": {},
   "source": [
    "### Proceeding steps:\n",
    "1. Let's turn our dates into useable formats!\n",
    "2. Let's clean out the content.\n",
    "3. Let's get stock data for this concept: S&P 500 Stock price!"
   ]
  },
  {
   "cell_type": "markdown",
   "metadata": {},
   "source": [
    "Notice how the dates have that 'T' and 'Z' present, let's remove them and set them to date time formats!"
   ]
  },
  {
   "cell_type": "code",
   "execution_count": 20,
   "metadata": {},
   "outputs": [],
   "source": [
    "SP_df['publishedAt'] = [i.replace('T',' ') for i in SP_df['publishedAt']]\n",
    "SP_df['publishedAt'] = [i.replace('Z',' ') for i in SP_df['publishedAt']]\n",
    "SP_df['publishedAt'] = pd.to_datetime(SP_df['publishedAt'])"
   ]
  },
  {
   "cell_type": "code",
   "execution_count": 26,
   "metadata": {},
   "outputs": [
    {
     "data": {
      "text/html": [
       "<div>\n",
       "<style scoped>\n",
       "    .dataframe tbody tr th:only-of-type {\n",
       "        vertical-align: middle;\n",
       "    }\n",
       "\n",
       "    .dataframe tbody tr th {\n",
       "        vertical-align: top;\n",
       "    }\n",
       "\n",
       "    .dataframe thead th {\n",
       "        text-align: right;\n",
       "    }\n",
       "</style>\n",
       "<table border=\"1\" class=\"dataframe\">\n",
       "  <thead>\n",
       "    <tr style=\"text-align: right;\">\n",
       "      <th></th>\n",
       "      <th>author</th>\n",
       "      <th>content</th>\n",
       "      <th>description</th>\n",
       "      <th>publishedAt</th>\n",
       "      <th>source</th>\n",
       "      <th>title</th>\n",
       "      <th>url</th>\n",
       "      <th>urlToImage</th>\n",
       "    </tr>\n",
       "  </thead>\n",
       "  <tbody>\n",
       "    <tr>\n",
       "      <th>0</th>\n",
       "      <td>Arjun Reddy</td>\n",
       "      <td>Warren Buffett shot down expectations that the...</td>\n",
       "      <td>The legendary investor Warre n Buffett predict...</td>\n",
       "      <td>2019-04-26 10:02:00</td>\n",
       "      <td>{'id': 'business-insider', 'name': 'Business I...</td>\n",
       "      <td>Warren Buffett isn't sure Berkshire Hathaway c...</td>\n",
       "      <td>https://www.businessinsider.com/warren-buffett...</td>\n",
       "      <td>https://amp.businessinsider.com/images/5cc1f06...</td>\n",
       "    </tr>\n",
       "    <tr>\n",
       "      <th>1</th>\n",
       "      <td>Arjun Reddy</td>\n",
       "      <td>Markets Insider\\r\\nThe stock market is set to ...</td>\n",
       "      <td>The stock market's new closing peak may signal...</td>\n",
       "      <td>2019-04-24 18:31:02</td>\n",
       "      <td>{'id': 'business-insider', 'name': 'Business I...</td>\n",
       "      <td>The stock market just hit a record high and hi...</td>\n",
       "      <td>https://markets.businessinsider.com/news/stock...</td>\n",
       "      <td>https://images.markets.businessinsider.com/ima...</td>\n",
       "    </tr>\n",
       "    <tr>\n",
       "      <th>2</th>\n",
       "      <td>Marley Jay</td>\n",
       "      <td>Big stock indexes are setting records again, b...</td>\n",
       "      <td>The S&amp;P 500 and Nasdaq both set record highs t...</td>\n",
       "      <td>2019-04-29 09:58:00</td>\n",
       "      <td>{'id': 'business-insider', 'name': 'Business I...</td>\n",
       "      <td>We spoke to 3 experts who explained why the st...</td>\n",
       "      <td>https://www.businessinsider.com/next-stock-mar...</td>\n",
       "      <td>https://amp.businessinsider.com/images/5cc3557...</td>\n",
       "    </tr>\n",
       "    <tr>\n",
       "      <th>3</th>\n",
       "      <td>Theron Mohamed</td>\n",
       "      <td>Prediction:\\r\\n \"Over a ten-year period commen...</td>\n",
       "      <td>Legendary investor Warren Buffett avoids makin...</td>\n",
       "      <td>2019-04-19 12:46:00</td>\n",
       "      <td>{'id': 'business-insider', 'name': 'Business I...</td>\n",
       "      <td>Warren Buffett made 12 predictions about bitco...</td>\n",
       "      <td>https://www.businessinsider.com/warren-buffett...</td>\n",
       "      <td>https://amp.businessinsider.com/images/5cb5d50...</td>\n",
       "    </tr>\n",
       "    <tr>\n",
       "      <th>4</th>\n",
       "      <td>Akin Oyedele</td>\n",
       "      <td>A good number of investors are feeling left ou...</td>\n",
       "      <td>Investors worried about the durability of the ...</td>\n",
       "      <td>2019-05-02 16:46:41</td>\n",
       "      <td>{'id': 'business-insider', 'name': 'Business I...</td>\n",
       "      <td>Bank of America has devised the perfect tradin...</td>\n",
       "      <td>https://www.businessinsider.com/stock-market-o...</td>\n",
       "      <td>https://amp.businessinsider.com/images/5b55e30...</td>\n",
       "    </tr>\n",
       "  </tbody>\n",
       "</table>\n",
       "</div>"
      ],
      "text/plain": [
       "           author  ...                                         urlToImage\n",
       "0     Arjun Reddy  ...  https://amp.businessinsider.com/images/5cc1f06...\n",
       "1     Arjun Reddy  ...  https://images.markets.businessinsider.com/ima...\n",
       "2      Marley Jay  ...  https://amp.businessinsider.com/images/5cc3557...\n",
       "3  Theron Mohamed  ...  https://amp.businessinsider.com/images/5cb5d50...\n",
       "4    Akin Oyedele  ...  https://amp.businessinsider.com/images/5b55e30...\n",
       "\n",
       "[5 rows x 8 columns]"
      ]
     },
     "execution_count": 26,
     "metadata": {},
     "output_type": "execute_result"
    }
   ],
   "source": [
    "SP_df.head()"
   ]
  },
  {
   "cell_type": "code",
   "execution_count": 27,
   "metadata": {},
   "outputs": [
    {
     "data": {
      "text/html": [
       "<div>\n",
       "<style scoped>\n",
       "    .dataframe tbody tr th:only-of-type {\n",
       "        vertical-align: middle;\n",
       "    }\n",
       "\n",
       "    .dataframe tbody tr th {\n",
       "        vertical-align: top;\n",
       "    }\n",
       "\n",
       "    .dataframe thead th {\n",
       "        text-align: right;\n",
       "    }\n",
       "</style>\n",
       "<table border=\"1\" class=\"dataframe\">\n",
       "  <thead>\n",
       "    <tr style=\"text-align: right;\">\n",
       "      <th></th>\n",
       "      <th>author</th>\n",
       "      <th>content</th>\n",
       "      <th>description</th>\n",
       "      <th>publishedAt</th>\n",
       "      <th>source</th>\n",
       "      <th>title</th>\n",
       "      <th>url</th>\n",
       "      <th>urlToImage</th>\n",
       "    </tr>\n",
       "  </thead>\n",
       "  <tbody>\n",
       "    <tr>\n",
       "      <th>19</th>\n",
       "      <td>Jonathan Garber</td>\n",
       "      <td>Reuters/Francis Mascarenhas\\r\\nHere is what yo...</td>\n",
       "      <td>Here is what you need to know. The UK is at a ...</td>\n",
       "      <td>2019-04-02 10:47:00</td>\n",
       "      <td>{'id': 'business-insider', 'name': 'Business I...</td>\n",
       "      <td>10 things you need to know before the opening ...</td>\n",
       "      <td>https://markets.businessinsider.com/news/stock...</td>\n",
       "      <td>https://images.markets.businessinsider.com/ima...</td>\n",
       "    </tr>\n",
       "    <tr>\n",
       "      <th>5</th>\n",
       "      <td>JIM TANKERSLEY and ANA SWANSON</td>\n",
       "      <td>Border activity makes up a relatively larger s...</td>\n",
       "      <td>“Security is more important to me than trade,”...</td>\n",
       "      <td>2019-04-02 23:55:24</td>\n",
       "      <td>{'id': 'the-new-york-times', 'name': 'The New ...</td>\n",
       "      <td>Trump Vows to Close Border, Even if It Hurts t...</td>\n",
       "      <td>https://www.nytimes.com/2019/04/02/us/politics...</td>\n",
       "      <td>https://static01.nyt.com/images/2019/04/02/bus...</td>\n",
       "    </tr>\n",
       "    <tr>\n",
       "      <th>7</th>\n",
       "      <td>Arjun Reddy</td>\n",
       "      <td>Through the following slides, JPMorgan provide...</td>\n",
       "      <td>Through the following slides, JPMorgan provide...</td>\n",
       "      <td>2019-04-03 16:28:00</td>\n",
       "      <td>{'id': 'business-insider', 'name': 'Business I...</td>\n",
       "      <td>JPMorgan: These 66 charts are the ultimate gui...</td>\n",
       "      <td>https://www.businessinsider.com/stock-market-6...</td>\n",
       "      <td>https://amp.businessinsider.com/images/5ca4d89...</td>\n",
       "    </tr>\n",
       "    <tr>\n",
       "      <th>6</th>\n",
       "      <td>Callum Burroughs</td>\n",
       "      <td>Stock markets paused for thought Thursday as i...</td>\n",
       "      <td>Global equities paused for thought Thursday, a...</td>\n",
       "      <td>2019-04-04 09:02:50</td>\n",
       "      <td>{'id': 'business-insider', 'name': 'Business I...</td>\n",
       "      <td>Global stocks stall after Trump's tariffs bloc...</td>\n",
       "      <td>https://www.businessinsider.com/stock-markets-...</td>\n",
       "      <td>https://amp.businessinsider.com/images/5b23dd5...</td>\n",
       "    </tr>\n",
       "    <tr>\n",
       "      <th>12</th>\n",
       "      <td>Tanza Loudenback</td>\n",
       "      <td>If you want to get rich quick, we have some ba...</td>\n",
       "      <td>The easiest and safest way to grow your money ...</td>\n",
       "      <td>2019-04-05 13:30:00</td>\n",
       "      <td>{'id': 'business-insider', 'name': 'Business I...</td>\n",
       "      <td>How to invest $100,000 to make $1 million</td>\n",
       "      <td>https://www.businessinsider.com/investment-cal...</td>\n",
       "      <td>https://amp.businessinsider.com/images/5ca65a2...</td>\n",
       "    </tr>\n",
       "  </tbody>\n",
       "</table>\n",
       "</div>"
      ],
      "text/plain": [
       "                            author  ...                                         urlToImage\n",
       "19                 Jonathan Garber  ...  https://images.markets.businessinsider.com/ima...\n",
       "5   JIM TANKERSLEY and ANA SWANSON  ...  https://static01.nyt.com/images/2019/04/02/bus...\n",
       "7                      Arjun Reddy  ...  https://amp.businessinsider.com/images/5ca4d89...\n",
       "6                 Callum Burroughs  ...  https://amp.businessinsider.com/images/5b23dd5...\n",
       "12                Tanza Loudenback  ...  https://amp.businessinsider.com/images/5ca65a2...\n",
       "\n",
       "[5 rows x 8 columns]"
      ]
     },
     "execution_count": 27,
     "metadata": {},
     "output_type": "execute_result"
    }
   ],
   "source": [
    "# PERFECT! Now lets sort the dates!\n",
    "df = SP_df.sort_values('publishedAt')\n",
    "df.head()"
   ]
  },
  {
   "cell_type": "code",
   "execution_count": 43,
   "metadata": {},
   "outputs": [
    {
     "data": {
      "text/html": [
       "<div>\n",
       "<style scoped>\n",
       "    .dataframe tbody tr th:only-of-type {\n",
       "        vertical-align: middle;\n",
       "    }\n",
       "\n",
       "    .dataframe tbody tr th {\n",
       "        vertical-align: top;\n",
       "    }\n",
       "\n",
       "    .dataframe thead th {\n",
       "        text-align: right;\n",
       "    }\n",
       "</style>\n",
       "<table border=\"1\" class=\"dataframe\">\n",
       "  <thead>\n",
       "    <tr style=\"text-align: right;\">\n",
       "      <th></th>\n",
       "      <th>Date</th>\n",
       "      <th>Open</th>\n",
       "      <th>High</th>\n",
       "      <th>Low</th>\n",
       "      <th>Close</th>\n",
       "      <th>Adj Close</th>\n",
       "      <th>Volume</th>\n",
       "    </tr>\n",
       "  </thead>\n",
       "  <tbody>\n",
       "    <tr>\n",
       "      <th>0</th>\n",
       "      <td>2019-02-04</td>\n",
       "      <td>2706.489990</td>\n",
       "      <td>2724.989990</td>\n",
       "      <td>2698.750000</td>\n",
       "      <td>2724.870117</td>\n",
       "      <td>2724.870117</td>\n",
       "      <td>3359840000</td>\n",
       "    </tr>\n",
       "    <tr>\n",
       "      <th>1</th>\n",
       "      <td>2019-02-05</td>\n",
       "      <td>2728.340088</td>\n",
       "      <td>2738.979980</td>\n",
       "      <td>2724.030029</td>\n",
       "      <td>2737.699951</td>\n",
       "      <td>2737.699951</td>\n",
       "      <td>3560430000</td>\n",
       "    </tr>\n",
       "    <tr>\n",
       "      <th>2</th>\n",
       "      <td>2019-02-06</td>\n",
       "      <td>2735.050049</td>\n",
       "      <td>2738.080078</td>\n",
       "      <td>2724.149902</td>\n",
       "      <td>2731.610107</td>\n",
       "      <td>2731.610107</td>\n",
       "      <td>3472690000</td>\n",
       "    </tr>\n",
       "    <tr>\n",
       "      <th>3</th>\n",
       "      <td>2019-02-07</td>\n",
       "      <td>2717.530029</td>\n",
       "      <td>2719.320068</td>\n",
       "      <td>2687.260010</td>\n",
       "      <td>2706.050049</td>\n",
       "      <td>2706.050049</td>\n",
       "      <td>4099490000</td>\n",
       "    </tr>\n",
       "    <tr>\n",
       "      <th>4</th>\n",
       "      <td>2019-02-08</td>\n",
       "      <td>2692.360107</td>\n",
       "      <td>2708.070068</td>\n",
       "      <td>2681.830078</td>\n",
       "      <td>2707.879883</td>\n",
       "      <td>2707.879883</td>\n",
       "      <td>3622330000</td>\n",
       "    </tr>\n",
       "  </tbody>\n",
       "</table>\n",
       "</div>"
      ],
      "text/plain": [
       "         Date         Open         High  ...        Close    Adj Close      Volume\n",
       "0  2019-02-04  2706.489990  2724.989990  ...  2724.870117  2724.870117  3359840000\n",
       "1  2019-02-05  2728.340088  2738.979980  ...  2737.699951  2737.699951  3560430000\n",
       "2  2019-02-06  2735.050049  2738.080078  ...  2731.610107  2731.610107  3472690000\n",
       "3  2019-02-07  2717.530029  2719.320068  ...  2706.050049  2706.050049  4099490000\n",
       "4  2019-02-08  2692.360107  2708.070068  ...  2707.879883  2707.879883  3622330000\n",
       "\n",
       "[5 rows x 7 columns]"
      ]
     },
     "execution_count": 43,
     "metadata": {},
     "output_type": "execute_result"
    }
   ],
   "source": [
    "# We got our  S&P Data for the past month via yahoo, lets take a look at it\n",
    "sp_price = pd.read_csv('data/^GSPC.csv')\n",
    "sp_price.head()"
   ]
  },
  {
   "cell_type": "code",
   "execution_count": 44,
   "metadata": {},
   "outputs": [
    {
     "data": {
      "application/vnd.plotly.v1+json": {
       "config": {
        "linkText": "Export to plot.ly",
        "plotlyServerURL": "https://plot.ly",
        "responsive": true,
        "showLink": false
       },
       "data": [
        {
         "hovertemplate": "Date=%{x}<br>Close=%{y}<extra></extra>",
         "legendgroup": "",
         "line": {
          "color": "#636efa",
          "dash": "solid"
         },
         "mode": "lines",
         "name": "",
         "showlegend": false,
         "type": "scatter",
         "uid": "3a3e7ef6-57d6-4a10-9fc5-6303f2f90afb",
         "x": [
          "2019-02-04",
          "2019-02-05",
          "2019-02-06",
          "2019-02-07",
          "2019-02-08",
          "2019-02-11",
          "2019-02-12",
          "2019-02-13",
          "2019-02-14",
          "2019-02-15",
          "2019-02-19",
          "2019-02-20",
          "2019-02-21",
          "2019-02-22",
          "2019-02-25",
          "2019-02-26",
          "2019-02-27",
          "2019-02-28",
          "2019-03-01",
          "2019-03-04",
          "2019-03-05",
          "2019-03-06",
          "2019-03-07",
          "2019-03-08",
          "2019-03-11",
          "2019-03-12",
          "2019-03-13",
          "2019-03-14",
          "2019-03-15",
          "2019-03-18",
          "2019-03-19",
          "2019-03-20",
          "2019-03-21",
          "2019-03-22",
          "2019-03-25",
          "2019-03-26",
          "2019-03-27",
          "2019-03-28",
          "2019-03-29",
          "2019-04-01",
          "2019-04-02",
          "2019-04-03",
          "2019-04-04",
          "2019-04-05",
          "2019-04-08",
          "2019-04-09",
          "2019-04-10",
          "2019-04-11",
          "2019-04-12",
          "2019-04-15",
          "2019-04-16",
          "2019-04-17",
          "2019-04-18",
          "2019-04-22",
          "2019-04-23",
          "2019-04-24",
          "2019-04-25",
          "2019-04-26",
          "2019-04-29",
          "2019-04-30",
          "2019-05-01"
         ],
         "xaxis": "x",
         "y": [
          2724.8701170000004,
          2737.699951,
          2731.610107,
          2706.050049,
          2707.8798829999996,
          2709.800049,
          2744.72998,
          2753.030029,
          2745.72998,
          2775.600098,
          2779.76001,
          2784.699951,
          2774.8798829999996,
          2792.669922,
          2796.110107,
          2793.899902,
          2792.3798829999996,
          2784.48999,
          2803.689941,
          2792.810059,
          2789.649902,
          2771.449951,
          2748.929932,
          2743.070068,
          2783.300049,
          2791.52002,
          2810.919922,
          2808.47998,
          2822.47998,
          2832.939941,
          2832.570068,
          2824.22998,
          2854.8798829999996,
          2800.709961,
          2798.360107,
          2818.459961,
          2805.3701170000004,
          2815.439941,
          2834.399902,
          2867.189941,
          2867.23999,
          2873.399902,
          2879.389893,
          2892.73999,
          2895.77002,
          2878.199951,
          2888.209961,
          2888.320068,
          2907.409912,
          2905.580078,
          2907.060059,
          2900.449951,
          2905.030029,
          2907.969971,
          2933.679932,
          2927.25,
          2926.169922,
          2939.8798829999996,
          2943.030029,
          2945.830078,
          2923.72998
         ],
         "yaxis": "y"
        }
       ],
       "layout": {
        "grid": {
         "xaxes": [
          "x"
         ],
         "xgap": 0.1,
         "xside": "bottom",
         "yaxes": [
          "y"
         ],
         "ygap": 0.1,
         "yside": "left"
        },
        "height": 600,
        "legend": {
         "tracegroupgap": 0
        },
        "margin": {
         "t": 60
        },
        "template": {
         "data": {
          "bar": [
           {
            "marker": {
             "line": {
              "color": "#E5ECF6",
              "width": 0.5
             }
            },
            "type": "bar"
           }
          ],
          "barpolar": [
           {
            "marker": {
             "line": {
              "color": "#E5ECF6",
              "width": 0.5
             }
            },
            "type": "barpolar"
           }
          ],
          "carpet": [
           {
            "aaxis": {
             "endlinecolor": "#2a3f5f",
             "gridcolor": "white",
             "linecolor": "white",
             "minorgridcolor": "white",
             "startlinecolor": "#2a3f5f"
            },
            "baxis": {
             "endlinecolor": "#2a3f5f",
             "gridcolor": "white",
             "linecolor": "white",
             "minorgridcolor": "white",
             "startlinecolor": "#2a3f5f"
            },
            "type": "carpet"
           }
          ],
          "choropleth": [
           {
            "colorbar": {
             "outlinewidth": 0,
             "ticks": ""
            },
            "type": "choropleth"
           }
          ],
          "contour": [
           {
            "autocolorscale": true,
            "colorbar": {
             "outlinewidth": 0,
             "ticks": ""
            },
            "type": "contour"
           }
          ],
          "contourcarpet": [
           {
            "colorbar": {
             "outlinewidth": 0,
             "ticks": ""
            },
            "type": "contourcarpet"
           }
          ],
          "heatmap": [
           {
            "autocolorscale": true,
            "colorbar": {
             "outlinewidth": 0,
             "ticks": ""
            },
            "type": "heatmap"
           }
          ],
          "heatmapgl": [
           {
            "colorbar": {
             "outlinewidth": 0,
             "ticks": ""
            },
            "type": "heatmapgl"
           }
          ],
          "histogram": [
           {
            "marker": {
             "colorbar": {
              "outlinewidth": 0,
              "ticks": ""
             }
            },
            "type": "histogram"
           }
          ],
          "histogram2d": [
           {
            "autocolorscale": true,
            "colorbar": {
             "outlinewidth": 0,
             "ticks": ""
            },
            "type": "histogram2d"
           }
          ],
          "histogram2dcontour": [
           {
            "autocolorscale": true,
            "colorbar": {
             "outlinewidth": 0,
             "ticks": ""
            },
            "type": "histogram2dcontour"
           }
          ],
          "mesh3d": [
           {
            "colorbar": {
             "outlinewidth": 0,
             "ticks": ""
            },
            "type": "mesh3d"
           }
          ],
          "parcoords": [
           {
            "line": {
             "colorbar": {
              "outlinewidth": 0,
              "ticks": ""
             }
            },
            "type": "parcoords"
           }
          ],
          "scatter": [
           {
            "marker": {
             "colorbar": {
              "outlinewidth": 0,
              "ticks": ""
             }
            },
            "type": "scatter"
           }
          ],
          "scatter3d": [
           {
            "marker": {
             "colorbar": {
              "outlinewidth": 0,
              "ticks": ""
             }
            },
            "type": "scatter3d"
           }
          ],
          "scattercarpet": [
           {
            "marker": {
             "colorbar": {
              "outlinewidth": 0,
              "ticks": ""
             }
            },
            "type": "scattercarpet"
           }
          ],
          "scattergeo": [
           {
            "marker": {
             "colorbar": {
              "outlinewidth": 0,
              "ticks": ""
             }
            },
            "type": "scattergeo"
           }
          ],
          "scattergl": [
           {
            "marker": {
             "colorbar": {
              "outlinewidth": 0,
              "ticks": ""
             }
            },
            "type": "scattergl"
           }
          ],
          "scattermapbox": [
           {
            "marker": {
             "colorbar": {
              "outlinewidth": 0,
              "ticks": ""
             }
            },
            "type": "scattermapbox"
           }
          ],
          "scatterpolar": [
           {
            "marker": {
             "colorbar": {
              "outlinewidth": 0,
              "ticks": ""
             }
            },
            "type": "scatterpolar"
           }
          ],
          "scatterpolargl": [
           {
            "marker": {
             "colorbar": {
              "outlinewidth": 0,
              "ticks": ""
             }
            },
            "type": "scatterpolargl"
           }
          ],
          "scatterternary": [
           {
            "marker": {
             "colorbar": {
              "outlinewidth": 0,
              "ticks": ""
             }
            },
            "type": "scatterternary"
           }
          ],
          "surface": [
           {
            "colorbar": {
             "outlinewidth": 0,
             "ticks": ""
            },
            "type": "surface"
           }
          ],
          "table": [
           {
            "cells": {
             "fill": {
              "color": "#EBF0F8"
             },
             "line": {
              "color": "white"
             }
            },
            "header": {
             "fill": {
              "color": "#C8D4E3"
             },
             "line": {
              "color": "white"
             }
            },
            "type": "table"
           }
          ]
         },
         "layout": {
          "annotationdefaults": {
           "arrowcolor": "#506784",
           "arrowhead": 0,
           "arrowwidth": 1
          },
          "colorscale": {
           "diverging": [
            [
             0,
             "#8e0152"
            ],
            [
             0.1,
             "#c51b7d"
            ],
            [
             0.2,
             "#de77ae"
            ],
            [
             0.3,
             "#f1b6da"
            ],
            [
             0.4,
             "#fde0ef"
            ],
            [
             0.5,
             "#f7f7f7"
            ],
            [
             0.6,
             "#e6f5d0"
            ],
            [
             0.7,
             "#b8e186"
            ],
            [
             0.8,
             "#7fbc41"
            ],
            [
             0.9,
             "#4d9221"
            ],
            [
             1,
             "#276419"
            ]
           ],
           "sequential": [
            [
             0,
             "#0508b8"
            ],
            [
             0.0893854748603352,
             "#1910d8"
            ],
            [
             0.1787709497206704,
             "#3c19f0"
            ],
            [
             0.2681564245810056,
             "#6b1cfb"
            ],
            [
             0.3575418994413408,
             "#981cfd"
            ],
            [
             0.44692737430167595,
             "#bf1cfd"
            ],
            [
             0.5363128491620112,
             "#dd2bfd"
            ],
            [
             0.6256983240223464,
             "#f246fe"
            ],
            [
             0.7150837988826816,
             "#fc67fd"
            ],
            [
             0.8044692737430168,
             "#fe88fc"
            ],
            [
             0.8938547486033519,
             "#fea5fd"
            ],
            [
             0.9832402234636871,
             "#febefe"
            ],
            [
             1,
             "#fec3fe"
            ]
           ],
           "sequentialminus": [
            [
             0,
             "#0508b8"
            ],
            [
             0.0893854748603352,
             "#1910d8"
            ],
            [
             0.1787709497206704,
             "#3c19f0"
            ],
            [
             0.2681564245810056,
             "#6b1cfb"
            ],
            [
             0.3575418994413408,
             "#981cfd"
            ],
            [
             0.44692737430167595,
             "#bf1cfd"
            ],
            [
             0.5363128491620112,
             "#dd2bfd"
            ],
            [
             0.6256983240223464,
             "#f246fe"
            ],
            [
             0.7150837988826816,
             "#fc67fd"
            ],
            [
             0.8044692737430168,
             "#fe88fc"
            ],
            [
             0.8938547486033519,
             "#fea5fd"
            ],
            [
             0.9832402234636871,
             "#febefe"
            ],
            [
             1,
             "#fec3fe"
            ]
           ]
          },
          "colorway": [
           "#636efa",
           "#EF553B",
           "#00cc96",
           "#ab63fa",
           "#19d3f3",
           "#e763fa",
           "#FECB52",
           "#FFA15A",
           "#FF6692",
           "#B6E880"
          ],
          "font": {
           "color": "#2a3f5f"
          },
          "geo": {
           "bgcolor": "white",
           "lakecolor": "white",
           "landcolor": "#E5ECF6",
           "showlakes": true,
           "showland": true,
           "subunitcolor": "white"
          },
          "hoverlabel": {
           "align": "left"
          },
          "hovermode": "closest",
          "mapbox": {
           "style": "light"
          },
          "paper_bgcolor": "white",
          "plot_bgcolor": "#E5ECF6",
          "polar": {
           "angularaxis": {
            "gridcolor": "white",
            "linecolor": "white",
            "ticks": ""
           },
           "bgcolor": "#E5ECF6",
           "radialaxis": {
            "gridcolor": "white",
            "linecolor": "white",
            "ticks": ""
           }
          },
          "scene": {
           "xaxis": {
            "backgroundcolor": "#E5ECF6",
            "gridcolor": "white",
            "gridwidth": 2,
            "linecolor": "white",
            "showbackground": true,
            "ticks": "",
            "zerolinecolor": "white"
           },
           "yaxis": {
            "backgroundcolor": "#E5ECF6",
            "gridcolor": "white",
            "gridwidth": 2,
            "linecolor": "white",
            "showbackground": true,
            "ticks": "",
            "zerolinecolor": "white"
           },
           "zaxis": {
            "backgroundcolor": "#E5ECF6",
            "gridcolor": "white",
            "gridwidth": 2,
            "linecolor": "white",
            "showbackground": true,
            "ticks": "",
            "zerolinecolor": "white"
           }
          },
          "shapedefaults": {
           "fillcolor": "#506784",
           "line": {
            "width": 0
           },
           "opacity": 0.4
          },
          "ternary": {
           "aaxis": {
            "gridcolor": "white",
            "linecolor": "white",
            "ticks": ""
           },
           "baxis": {
            "gridcolor": "white",
            "linecolor": "white",
            "ticks": ""
           },
           "bgcolor": "#E5ECF6",
           "caxis": {
            "gridcolor": "white",
            "linecolor": "white",
            "ticks": ""
           }
          },
          "title": {
           "x": 0.05
          },
          "xaxis": {
           "automargin": true,
           "gridcolor": "white",
           "linecolor": "white",
           "ticks": "",
           "zerolinecolor": "white",
           "zerolinewidth": 2
          },
          "yaxis": {
           "automargin": true,
           "gridcolor": "white",
           "linecolor": "white",
           "ticks": "",
           "zerolinecolor": "white",
           "zerolinewidth": 2
          }
         }
        },
        "xaxis": {
         "title": {
          "text": "Date"
         }
        },
        "yaxis": {
         "title": {
          "text": "Close"
         }
        }
       }
      },
      "text/html": [
       "<div>\n",
       "        \n",
       "        \n",
       "            <div id=\"3d34c306-6678-49eb-ad55-18ac8c4324a5\" class=\"plotly-graph-div\" style=\"height:600px; width:100%;\"></div>\n",
       "            <script type=\"text/javascript\">\n",
       "                require([\"plotly\"], function(Plotly) {\n",
       "                    window.PLOTLYENV=window.PLOTLYENV || {};\n",
       "                    window.PLOTLYENV.BASE_URL='https://plot.ly';\n",
       "                    \n",
       "                if (document.getElementById(\"3d34c306-6678-49eb-ad55-18ac8c4324a5\")) {\n",
       "                    Plotly.newPlot(\n",
       "                        '3d34c306-6678-49eb-ad55-18ac8c4324a5',\n",
       "                        [{\"hovertemplate\": \"Date=%{x}<br>Close=%{y}<extra></extra>\", \"legendgroup\": \"\", \"line\": {\"color\": \"#636efa\", \"dash\": \"solid\"}, \"mode\": \"lines\", \"name\": \"\", \"showlegend\": false, \"type\": \"scatter\", \"uid\": \"b24f8852-fd5c-43f1-ab80-e606624e8f4f\", \"x\": [\"2019-02-04\", \"2019-02-05\", \"2019-02-06\", \"2019-02-07\", \"2019-02-08\", \"2019-02-11\", \"2019-02-12\", \"2019-02-13\", \"2019-02-14\", \"2019-02-15\", \"2019-02-19\", \"2019-02-20\", \"2019-02-21\", \"2019-02-22\", \"2019-02-25\", \"2019-02-26\", \"2019-02-27\", \"2019-02-28\", \"2019-03-01\", \"2019-03-04\", \"2019-03-05\", \"2019-03-06\", \"2019-03-07\", \"2019-03-08\", \"2019-03-11\", \"2019-03-12\", \"2019-03-13\", \"2019-03-14\", \"2019-03-15\", \"2019-03-18\", \"2019-03-19\", \"2019-03-20\", \"2019-03-21\", \"2019-03-22\", \"2019-03-25\", \"2019-03-26\", \"2019-03-27\", \"2019-03-28\", \"2019-03-29\", \"2019-04-01\", \"2019-04-02\", \"2019-04-03\", \"2019-04-04\", \"2019-04-05\", \"2019-04-08\", \"2019-04-09\", \"2019-04-10\", \"2019-04-11\", \"2019-04-12\", \"2019-04-15\", \"2019-04-16\", \"2019-04-17\", \"2019-04-18\", \"2019-04-22\", \"2019-04-23\", \"2019-04-24\", \"2019-04-25\", \"2019-04-26\", \"2019-04-29\", \"2019-04-30\", \"2019-05-01\"], \"xaxis\": \"x\", \"y\": [2724.8701170000004, 2737.699951, 2731.610107, 2706.050049, 2707.8798829999996, 2709.800049, 2744.72998, 2753.030029, 2745.72998, 2775.600098, 2779.76001, 2784.699951, 2774.8798829999996, 2792.669922, 2796.110107, 2793.899902, 2792.3798829999996, 2784.48999, 2803.689941, 2792.810059, 2789.649902, 2771.449951, 2748.929932, 2743.070068, 2783.300049, 2791.52002, 2810.919922, 2808.47998, 2822.47998, 2832.939941, 2832.570068, 2824.22998, 2854.8798829999996, 2800.709961, 2798.360107, 2818.459961, 2805.3701170000004, 2815.439941, 2834.399902, 2867.189941, 2867.23999, 2873.399902, 2879.389893, 2892.73999, 2895.77002, 2878.199951, 2888.209961, 2888.320068, 2907.409912, 2905.580078, 2907.060059, 2900.449951, 2905.030029, 2907.969971, 2933.679932, 2927.25, 2926.169922, 2939.8798829999996, 2943.030029, 2945.830078, 2923.72998], \"yaxis\": \"y\"}],\n",
       "                        {\"grid\": {\"xaxes\": [\"x\"], \"xgap\": 0.1, \"xside\": \"bottom\", \"yaxes\": [\"y\"], \"ygap\": 0.1, \"yside\": \"left\"}, \"height\": 600, \"legend\": {\"tracegroupgap\": 0}, \"margin\": {\"t\": 60}, \"template\": {\"data\": {\"bar\": [{\"marker\": {\"line\": {\"color\": \"#E5ECF6\", \"width\": 0.5}}, \"type\": \"bar\"}], \"barpolar\": [{\"marker\": {\"line\": {\"color\": \"#E5ECF6\", \"width\": 0.5}}, \"type\": \"barpolar\"}], \"carpet\": [{\"aaxis\": {\"endlinecolor\": \"#2a3f5f\", \"gridcolor\": \"white\", \"linecolor\": \"white\", \"minorgridcolor\": \"white\", \"startlinecolor\": \"#2a3f5f\"}, \"baxis\": {\"endlinecolor\": \"#2a3f5f\", \"gridcolor\": \"white\", \"linecolor\": \"white\", \"minorgridcolor\": \"white\", \"startlinecolor\": \"#2a3f5f\"}, \"type\": \"carpet\"}], \"choropleth\": [{\"colorbar\": {\"outlinewidth\": 0, \"ticks\": \"\"}, \"type\": \"choropleth\"}], \"contour\": [{\"autocolorscale\": true, \"colorbar\": {\"outlinewidth\": 0, \"ticks\": \"\"}, \"type\": \"contour\"}], \"contourcarpet\": [{\"colorbar\": {\"outlinewidth\": 0, \"ticks\": \"\"}, \"type\": \"contourcarpet\"}], \"heatmap\": [{\"autocolorscale\": true, \"colorbar\": {\"outlinewidth\": 0, \"ticks\": \"\"}, \"type\": \"heatmap\"}], \"heatmapgl\": [{\"colorbar\": {\"outlinewidth\": 0, \"ticks\": \"\"}, \"type\": \"heatmapgl\"}], \"histogram\": [{\"marker\": {\"colorbar\": {\"outlinewidth\": 0, \"ticks\": \"\"}}, \"type\": \"histogram\"}], \"histogram2d\": [{\"autocolorscale\": true, \"colorbar\": {\"outlinewidth\": 0, \"ticks\": \"\"}, \"type\": \"histogram2d\"}], \"histogram2dcontour\": [{\"autocolorscale\": true, \"colorbar\": {\"outlinewidth\": 0, \"ticks\": \"\"}, \"type\": \"histogram2dcontour\"}], \"mesh3d\": [{\"colorbar\": {\"outlinewidth\": 0, \"ticks\": \"\"}, \"type\": \"mesh3d\"}], \"parcoords\": [{\"line\": {\"colorbar\": {\"outlinewidth\": 0, \"ticks\": \"\"}}, \"type\": \"parcoords\"}], \"scatter\": [{\"marker\": {\"colorbar\": {\"outlinewidth\": 0, \"ticks\": \"\"}}, \"type\": \"scatter\"}], \"scatter3d\": [{\"marker\": {\"colorbar\": {\"outlinewidth\": 0, \"ticks\": \"\"}}, \"type\": \"scatter3d\"}], \"scattercarpet\": [{\"marker\": {\"colorbar\": {\"outlinewidth\": 0, \"ticks\": \"\"}}, \"type\": \"scattercarpet\"}], \"scattergeo\": [{\"marker\": {\"colorbar\": {\"outlinewidth\": 0, \"ticks\": \"\"}}, \"type\": \"scattergeo\"}], \"scattergl\": [{\"marker\": {\"colorbar\": {\"outlinewidth\": 0, \"ticks\": \"\"}}, \"type\": \"scattergl\"}], \"scattermapbox\": [{\"marker\": {\"colorbar\": {\"outlinewidth\": 0, \"ticks\": \"\"}}, \"type\": \"scattermapbox\"}], \"scatterpolar\": [{\"marker\": {\"colorbar\": {\"outlinewidth\": 0, \"ticks\": \"\"}}, \"type\": \"scatterpolar\"}], \"scatterpolargl\": [{\"marker\": {\"colorbar\": {\"outlinewidth\": 0, \"ticks\": \"\"}}, \"type\": \"scatterpolargl\"}], \"scatterternary\": [{\"marker\": {\"colorbar\": {\"outlinewidth\": 0, \"ticks\": \"\"}}, \"type\": \"scatterternary\"}], \"surface\": [{\"colorbar\": {\"outlinewidth\": 0, \"ticks\": \"\"}, \"type\": \"surface\"}], \"table\": [{\"cells\": {\"fill\": {\"color\": \"#EBF0F8\"}, \"line\": {\"color\": \"white\"}}, \"header\": {\"fill\": {\"color\": \"#C8D4E3\"}, \"line\": {\"color\": \"white\"}}, \"type\": \"table\"}]}, \"layout\": {\"annotationdefaults\": {\"arrowcolor\": \"#506784\", \"arrowhead\": 0, \"arrowwidth\": 1}, \"colorscale\": {\"diverging\": [[0, \"#8e0152\"], [0.1, \"#c51b7d\"], [0.2, \"#de77ae\"], [0.3, \"#f1b6da\"], [0.4, \"#fde0ef\"], [0.5, \"#f7f7f7\"], [0.6, \"#e6f5d0\"], [0.7, \"#b8e186\"], [0.8, \"#7fbc41\"], [0.9, \"#4d9221\"], [1, \"#276419\"]], \"sequential\": [[0.0, \"#0508b8\"], [0.0893854748603352, \"#1910d8\"], [0.1787709497206704, \"#3c19f0\"], [0.2681564245810056, \"#6b1cfb\"], [0.3575418994413408, \"#981cfd\"], [0.44692737430167595, \"#bf1cfd\"], [0.5363128491620112, \"#dd2bfd\"], [0.6256983240223464, \"#f246fe\"], [0.7150837988826816, \"#fc67fd\"], [0.8044692737430168, \"#fe88fc\"], [0.8938547486033519, \"#fea5fd\"], [0.9832402234636871, \"#febefe\"], [1.0, \"#fec3fe\"]], \"sequentialminus\": [[0.0, \"#0508b8\"], [0.0893854748603352, \"#1910d8\"], [0.1787709497206704, \"#3c19f0\"], [0.2681564245810056, \"#6b1cfb\"], [0.3575418994413408, \"#981cfd\"], [0.44692737430167595, \"#bf1cfd\"], [0.5363128491620112, \"#dd2bfd\"], [0.6256983240223464, \"#f246fe\"], [0.7150837988826816, \"#fc67fd\"], [0.8044692737430168, \"#fe88fc\"], [0.8938547486033519, \"#fea5fd\"], [0.9832402234636871, \"#febefe\"], [1.0, \"#fec3fe\"]]}, \"colorway\": [\"#636efa\", \"#EF553B\", \"#00cc96\", \"#ab63fa\", \"#19d3f3\", \"#e763fa\", \"#FECB52\", \"#FFA15A\", \"#FF6692\", \"#B6E880\"], \"font\": {\"color\": \"#2a3f5f\"}, \"geo\": {\"bgcolor\": \"white\", \"lakecolor\": \"white\", \"landcolor\": \"#E5ECF6\", \"showlakes\": true, \"showland\": true, \"subunitcolor\": \"white\"}, \"hoverlabel\": {\"align\": \"left\"}, \"hovermode\": \"closest\", \"mapbox\": {\"style\": \"light\"}, \"paper_bgcolor\": \"white\", \"plot_bgcolor\": \"#E5ECF6\", \"polar\": {\"angularaxis\": {\"gridcolor\": \"white\", \"linecolor\": \"white\", \"ticks\": \"\"}, \"bgcolor\": \"#E5ECF6\", \"radialaxis\": {\"gridcolor\": \"white\", \"linecolor\": \"white\", \"ticks\": \"\"}}, \"scene\": {\"xaxis\": {\"backgroundcolor\": \"#E5ECF6\", \"gridcolor\": \"white\", \"gridwidth\": 2, \"linecolor\": \"white\", \"showbackground\": true, \"ticks\": \"\", \"zerolinecolor\": \"white\"}, \"yaxis\": {\"backgroundcolor\": \"#E5ECF6\", \"gridcolor\": \"white\", \"gridwidth\": 2, \"linecolor\": \"white\", \"showbackground\": true, \"ticks\": \"\", \"zerolinecolor\": \"white\"}, \"zaxis\": {\"backgroundcolor\": \"#E5ECF6\", \"gridcolor\": \"white\", \"gridwidth\": 2, \"linecolor\": \"white\", \"showbackground\": true, \"ticks\": \"\", \"zerolinecolor\": \"white\"}}, \"shapedefaults\": {\"fillcolor\": \"#506784\", \"line\": {\"width\": 0}, \"opacity\": 0.4}, \"ternary\": {\"aaxis\": {\"gridcolor\": \"white\", \"linecolor\": \"white\", \"ticks\": \"\"}, \"baxis\": {\"gridcolor\": \"white\", \"linecolor\": \"white\", \"ticks\": \"\"}, \"bgcolor\": \"#E5ECF6\", \"caxis\": {\"gridcolor\": \"white\", \"linecolor\": \"white\", \"ticks\": \"\"}}, \"title\": {\"x\": 0.05}, \"xaxis\": {\"automargin\": true, \"gridcolor\": \"white\", \"linecolor\": \"white\", \"ticks\": \"\", \"zerolinecolor\": \"white\", \"zerolinewidth\": 2}, \"yaxis\": {\"automargin\": true, \"gridcolor\": \"white\", \"linecolor\": \"white\", \"ticks\": \"\", \"zerolinecolor\": \"white\", \"zerolinewidth\": 2}}}, \"xaxis\": {\"title\": {\"text\": \"Date\"}}, \"yaxis\": {\"title\": {\"text\": \"Close\"}}},\n",
       "                        {\"showLink\": false, \"linkText\": \"Export to plot.ly\", \"plotlyServerURL\": \"https://plot.ly\", \"responsive\": true}\n",
       "                    ).then(function(){\n",
       "                            \n",
       "var gd = document.getElementById('3d34c306-6678-49eb-ad55-18ac8c4324a5');\n",
       "var x = new MutationObserver(function (mutations, observer) {{\n",
       "        var display = window.getComputedStyle(gd).display;\n",
       "        if (!display || display === 'none') {{\n",
       "            console.log([gd, 'removed!']);\n",
       "            Plotly.purge(gd);\n",
       "            observer.disconnect();\n",
       "        }}\n",
       "}});\n",
       "\n",
       "// Listen for the removal of the full notebook cells\n",
       "var notebookContainer = gd.closest('#notebook-container');\n",
       "if (notebookContainer) {{\n",
       "    x.observe(notebookContainer, {childList: true});\n",
       "}}\n",
       "\n",
       "// Listen for the clearing of the current output cell\n",
       "var outputEl = gd.closest('.output');\n",
       "if (outputEl) {{\n",
       "    x.observe(outputEl, {childList: true});\n",
       "}}\n",
       "\n",
       "                        })\n",
       "                };\n",
       "                });\n",
       "            </script>\n",
       "        </div>"
      ]
     },
     "metadata": {},
     "output_type": "display_data"
    }
   ],
   "source": [
    "px.line(sp_price, x='Date',y='Close')"
   ]
  },
  {
   "cell_type": "markdown",
   "metadata": {},
   "source": [
    "- Not too bad, seems to be doing poorly as of recently, so let's check our sentiment data\n",
    "- We have daily data, and news data is on a differnet basis, let's work aournd this"
   ]
  },
  {
   "cell_type": "code",
   "execution_count": 50,
   "metadata": {},
   "outputs": [],
   "source": [
    "SP_df['Date'] =pd.to_datetime([str(i)[0:10]for i in SP_df['publishedAt']])"
   ]
  },
  {
   "cell_type": "code",
   "execution_count": 58,
   "metadata": {},
   "outputs": [],
   "source": [
    "#SP_df['Date']"
   ]
  },
  {
   "cell_type": "code",
   "execution_count": 57,
   "metadata": {},
   "outputs": [],
   "source": [
    "#sp_df2=SP_df.sort_values('publishedAt')\n",
    "#sp_df2.head()"
   ]
  },
  {
   "cell_type": "markdown",
   "metadata": {},
   "source": [
    "#### Let's find some sentiment using our libraries"
   ]
  },
  {
   "cell_type": "code",
   "execution_count": 66,
   "metadata": {},
   "outputs": [],
   "source": [
    "#Let's Start small, like 1 news source\n",
    "example = sp_df2['description'][0]"
   ]
  },
  {
   "cell_type": "code",
   "execution_count": 67,
   "metadata": {},
   "outputs": [
    {
     "name": "stdout",
     "output_type": "stream",
     "text": [
      "Sentiment(polarity=0.22000000000000003, subjectivity=0.58)\n"
     ]
    }
   ],
   "source": [
    "# wiki is always for textblob\n",
    "wiki = TextBlob(example)\n",
    "print(wiki.sentiment)"
   ]
  },
  {
   "cell_type": "markdown",
   "metadata": {},
   "source": [
    "##### By the looks of it it's pretty negative (TextBlob measures for 0 - 1, but it's also hight subjective. Which could be a good indication on contextuality)"
   ]
  },
  {
   "cell_type": "markdown",
   "metadata": {},
   "source": [
    "##### Now with Vader + Spacy sentiment"
   ]
  },
  {
   "cell_type": "code",
   "execution_count": 68,
   "metadata": {},
   "outputs": [],
   "source": [
    "from vaderSentiment.vaderSentiment import SentimentIntensityAnalyzer\n",
    "from spacy.tokens import Doc\n",
    "import spacy\n",
    "sentiment_analyzer = SentimentIntensityAnalyzer()\n",
    "nlp = spacy.load('en')\n",
    "def polarity_scores(doc):\n",
    "    return sentiment_analyzer.polarity_scores(doc.text)"
   ]
  },
  {
   "cell_type": "code",
   "execution_count": 69,
   "metadata": {},
   "outputs": [
    {
     "name": "stdout",
     "output_type": "stream",
     "text": [
      "{'neg': 0.0, 'neu': 1.0, 'pos': 0.0, 'compound': 0.0}\n"
     ]
    }
   ],
   "source": [
    "doc = nlp(example)\n",
    "print(polarity_scores(doc))"
   ]
  },
  {
   "cell_type": "markdown",
   "metadata": {},
   "source": [
    "##### 100% Neutral, which makes more sense than TextBlob, if we take a look at the content"
   ]
  },
  {
   "cell_type": "code",
   "execution_count": 70,
   "metadata": {},
   "outputs": [
    {
     "name": "stdout",
     "output_type": "stream",
     "text": [
      "The legendary investor Warre n Buffett predicts Berkshire Hathaway may only modestly outperform the S&P 500, if at all. The Berkshire CEO made the comment in a wide-ranging interview with the Financial Times. Buffett also noted that Berkshire may buy back as …\n"
     ]
    }
   ],
   "source": [
    "print(example)"
   ]
  },
  {
   "cell_type": "markdown",
   "metadata": {},
   "source": [
    "##### Contextuality is very important here!"
   ]
  },
  {
   "cell_type": "markdown",
   "metadata": {},
   "source": [
    "##### Let's make a data frame with all our data.\n",
    "    - TextBlob sentiment data frame! \n",
    "    - Vader sentiment data frame!"
   ]
  },
  {
   "cell_type": "code",
   "execution_count": 81,
   "metadata": {},
   "outputs": [],
   "source": [
    "news_df = sp_df2.set_index('publishedAt')\n",
    "news_df = news_df.sort_index()\n",
    "news_df['content'] = news_df['content'].fillna('None')\n",
    "news_df['description'] = news_df['description'].fillna('None')\n",
    "news_df['title'] = news_df['title'].fillna('None')"
   ]
  },
  {
   "cell_type": "markdown",
   "metadata": {},
   "source": [
    "#### Let's create a textblob object for our text data so we can actually use it"
   ]
  },
  {
   "cell_type": "code",
   "execution_count": 82,
   "metadata": {},
   "outputs": [],
   "source": [
    "news_df['content_wiki'] = [TextBlob(i) for i in news_df['content']]\n",
    "news_df['description_wiki'] = [TextBlob(i) for i in news_df['description']]\n",
    "news_df['title_wiki']= [TextBlob(i) for i in news_df['title']]"
   ]
  },
  {
   "cell_type": "code",
   "execution_count": 83,
   "metadata": {},
   "outputs": [
    {
     "data": {
      "text/html": [
       "<div>\n",
       "<style scoped>\n",
       "    .dataframe tbody tr th:only-of-type {\n",
       "        vertical-align: middle;\n",
       "    }\n",
       "\n",
       "    .dataframe tbody tr th {\n",
       "        vertical-align: top;\n",
       "    }\n",
       "\n",
       "    .dataframe thead th {\n",
       "        text-align: right;\n",
       "    }\n",
       "</style>\n",
       "<table border=\"1\" class=\"dataframe\">\n",
       "  <thead>\n",
       "    <tr style=\"text-align: right;\">\n",
       "      <th></th>\n",
       "      <th>content_wiki</th>\n",
       "      <th>description_wiki</th>\n",
       "      <th>title_wiki</th>\n",
       "    </tr>\n",
       "    <tr>\n",
       "      <th>publishedAt</th>\n",
       "      <th></th>\n",
       "      <th></th>\n",
       "      <th></th>\n",
       "    </tr>\n",
       "  </thead>\n",
       "  <tbody>\n",
       "    <tr>\n",
       "      <th>2019-04-02 10:47:00</th>\n",
       "      <td>(R, e, u, t, e, r, s, /, F, r, a, n, c, i, s, ...</td>\n",
       "      <td>(H, e, r, e,  , i, s,  , w, h, a, t,  , y, o, ...</td>\n",
       "      <td>(1, 0,  , t, h, i, n, g, s,  , y, o, u,  , n, ...</td>\n",
       "    </tr>\n",
       "    <tr>\n",
       "      <th>2019-04-02 23:55:24</th>\n",
       "      <td>(B, o, r, d, e, r,  , a, c, t, i, v, i, t, y, ...</td>\n",
       "      <td>(“, S, e, c, u, r, i, t, y,  , i, s,  , m, o, ...</td>\n",
       "      <td>(T, r, u, m, p,  , V, o, w, s,  , t, o,  , C, ...</td>\n",
       "    </tr>\n",
       "    <tr>\n",
       "      <th>2019-04-03 16:28:00</th>\n",
       "      <td>(T, h, r, o, u, g, h,  , t, h, e,  , f, o, l, ...</td>\n",
       "      <td>(T, h, r, o, u, g, h,  , t, h, e,  , f, o, l, ...</td>\n",
       "      <td>(J, P, M, o, r, g, a, n, :,  , T, h, e, s, e, ...</td>\n",
       "    </tr>\n",
       "    <tr>\n",
       "      <th>2019-04-04 09:02:50</th>\n",
       "      <td>(S, t, o, c, k,  , m, a, r, k, e, t, s,  , p, ...</td>\n",
       "      <td>(G, l, o, b, a, l,  , e, q, u, i, t, i, e, s, ...</td>\n",
       "      <td>(G, l, o, b, a, l,  , s, t, o, c, k, s,  , s, ...</td>\n",
       "    </tr>\n",
       "    <tr>\n",
       "      <th>2019-04-05 13:30:00</th>\n",
       "      <td>(I, f,  , y, o, u,  , w, a, n, t,  , t, o,  , ...</td>\n",
       "      <td>(T, h, e,  , e, a, s, i, e, s, t,  , a, n, d, ...</td>\n",
       "      <td>(H, o, w,  , t, o,  , i, n, v, e, s, t,  , $, ...</td>\n",
       "    </tr>\n",
       "  </tbody>\n",
       "</table>\n",
       "</div>"
      ],
      "text/plain": [
       "                                                          content_wiki  ...                                         title_wiki\n",
       "publishedAt                                                             ...                                                   \n",
       "2019-04-02 10:47:00  (R, e, u, t, e, r, s, /, F, r, a, n, c, i, s, ...  ...  (1, 0,  , t, h, i, n, g, s,  , y, o, u,  , n, ...\n",
       "2019-04-02 23:55:24  (B, o, r, d, e, r,  , a, c, t, i, v, i, t, y, ...  ...  (T, r, u, m, p,  , V, o, w, s,  , t, o,  , C, ...\n",
       "2019-04-03 16:28:00  (T, h, r, o, u, g, h,  , t, h, e,  , f, o, l, ...  ...  (J, P, M, o, r, g, a, n, :,  , T, h, e, s, e, ...\n",
       "2019-04-04 09:02:50  (S, t, o, c, k,  , m, a, r, k, e, t, s,  , p, ...  ...  (G, l, o, b, a, l,  , s, t, o, c, k, s,  , s, ...\n",
       "2019-04-05 13:30:00  (I, f,  , y, o, u,  , w, a, n, t,  , t, o,  , ...  ...  (H, o, w,  , t, o,  , i, n, v, e, s, t,  , $, ...\n",
       "\n",
       "[5 rows x 3 columns]"
      ]
     },
     "execution_count": 83,
     "metadata": {},
     "output_type": "execute_result"
    }
   ],
   "source": [
    "news_df[['content_wiki','description_wiki','title_wiki']].head()"
   ]
  },
  {
   "cell_type": "markdown",
   "metadata": {},
   "source": [
    "#### Now let's run it through"
   ]
  },
  {
   "cell_type": "code",
   "execution_count": 84,
   "metadata": {},
   "outputs": [],
   "source": [
    "news_df['content_polarity'] = [i.polarity for i in news_df['content_wiki']]\n",
    "news_df['description_polarity'] = [i.polarity for i in news_df['description_wiki']]\n",
    "news_df['title_polarity'] = [i.polarity for i in news_df['title_wiki']]\n",
    "news_df['content_subjectivity'] = [i.subjectivity for i in news_df['content_wiki']]\n",
    "news_df['description_subjectivity'] = [i.subjectivity for i in news_df['description_wiki']]\n",
    "news_df['title_subjectivity'] = [i.subjectivity for i in news_df['title_wiki']]"
   ]
  },
  {
   "cell_type": "code",
   "execution_count": 85,
   "metadata": {},
   "outputs": [
    {
     "data": {
      "text/html": [
       "<div>\n",
       "<style scoped>\n",
       "    .dataframe tbody tr th:only-of-type {\n",
       "        vertical-align: middle;\n",
       "    }\n",
       "\n",
       "    .dataframe tbody tr th {\n",
       "        vertical-align: top;\n",
       "    }\n",
       "\n",
       "    .dataframe thead th {\n",
       "        text-align: right;\n",
       "    }\n",
       "</style>\n",
       "<table border=\"1\" class=\"dataframe\">\n",
       "  <thead>\n",
       "    <tr style=\"text-align: right;\">\n",
       "      <th></th>\n",
       "      <th>content_polarity</th>\n",
       "      <th>description_polarity</th>\n",
       "      <th>title_polarity</th>\n",
       "      <th>content_subjectivity</th>\n",
       "      <th>description_subjectivity</th>\n",
       "      <th>title_subjectivity</th>\n",
       "    </tr>\n",
       "    <tr>\n",
       "      <th>publishedAt</th>\n",
       "      <th></th>\n",
       "      <th></th>\n",
       "      <th></th>\n",
       "      <th></th>\n",
       "      <th></th>\n",
       "      <th></th>\n",
       "    </tr>\n",
       "  </thead>\n",
       "  <tbody>\n",
       "    <tr>\n",
       "      <th>2019-04-02 10:47:00</th>\n",
       "      <td>-0.017857</td>\n",
       "      <td>-0.017857</td>\n",
       "      <td>0.0</td>\n",
       "      <td>0.053571</td>\n",
       "      <td>0.053571</td>\n",
       "      <td>0.0</td>\n",
       "    </tr>\n",
       "    <tr>\n",
       "      <th>2019-04-02 23:55:24</th>\n",
       "      <td>0.265179</td>\n",
       "      <td>0.366667</td>\n",
       "      <td>0.0</td>\n",
       "      <td>0.591071</td>\n",
       "      <td>0.566667</td>\n",
       "      <td>0.0</td>\n",
       "    </tr>\n",
       "    <tr>\n",
       "      <th>2019-04-03 16:28:00</th>\n",
       "      <td>0.080000</td>\n",
       "      <td>0.066667</td>\n",
       "      <td>0.0</td>\n",
       "      <td>0.370000</td>\n",
       "      <td>0.325000</td>\n",
       "      <td>1.0</td>\n",
       "    </tr>\n",
       "    <tr>\n",
       "      <th>2019-04-04 09:02:50</th>\n",
       "      <td>0.370833</td>\n",
       "      <td>0.296667</td>\n",
       "      <td>0.0</td>\n",
       "      <td>0.516667</td>\n",
       "      <td>0.413333</td>\n",
       "      <td>0.0</td>\n",
       "    </tr>\n",
       "    <tr>\n",
       "      <th>2019-04-05 13:30:00</th>\n",
       "      <td>0.136458</td>\n",
       "      <td>0.033333</td>\n",
       "      <td>0.0</td>\n",
       "      <td>0.483333</td>\n",
       "      <td>0.335714</td>\n",
       "      <td>0.0</td>\n",
       "    </tr>\n",
       "  </tbody>\n",
       "</table>\n",
       "</div>"
      ],
      "text/plain": [
       "                     content_polarity  ...  title_subjectivity\n",
       "publishedAt                            ...                    \n",
       "2019-04-02 10:47:00         -0.017857  ...                 0.0\n",
       "2019-04-02 23:55:24          0.265179  ...                 0.0\n",
       "2019-04-03 16:28:00          0.080000  ...                 1.0\n",
       "2019-04-04 09:02:50          0.370833  ...                 0.0\n",
       "2019-04-05 13:30:00          0.136458  ...                 0.0\n",
       "\n",
       "[5 rows x 6 columns]"
      ]
     },
     "execution_count": 85,
     "metadata": {},
     "output_type": "execute_result"
    }
   ],
   "source": [
    "news_df[['content_polarity','description_polarity','title_polarity','content_subjectivity','description_subjectivity'\n",
    "        ,'title_subjectivity']].head()"
   ]
  },
  {
   "cell_type": "code",
   "execution_count": 87,
   "metadata": {},
   "outputs": [
    {
     "data": {
      "text/html": [
       "<div>\n",
       "<style scoped>\n",
       "    .dataframe tbody tr th:only-of-type {\n",
       "        vertical-align: middle;\n",
       "    }\n",
       "\n",
       "    .dataframe tbody tr th {\n",
       "        vertical-align: top;\n",
       "    }\n",
       "\n",
       "    .dataframe thead th {\n",
       "        text-align: right;\n",
       "    }\n",
       "</style>\n",
       "<table border=\"1\" class=\"dataframe\">\n",
       "  <thead>\n",
       "    <tr style=\"text-align: right;\">\n",
       "      <th></th>\n",
       "      <th>description</th>\n",
       "      <th>description_polarity</th>\n",
       "      <th>description_subjectivity</th>\n",
       "    </tr>\n",
       "    <tr>\n",
       "      <th>publishedAt</th>\n",
       "      <th></th>\n",
       "      <th></th>\n",
       "      <th></th>\n",
       "    </tr>\n",
       "  </thead>\n",
       "  <tbody>\n",
       "    <tr>\n",
       "      <th>2019-04-02 10:47:00</th>\n",
       "      <td>Here is what you need to know. The UK is at a ...</td>\n",
       "      <td>-0.017857</td>\n",
       "      <td>0.053571</td>\n",
       "    </tr>\n",
       "    <tr>\n",
       "      <th>2019-04-02 23:55:24</th>\n",
       "      <td>“Security is more important to me than trade,”...</td>\n",
       "      <td>0.366667</td>\n",
       "      <td>0.566667</td>\n",
       "    </tr>\n",
       "    <tr>\n",
       "      <th>2019-04-03 16:28:00</th>\n",
       "      <td>Through the following slides, JPMorgan provide...</td>\n",
       "      <td>0.066667</td>\n",
       "      <td>0.325000</td>\n",
       "    </tr>\n",
       "    <tr>\n",
       "      <th>2019-04-04 09:02:50</th>\n",
       "      <td>Global equities paused for thought Thursday, a...</td>\n",
       "      <td>0.296667</td>\n",
       "      <td>0.413333</td>\n",
       "    </tr>\n",
       "    <tr>\n",
       "      <th>2019-04-05 13:30:00</th>\n",
       "      <td>The easiest and safest way to grow your money ...</td>\n",
       "      <td>0.033333</td>\n",
       "      <td>0.335714</td>\n",
       "    </tr>\n",
       "  </tbody>\n",
       "</table>\n",
       "</div>"
      ],
      "text/plain": [
       "                                                           description  ...  description_subjectivity\n",
       "publishedAt                                                             ...                          \n",
       "2019-04-02 10:47:00  Here is what you need to know. The UK is at a ...  ...                  0.053571\n",
       "2019-04-02 23:55:24  “Security is more important to me than trade,”...  ...                  0.566667\n",
       "2019-04-03 16:28:00  Through the following slides, JPMorgan provide...  ...                  0.325000\n",
       "2019-04-04 09:02:50  Global equities paused for thought Thursday, a...  ...                  0.413333\n",
       "2019-04-05 13:30:00  The easiest and safest way to grow your money ...  ...                  0.335714\n",
       "\n",
       "[5 rows x 3 columns]"
      ]
     },
     "execution_count": 87,
     "metadata": {},
     "output_type": "execute_result"
    }
   ],
   "source": [
    "news_df[['description','description_polarity','description_subjectivity']].head()"
   ]
  },
  {
   "cell_type": "code",
   "execution_count": 94,
   "metadata": {},
   "outputs": [
    {
     "data": {
      "text/html": [
       "<div>\n",
       "<style scoped>\n",
       "    .dataframe tbody tr th:only-of-type {\n",
       "        vertical-align: middle;\n",
       "    }\n",
       "\n",
       "    .dataframe tbody tr th {\n",
       "        vertical-align: top;\n",
       "    }\n",
       "\n",
       "    .dataframe thead th {\n",
       "        text-align: right;\n",
       "    }\n",
       "</style>\n",
       "<table border=\"1\" class=\"dataframe\">\n",
       "  <thead>\n",
       "    <tr style=\"text-align: right;\">\n",
       "      <th></th>\n",
       "      <th>description</th>\n",
       "      <th>description_polarity</th>\n",
       "    </tr>\n",
       "    <tr>\n",
       "      <th>publishedAt</th>\n",
       "      <th></th>\n",
       "      <th></th>\n",
       "    </tr>\n",
       "  </thead>\n",
       "  <tbody>\n",
       "    <tr>\n",
       "      <th>2019-04-02 10:47:00</th>\n",
       "      <td>Here is what you need to know. The UK is at a ...</td>\n",
       "      <td>-0.017857</td>\n",
       "    </tr>\n",
       "    <tr>\n",
       "      <th>2019-04-02 23:55:24</th>\n",
       "      <td>“Security is more important to me than trade,”...</td>\n",
       "      <td>0.366667</td>\n",
       "    </tr>\n",
       "    <tr>\n",
       "      <th>2019-04-03 16:28:00</th>\n",
       "      <td>Through the following slides, JPMorgan provide...</td>\n",
       "      <td>0.066667</td>\n",
       "    </tr>\n",
       "    <tr>\n",
       "      <th>2019-04-04 09:02:50</th>\n",
       "      <td>Global equities paused for thought Thursday, a...</td>\n",
       "      <td>0.296667</td>\n",
       "    </tr>\n",
       "    <tr>\n",
       "      <th>2019-04-05 13:30:00</th>\n",
       "      <td>The easiest and safest way to grow your money ...</td>\n",
       "      <td>0.033333</td>\n",
       "    </tr>\n",
       "    <tr>\n",
       "      <th>2019-04-08 10:45:00</th>\n",
       "      <td>Here is what you need to know. Brexit's costs ...</td>\n",
       "      <td>0.228571</td>\n",
       "    </tr>\n",
       "    <tr>\n",
       "      <th>2019-04-10 15:04:39</th>\n",
       "      <td>Bloomberg's Abigail Doolittle reports on the S...</td>\n",
       "      <td>0.000000</td>\n",
       "    </tr>\n",
       "    <tr>\n",
       "      <th>2019-04-12 10:54:00</th>\n",
       "      <td>Here is what you need to know. Trump's trade w...</td>\n",
       "      <td>0.000000</td>\n",
       "    </tr>\n",
       "    <tr>\n",
       "      <th>2019-04-16 04:01:00</th>\n",
       "      <td>BlackRock releases its first quarter earnings ...</td>\n",
       "      <td>0.016667</td>\n",
       "    </tr>\n",
       "    <tr>\n",
       "      <th>2019-04-17 08:48:11</th>\n",
       "      <td>Asian stocks closed higher on Wednesday after ...</td>\n",
       "      <td>0.125325</td>\n",
       "    </tr>\n",
       "    <tr>\n",
       "      <th>2019-04-19 12:46:00</th>\n",
       "      <td>Legendary investor Warren Buffett avoids makin...</td>\n",
       "      <td>0.800000</td>\n",
       "    </tr>\n",
       "    <tr>\n",
       "      <th>2019-04-22 13:00:00</th>\n",
       "      <td>Investment firm iM Global Partner is buying a ...</td>\n",
       "      <td>0.012500</td>\n",
       "    </tr>\n",
       "    <tr>\n",
       "      <th>2019-04-24 18:31:02</th>\n",
       "      <td>The stock market's new closing peak may signal...</td>\n",
       "      <td>0.170455</td>\n",
       "    </tr>\n",
       "    <tr>\n",
       "      <th>2019-04-25 10:54:00</th>\n",
       "      <td>Here is what you need to know. History suggest...</td>\n",
       "      <td>0.132727</td>\n",
       "    </tr>\n",
       "    <tr>\n",
       "      <th>2019-04-25 10:54:00</th>\n",
       "      <td>Here is what you need to know. History suggest...</td>\n",
       "      <td>0.082727</td>\n",
       "    </tr>\n",
       "    <tr>\n",
       "      <th>2019-04-26 10:02:00</th>\n",
       "      <td>The legendary investor Warre n Buffett predict...</td>\n",
       "      <td>0.220000</td>\n",
       "    </tr>\n",
       "    <tr>\n",
       "      <th>2019-04-26 11:22:00</th>\n",
       "      <td>Here is what you need to know. Uber files to g...</td>\n",
       "      <td>-0.050000</td>\n",
       "    </tr>\n",
       "    <tr>\n",
       "      <th>2019-04-29 09:58:00</th>\n",
       "      <td>The S&amp;P 500 and Nasdaq both set record highs t...</td>\n",
       "      <td>-0.083333</td>\n",
       "    </tr>\n",
       "    <tr>\n",
       "      <th>2019-04-30 16:14:00</th>\n",
       "      <td>Democratic presidential candidates, Republican...</td>\n",
       "      <td>0.090625</td>\n",
       "    </tr>\n",
       "    <tr>\n",
       "      <th>2019-05-02 16:46:41</th>\n",
       "      <td>Investors worried about the durability of the ...</td>\n",
       "      <td>-0.100000</td>\n",
       "    </tr>\n",
       "  </tbody>\n",
       "</table>\n",
       "</div>"
      ],
      "text/plain": [
       "                                                           description  description_polarity\n",
       "publishedAt                                                                                 \n",
       "2019-04-02 10:47:00  Here is what you need to know. The UK is at a ...             -0.017857\n",
       "2019-04-02 23:55:24  “Security is more important to me than trade,”...              0.366667\n",
       "2019-04-03 16:28:00  Through the following slides, JPMorgan provide...              0.066667\n",
       "2019-04-04 09:02:50  Global equities paused for thought Thursday, a...              0.296667\n",
       "2019-04-05 13:30:00  The easiest and safest way to grow your money ...              0.033333\n",
       "2019-04-08 10:45:00  Here is what you need to know. Brexit's costs ...              0.228571\n",
       "2019-04-10 15:04:39  Bloomberg's Abigail Doolittle reports on the S...              0.000000\n",
       "2019-04-12 10:54:00  Here is what you need to know. Trump's trade w...              0.000000\n",
       "2019-04-16 04:01:00  BlackRock releases its first quarter earnings ...              0.016667\n",
       "2019-04-17 08:48:11  Asian stocks closed higher on Wednesday after ...              0.125325\n",
       "2019-04-19 12:46:00  Legendary investor Warren Buffett avoids makin...              0.800000\n",
       "2019-04-22 13:00:00  Investment firm iM Global Partner is buying a ...              0.012500\n",
       "2019-04-24 18:31:02  The stock market's new closing peak may signal...              0.170455\n",
       "2019-04-25 10:54:00  Here is what you need to know. History suggest...              0.132727\n",
       "2019-04-25 10:54:00  Here is what you need to know. History suggest...              0.082727\n",
       "2019-04-26 10:02:00  The legendary investor Warre n Buffett predict...              0.220000\n",
       "2019-04-26 11:22:00  Here is what you need to know. Uber files to g...             -0.050000\n",
       "2019-04-29 09:58:00  The S&P 500 and Nasdaq both set record highs t...             -0.083333\n",
       "2019-04-30 16:14:00  Democratic presidential candidates, Republican...              0.090625\n",
       "2019-05-02 16:46:41  Investors worried about the durability of the ...             -0.100000"
      ]
     },
     "execution_count": 94,
     "metadata": {},
     "output_type": "execute_result"
    }
   ],
   "source": [
    "news_df[['description','description_polarity']]"
   ]
  },
  {
   "cell_type": "markdown",
   "metadata": {},
   "source": [
    "#### One down, vader to go!"
   ]
  },
  {
   "cell_type": "code",
   "execution_count": 95,
   "metadata": {},
   "outputs": [],
   "source": [
    "news_df['content_vader'] = [nlp(i) for i in news_df['content']]\n",
    "news_df['description_vader'] = [nlp(i) for i in news_df['description']]\n",
    "news_df['title_vader']= [nlp(i) for i in news_df['title']]"
   ]
  },
  {
   "cell_type": "code",
   "execution_count": 98,
   "metadata": {},
   "outputs": [],
   "source": [
    "news_df['content_vader_output'] = [polarity_scores(i) for i in news_df['content_vader']]\n",
    "news_df['description_vader_output'] = [polarity_scores(i) for i in news_df['description_vader']]\n",
    "news_df['title_vader_output'] = [polarity_scores(i) for i in news_df['title_vader']]"
   ]
  },
  {
   "cell_type": "code",
   "execution_count": 100,
   "metadata": {},
   "outputs": [
    {
     "data": {
      "text/plain": [
       "publishedAt\n",
       "2019-04-02 10:47:00    {'neg': 0.117, 'neu': 0.883, 'pos': 0.0, 'comp...\n",
       "2019-04-02 23:55:24    {'neg': 0.127, 'neu': 0.791, 'pos': 0.083, 'co...\n",
       "2019-04-03 16:28:00    {'neg': 0.0, 'neu': 1.0, 'pos': 0.0, 'compound...\n",
       "2019-04-04 09:02:50    {'neg': 0.086, 'neu': 0.754, 'pos': 0.16, 'com...\n",
       "2019-04-05 13:30:00    {'neg': 0.0, 'neu': 0.879, 'pos': 0.121, 'comp...\n",
       "2019-04-08 10:45:00    {'neg': 0.12, 'neu': 0.8, 'pos': 0.08, 'compou...\n",
       "2019-04-10 15:04:39    {'neg': 0.0, 'neu': 1.0, 'pos': 0.0, 'compound...\n",
       "2019-04-12 10:54:00    {'neg': 0.082, 'neu': 0.86, 'pos': 0.059, 'com...\n",
       "2019-04-16 04:01:00    {'neg': 0.0, 'neu': 0.862, 'pos': 0.138, 'comp...\n",
       "2019-04-17 08:48:11    {'neg': 0.0, 'neu': 0.853, 'pos': 0.147, 'comp...\n",
       "2019-04-19 12:46:00    {'neg': 0.138, 'neu': 0.742, 'pos': 0.12, 'com...\n",
       "2019-04-22 13:00:00    {'neg': 0.0, 'neu': 1.0, 'pos': 0.0, 'compound...\n",
       "2019-04-24 18:31:02    {'neg': 0.0, 'neu': 0.946, 'pos': 0.054, 'comp...\n",
       "2019-04-25 10:54:00    {'neg': 0.0, 'neu': 1.0, 'pos': 0.0, 'compound...\n",
       "2019-04-25 10:54:00    {'neg': 0.0, 'neu': 1.0, 'pos': 0.0, 'compound...\n",
       "2019-04-26 10:02:00    {'neg': 0.0, 'neu': 1.0, 'pos': 0.0, 'compound...\n",
       "2019-04-26 11:22:00    {'neg': 0.043, 'neu': 0.832, 'pos': 0.126, 'co...\n",
       "2019-04-29 09:58:00    {'neg': 0.034, 'neu': 0.966, 'pos': 0.0, 'comp...\n",
       "2019-04-30 16:14:00    {'neg': 0.0, 'neu': 1.0, 'pos': 0.0, 'compound...\n",
       "2019-05-02 16:46:41    {'neg': 0.056, 'neu': 0.944, 'pos': 0.0, 'comp...\n",
       "Name: description_vader_output, dtype: object"
      ]
     },
     "execution_count": 100,
     "metadata": {},
     "output_type": "execute_result"
    }
   ],
   "source": [
    "news_df['description_vader_output']"
   ]
  },
  {
   "cell_type": "code",
   "execution_count": 101,
   "metadata": {},
   "outputs": [
    {
     "data": {
      "text/html": [
       "<div>\n",
       "<style scoped>\n",
       "    .dataframe tbody tr th:only-of-type {\n",
       "        vertical-align: middle;\n",
       "    }\n",
       "\n",
       "    .dataframe tbody tr th {\n",
       "        vertical-align: top;\n",
       "    }\n",
       "\n",
       "    .dataframe thead th {\n",
       "        text-align: right;\n",
       "    }\n",
       "</style>\n",
       "<table border=\"1\" class=\"dataframe\">\n",
       "  <thead>\n",
       "    <tr style=\"text-align: right;\">\n",
       "      <th></th>\n",
       "      <th>compound</th>\n",
       "      <th>neg</th>\n",
       "      <th>neu</th>\n",
       "      <th>pos</th>\n",
       "    </tr>\n",
       "  </thead>\n",
       "  <tbody>\n",
       "    <tr>\n",
       "      <th>0</th>\n",
       "      <td>-0.6908</td>\n",
       "      <td>0.119</td>\n",
       "      <td>0.881</td>\n",
       "      <td>0.000</td>\n",
       "    </tr>\n",
       "    <tr>\n",
       "      <th>1</th>\n",
       "      <td>0.8611</td>\n",
       "      <td>0.042</td>\n",
       "      <td>0.735</td>\n",
       "      <td>0.222</td>\n",
       "    </tr>\n",
       "    <tr>\n",
       "      <th>2</th>\n",
       "      <td>0.0000</td>\n",
       "      <td>0.000</td>\n",
       "      <td>1.000</td>\n",
       "      <td>0.000</td>\n",
       "    </tr>\n",
       "    <tr>\n",
       "      <th>3</th>\n",
       "      <td>0.4310</td>\n",
       "      <td>0.034</td>\n",
       "      <td>0.852</td>\n",
       "      <td>0.114</td>\n",
       "    </tr>\n",
       "    <tr>\n",
       "      <th>4</th>\n",
       "      <td>0.4215</td>\n",
       "      <td>0.102</td>\n",
       "      <td>0.727</td>\n",
       "      <td>0.171</td>\n",
       "    </tr>\n",
       "  </tbody>\n",
       "</table>\n",
       "</div>"
      ],
      "text/plain": [
       "   compound    neg    neu    pos\n",
       "0   -0.6908  0.119  0.881  0.000\n",
       "1    0.8611  0.042  0.735  0.222\n",
       "2    0.0000  0.000  1.000  0.000\n",
       "3    0.4310  0.034  0.852  0.114\n",
       "4    0.4215  0.102  0.727  0.171"
      ]
     },
     "execution_count": 101,
     "metadata": {},
     "output_type": "execute_result"
    }
   ],
   "source": [
    "vader_content = pd.DataFrame(news_df['content_vader_output'].tolist())\n",
    "vader_content.head()"
   ]
  },
  {
   "cell_type": "code",
   "execution_count": 103,
   "metadata": {},
   "outputs": [
    {
     "data": {
      "text/html": [
       "<div>\n",
       "<style scoped>\n",
       "    .dataframe tbody tr th:only-of-type {\n",
       "        vertical-align: middle;\n",
       "    }\n",
       "\n",
       "    .dataframe tbody tr th {\n",
       "        vertical-align: top;\n",
       "    }\n",
       "\n",
       "    .dataframe thead th {\n",
       "        text-align: right;\n",
       "    }\n",
       "</style>\n",
       "<table border=\"1\" class=\"dataframe\">\n",
       "  <thead>\n",
       "    <tr style=\"text-align: right;\">\n",
       "      <th></th>\n",
       "      <th>compound</th>\n",
       "      <th>neg</th>\n",
       "      <th>neu</th>\n",
       "      <th>pos</th>\n",
       "    </tr>\n",
       "  </thead>\n",
       "  <tbody>\n",
       "    <tr>\n",
       "      <th>0</th>\n",
       "      <td>-0.6908</td>\n",
       "      <td>0.117</td>\n",
       "      <td>0.883</td>\n",
       "      <td>0.000</td>\n",
       "    </tr>\n",
       "    <tr>\n",
       "      <th>1</th>\n",
       "      <td>-0.2748</td>\n",
       "      <td>0.127</td>\n",
       "      <td>0.791</td>\n",
       "      <td>0.083</td>\n",
       "    </tr>\n",
       "    <tr>\n",
       "      <th>2</th>\n",
       "      <td>0.0000</td>\n",
       "      <td>0.000</td>\n",
       "      <td>1.000</td>\n",
       "      <td>0.000</td>\n",
       "    </tr>\n",
       "    <tr>\n",
       "      <th>3</th>\n",
       "      <td>0.3716</td>\n",
       "      <td>0.086</td>\n",
       "      <td>0.754</td>\n",
       "      <td>0.160</td>\n",
       "    </tr>\n",
       "    <tr>\n",
       "      <th>4</th>\n",
       "      <td>0.6705</td>\n",
       "      <td>0.000</td>\n",
       "      <td>0.879</td>\n",
       "      <td>0.121</td>\n",
       "    </tr>\n",
       "  </tbody>\n",
       "</table>\n",
       "</div>"
      ],
      "text/plain": [
       "   compound    neg    neu    pos\n",
       "0   -0.6908  0.117  0.883  0.000\n",
       "1   -0.2748  0.127  0.791  0.083\n",
       "2    0.0000  0.000  1.000  0.000\n",
       "3    0.3716  0.086  0.754  0.160\n",
       "4    0.6705  0.000  0.879  0.121"
      ]
     },
     "execution_count": 103,
     "metadata": {},
     "output_type": "execute_result"
    }
   ],
   "source": [
    "vader_desc = pd.DataFrame(news_df['description_vader_output'].tolist())\n",
    "vader_desc.head()"
   ]
  },
  {
   "cell_type": "code",
   "execution_count": 106,
   "metadata": {},
   "outputs": [
    {
     "data": {
      "text/html": [
       "<div>\n",
       "<style scoped>\n",
       "    .dataframe tbody tr th:only-of-type {\n",
       "        vertical-align: middle;\n",
       "    }\n",
       "\n",
       "    .dataframe tbody tr th {\n",
       "        vertical-align: top;\n",
       "    }\n",
       "\n",
       "    .dataframe thead th {\n",
       "        text-align: right;\n",
       "    }\n",
       "</style>\n",
       "<table border=\"1\" class=\"dataframe\">\n",
       "  <thead>\n",
       "    <tr style=\"text-align: right;\">\n",
       "      <th></th>\n",
       "      <th>compound</th>\n",
       "      <th>neg</th>\n",
       "      <th>neu</th>\n",
       "      <th>pos</th>\n",
       "    </tr>\n",
       "  </thead>\n",
       "  <tbody>\n",
       "    <tr>\n",
       "      <th>0</th>\n",
       "      <td>0.0000</td>\n",
       "      <td>0.000</td>\n",
       "      <td>1.000</td>\n",
       "      <td>0.000</td>\n",
       "    </tr>\n",
       "    <tr>\n",
       "      <th>1</th>\n",
       "      <td>-0.4767</td>\n",
       "      <td>0.237</td>\n",
       "      <td>0.763</td>\n",
       "      <td>0.000</td>\n",
       "    </tr>\n",
       "    <tr>\n",
       "      <th>2</th>\n",
       "      <td>0.0000</td>\n",
       "      <td>0.000</td>\n",
       "      <td>1.000</td>\n",
       "      <td>0.000</td>\n",
       "    </tr>\n",
       "    <tr>\n",
       "      <th>3</th>\n",
       "      <td>-0.2263</td>\n",
       "      <td>0.303</td>\n",
       "      <td>0.516</td>\n",
       "      <td>0.181</td>\n",
       "    </tr>\n",
       "    <tr>\n",
       "      <th>4</th>\n",
       "      <td>0.0000</td>\n",
       "      <td>0.000</td>\n",
       "      <td>1.000</td>\n",
       "      <td>0.000</td>\n",
       "    </tr>\n",
       "  </tbody>\n",
       "</table>\n",
       "</div>"
      ],
      "text/plain": [
       "   compound    neg    neu    pos\n",
       "0    0.0000  0.000  1.000  0.000\n",
       "1   -0.4767  0.237  0.763  0.000\n",
       "2    0.0000  0.000  1.000  0.000\n",
       "3   -0.2263  0.303  0.516  0.181\n",
       "4    0.0000  0.000  1.000  0.000"
      ]
     },
     "execution_count": 106,
     "metadata": {},
     "output_type": "execute_result"
    }
   ],
   "source": [
    "vader_text = pd.DataFrame(news_df['title_vader_output'].tolist())\n",
    "vader_text.head()"
   ]
  },
  {
   "cell_type": "markdown",
   "metadata": {},
   "source": [
    "##### Due to the nature of vader, we can use compound, since it has a -1 to 1 range, we can infer the rest of the data from that!"
   ]
  },
  {
   "cell_type": "code",
   "execution_count": 108,
   "metadata": {},
   "outputs": [
    {
     "data": {
      "text/html": [
       "<div>\n",
       "<style scoped>\n",
       "    .dataframe tbody tr th:only-of-type {\n",
       "        vertical-align: middle;\n",
       "    }\n",
       "\n",
       "    .dataframe tbody tr th {\n",
       "        vertical-align: top;\n",
       "    }\n",
       "\n",
       "    .dataframe thead th {\n",
       "        text-align: right;\n",
       "    }\n",
       "</style>\n",
       "<table border=\"1\" class=\"dataframe\">\n",
       "  <thead>\n",
       "    <tr style=\"text-align: right;\">\n",
       "      <th></th>\n",
       "      <th>author</th>\n",
       "      <th>content</th>\n",
       "      <th>description</th>\n",
       "      <th>source</th>\n",
       "      <th>title</th>\n",
       "      <th>url</th>\n",
       "      <th>urlToImage</th>\n",
       "      <th>Date</th>\n",
       "      <th>content_wiki</th>\n",
       "      <th>description_wiki</th>\n",
       "      <th>title_wiki</th>\n",
       "      <th>content_polarity</th>\n",
       "      <th>description_polarity</th>\n",
       "      <th>title_polarity</th>\n",
       "      <th>content_subjectivity</th>\n",
       "      <th>description_subjectivity</th>\n",
       "      <th>title_subjectivity</th>\n",
       "      <th>content_vader</th>\n",
       "      <th>description_vader</th>\n",
       "      <th>title_vader</th>\n",
       "      <th>content_vader_output</th>\n",
       "      <th>description_vader_output</th>\n",
       "      <th>title_vader_output</th>\n",
       "      <th>text_compound</th>\n",
       "      <th>content_compound</th>\n",
       "      <th>description_compound</th>\n",
       "    </tr>\n",
       "    <tr>\n",
       "      <th>publishedAt</th>\n",
       "      <th></th>\n",
       "      <th></th>\n",
       "      <th></th>\n",
       "      <th></th>\n",
       "      <th></th>\n",
       "      <th></th>\n",
       "      <th></th>\n",
       "      <th></th>\n",
       "      <th></th>\n",
       "      <th></th>\n",
       "      <th></th>\n",
       "      <th></th>\n",
       "      <th></th>\n",
       "      <th></th>\n",
       "      <th></th>\n",
       "      <th></th>\n",
       "      <th></th>\n",
       "      <th></th>\n",
       "      <th></th>\n",
       "      <th></th>\n",
       "      <th></th>\n",
       "      <th></th>\n",
       "      <th></th>\n",
       "      <th></th>\n",
       "      <th></th>\n",
       "      <th></th>\n",
       "    </tr>\n",
       "  </thead>\n",
       "  <tbody>\n",
       "    <tr>\n",
       "      <th>2019-04-02 10:47:00</th>\n",
       "      <td>Jonathan Garber</td>\n",
       "      <td>Reuters/Francis Mascarenhas\\r\\nHere is what yo...</td>\n",
       "      <td>Here is what you need to know. The UK is at a ...</td>\n",
       "      <td>{'id': 'business-insider', 'name': 'Business I...</td>\n",
       "      <td>10 things you need to know before the opening ...</td>\n",
       "      <td>https://markets.businessinsider.com/news/stock...</td>\n",
       "      <td>https://images.markets.businessinsider.com/ima...</td>\n",
       "      <td>2019-04-02</td>\n",
       "      <td>(R, e, u, t, e, r, s, /, F, r, a, n, c, i, s, ...</td>\n",
       "      <td>(H, e, r, e,  , i, s,  , w, h, a, t,  , y, o, ...</td>\n",
       "      <td>(1, 0,  , t, h, i, n, g, s,  , y, o, u,  , n, ...</td>\n",
       "      <td>-0.017857</td>\n",
       "      <td>-0.017857</td>\n",
       "      <td>0.0</td>\n",
       "      <td>0.053571</td>\n",
       "      <td>0.053571</td>\n",
       "      <td>0.0</td>\n",
       "      <td>(Reuters, /, Francis, Mascarenhas, \\r\\n, Here,...</td>\n",
       "      <td>(Here, is, what, you, need, to, know, ., The, ...</td>\n",
       "      <td>(10, things, you, need, to, know, before, the,...</td>\n",
       "      <td>{'neg': 0.119, 'neu': 0.881, 'pos': 0.0, 'comp...</td>\n",
       "      <td>{'neg': 0.117, 'neu': 0.883, 'pos': 0.0, 'comp...</td>\n",
       "      <td>{'neg': 0.0, 'neu': 1.0, 'pos': 0.0, 'compound...</td>\n",
       "      <td>0.0000</td>\n",
       "      <td>-0.6908</td>\n",
       "      <td>-0.6908</td>\n",
       "    </tr>\n",
       "    <tr>\n",
       "      <th>2019-04-02 23:55:24</th>\n",
       "      <td>JIM TANKERSLEY and ANA SWANSON</td>\n",
       "      <td>Border activity makes up a relatively larger s...</td>\n",
       "      <td>“Security is more important to me than trade,”...</td>\n",
       "      <td>{'id': 'the-new-york-times', 'name': 'The New ...</td>\n",
       "      <td>Trump Vows to Close Border, Even if It Hurts t...</td>\n",
       "      <td>https://www.nytimes.com/2019/04/02/us/politics...</td>\n",
       "      <td>https://static01.nyt.com/images/2019/04/02/bus...</td>\n",
       "      <td>2019-04-02</td>\n",
       "      <td>(B, o, r, d, e, r,  , a, c, t, i, v, i, t, y, ...</td>\n",
       "      <td>(“, S, e, c, u, r, i, t, y,  , i, s,  , m, o, ...</td>\n",
       "      <td>(T, r, u, m, p,  , V, o, w, s,  , t, o,  , C, ...</td>\n",
       "      <td>0.265179</td>\n",
       "      <td>0.366667</td>\n",
       "      <td>0.0</td>\n",
       "      <td>0.591071</td>\n",
       "      <td>0.566667</td>\n",
       "      <td>0.0</td>\n",
       "      <td>(Border, activity, makes, up, a, relatively, l...</td>\n",
       "      <td>(“, Security, is, more, important, to, me, tha...</td>\n",
       "      <td>(Trump, Vows, to, Close, Border, ,, Even, if, ...</td>\n",
       "      <td>{'neg': 0.042, 'neu': 0.735, 'pos': 0.222, 'co...</td>\n",
       "      <td>{'neg': 0.127, 'neu': 0.791, 'pos': 0.083, 'co...</td>\n",
       "      <td>{'neg': 0.237, 'neu': 0.763, 'pos': 0.0, 'comp...</td>\n",
       "      <td>-0.4767</td>\n",
       "      <td>0.8611</td>\n",
       "      <td>-0.2748</td>\n",
       "    </tr>\n",
       "    <tr>\n",
       "      <th>2019-04-03 16:28:00</th>\n",
       "      <td>Arjun Reddy</td>\n",
       "      <td>Through the following slides, JPMorgan provide...</td>\n",
       "      <td>Through the following slides, JPMorgan provide...</td>\n",
       "      <td>{'id': 'business-insider', 'name': 'Business I...</td>\n",
       "      <td>JPMorgan: These 66 charts are the ultimate gui...</td>\n",
       "      <td>https://www.businessinsider.com/stock-market-6...</td>\n",
       "      <td>https://amp.businessinsider.com/images/5ca4d89...</td>\n",
       "      <td>2019-04-03</td>\n",
       "      <td>(T, h, r, o, u, g, h,  , t, h, e,  , f, o, l, ...</td>\n",
       "      <td>(T, h, r, o, u, g, h,  , t, h, e,  , f, o, l, ...</td>\n",
       "      <td>(J, P, M, o, r, g, a, n, :,  , T, h, e, s, e, ...</td>\n",
       "      <td>0.080000</td>\n",
       "      <td>0.066667</td>\n",
       "      <td>0.0</td>\n",
       "      <td>0.370000</td>\n",
       "      <td>0.325000</td>\n",
       "      <td>1.0</td>\n",
       "      <td>(Through, the, following, slides, ,, JPMorgan,...</td>\n",
       "      <td>(Through, the, following, slides, ,, JPMorgan,...</td>\n",
       "      <td>(JPMorgan, :, These, 66, charts, are, the, ult...</td>\n",
       "      <td>{'neg': 0.0, 'neu': 1.0, 'pos': 0.0, 'compound...</td>\n",
       "      <td>{'neg': 0.0, 'neu': 1.0, 'pos': 0.0, 'compound...</td>\n",
       "      <td>{'neg': 0.0, 'neu': 1.0, 'pos': 0.0, 'compound...</td>\n",
       "      <td>0.0000</td>\n",
       "      <td>0.0000</td>\n",
       "      <td>0.0000</td>\n",
       "    </tr>\n",
       "    <tr>\n",
       "      <th>2019-04-04 09:02:50</th>\n",
       "      <td>Callum Burroughs</td>\n",
       "      <td>Stock markets paused for thought Thursday as i...</td>\n",
       "      <td>Global equities paused for thought Thursday, a...</td>\n",
       "      <td>{'id': 'business-insider', 'name': 'Business I...</td>\n",
       "      <td>Global stocks stall after Trump's tariffs bloc...</td>\n",
       "      <td>https://www.businessinsider.com/stock-markets-...</td>\n",
       "      <td>https://amp.businessinsider.com/images/5b23dd5...</td>\n",
       "      <td>2019-04-04</td>\n",
       "      <td>(S, t, o, c, k,  , m, a, r, k, e, t, s,  , p, ...</td>\n",
       "      <td>(G, l, o, b, a, l,  , e, q, u, i, t, i, e, s, ...</td>\n",
       "      <td>(G, l, o, b, a, l,  , s, t, o, c, k, s,  , s, ...</td>\n",
       "      <td>0.370833</td>\n",
       "      <td>0.296667</td>\n",
       "      <td>0.0</td>\n",
       "      <td>0.516667</td>\n",
       "      <td>0.413333</td>\n",
       "      <td>0.0</td>\n",
       "      <td>(Stock, markets, paused, for, thought, Thursda...</td>\n",
       "      <td>(Global, equities, paused, for, thought, Thurs...</td>\n",
       "      <td>(Global, stocks, stall, after, Trump, 's, tari...</td>\n",
       "      <td>{'neg': 0.034, 'neu': 0.852, 'pos': 0.114, 'co...</td>\n",
       "      <td>{'neg': 0.086, 'neu': 0.754, 'pos': 0.16, 'com...</td>\n",
       "      <td>{'neg': 0.303, 'neu': 0.516, 'pos': 0.181, 'co...</td>\n",
       "      <td>-0.2263</td>\n",
       "      <td>0.4310</td>\n",
       "      <td>0.3716</td>\n",
       "    </tr>\n",
       "    <tr>\n",
       "      <th>2019-04-05 13:30:00</th>\n",
       "      <td>Tanza Loudenback</td>\n",
       "      <td>If you want to get rich quick, we have some ba...</td>\n",
       "      <td>The easiest and safest way to grow your money ...</td>\n",
       "      <td>{'id': 'business-insider', 'name': 'Business I...</td>\n",
       "      <td>How to invest $100,000 to make $1 million</td>\n",
       "      <td>https://www.businessinsider.com/investment-cal...</td>\n",
       "      <td>https://amp.businessinsider.com/images/5ca65a2...</td>\n",
       "      <td>2019-04-05</td>\n",
       "      <td>(I, f,  , y, o, u,  , w, a, n, t,  , t, o,  , ...</td>\n",
       "      <td>(T, h, e,  , e, a, s, i, e, s, t,  , a, n, d, ...</td>\n",
       "      <td>(H, o, w,  , t, o,  , i, n, v, e, s, t,  , $, ...</td>\n",
       "      <td>0.136458</td>\n",
       "      <td>0.033333</td>\n",
       "      <td>0.0</td>\n",
       "      <td>0.483333</td>\n",
       "      <td>0.335714</td>\n",
       "      <td>0.0</td>\n",
       "      <td>(If, you, want, to, get, rich, quick, ,, we, h...</td>\n",
       "      <td>(The, easiest, and, safest, way, to, grow, you...</td>\n",
       "      <td>(How, to, invest, $, 100,000, to, make, $, 1, ...</td>\n",
       "      <td>{'neg': 0.102, 'neu': 0.727, 'pos': 0.171, 'co...</td>\n",
       "      <td>{'neg': 0.0, 'neu': 0.879, 'pos': 0.121, 'comp...</td>\n",
       "      <td>{'neg': 0.0, 'neu': 1.0, 'pos': 0.0, 'compound...</td>\n",
       "      <td>0.0000</td>\n",
       "      <td>0.4215</td>\n",
       "      <td>0.6705</td>\n",
       "    </tr>\n",
       "  </tbody>\n",
       "</table>\n",
       "</div>"
      ],
      "text/plain": [
       "                                             author  ... description_compound\n",
       "publishedAt                                          ...                     \n",
       "2019-04-02 10:47:00                 Jonathan Garber  ...              -0.6908\n",
       "2019-04-02 23:55:24  JIM TANKERSLEY and ANA SWANSON  ...              -0.2748\n",
       "2019-04-03 16:28:00                     Arjun Reddy  ...               0.0000\n",
       "2019-04-04 09:02:50                Callum Burroughs  ...               0.3716\n",
       "2019-04-05 13:30:00                Tanza Loudenback  ...               0.6705\n",
       "\n",
       "[5 rows x 26 columns]"
      ]
     },
     "execution_count": 108,
     "metadata": {},
     "output_type": "execute_result"
    }
   ],
   "source": [
    "news_df['text_compound'] = [i for i in vader_text['compound']]\n",
    "news_df['content_compound'] = [i for i in vader_content['compound']]\n",
    "news_df['description_compound'] = [i for i in vader_desc['compound']]\n",
    "news_df.head()"
   ]
  },
  {
   "cell_type": "markdown",
   "metadata": {},
   "source": [
    "### This is currently the result for one concept (The general S&P) Let's now concatnate this to our Daily price and find any correlations!"
   ]
  },
  {
   "cell_type": "code",
   "execution_count": 135,
   "metadata": {},
   "outputs": [
    {
     "data": {
      "text/html": [
       "<div>\n",
       "<style scoped>\n",
       "    .dataframe tbody tr th:only-of-type {\n",
       "        vertical-align: middle;\n",
       "    }\n",
       "\n",
       "    .dataframe tbody tr th {\n",
       "        vertical-align: top;\n",
       "    }\n",
       "\n",
       "    .dataframe thead th {\n",
       "        text-align: right;\n",
       "    }\n",
       "</style>\n",
       "<table border=\"1\" class=\"dataframe\">\n",
       "  <thead>\n",
       "    <tr style=\"text-align: right;\">\n",
       "      <th></th>\n",
       "      <th>content_polarity</th>\n",
       "      <th>content_compound</th>\n",
       "      <th>description_polarity</th>\n",
       "      <th>description_compound</th>\n",
       "      <th>title_polarity</th>\n",
       "      <th>text_compound</th>\n",
       "    </tr>\n",
       "    <tr>\n",
       "      <th>Date</th>\n",
       "      <th></th>\n",
       "      <th></th>\n",
       "      <th></th>\n",
       "      <th></th>\n",
       "      <th></th>\n",
       "      <th></th>\n",
       "    </tr>\n",
       "  </thead>\n",
       "  <tbody>\n",
       "    <tr>\n",
       "      <th>2019-04-02</th>\n",
       "      <td>-0.017857</td>\n",
       "      <td>-0.6908</td>\n",
       "      <td>-0.017857</td>\n",
       "      <td>-0.6908</td>\n",
       "      <td>0.0</td>\n",
       "      <td>0.0000</td>\n",
       "    </tr>\n",
       "    <tr>\n",
       "      <th>2019-04-02</th>\n",
       "      <td>0.265179</td>\n",
       "      <td>0.8611</td>\n",
       "      <td>0.366667</td>\n",
       "      <td>-0.2748</td>\n",
       "      <td>0.0</td>\n",
       "      <td>-0.4767</td>\n",
       "    </tr>\n",
       "    <tr>\n",
       "      <th>2019-04-03</th>\n",
       "      <td>0.080000</td>\n",
       "      <td>0.0000</td>\n",
       "      <td>0.066667</td>\n",
       "      <td>0.0000</td>\n",
       "      <td>0.0</td>\n",
       "      <td>0.0000</td>\n",
       "    </tr>\n",
       "    <tr>\n",
       "      <th>2019-04-04</th>\n",
       "      <td>0.370833</td>\n",
       "      <td>0.4310</td>\n",
       "      <td>0.296667</td>\n",
       "      <td>0.3716</td>\n",
       "      <td>0.0</td>\n",
       "      <td>-0.2263</td>\n",
       "    </tr>\n",
       "    <tr>\n",
       "      <th>2019-04-05</th>\n",
       "      <td>0.136458</td>\n",
       "      <td>0.4215</td>\n",
       "      <td>0.033333</td>\n",
       "      <td>0.6705</td>\n",
       "      <td>0.0</td>\n",
       "      <td>0.0000</td>\n",
       "    </tr>\n",
       "  </tbody>\n",
       "</table>\n",
       "</div>"
      ],
      "text/plain": [
       "            content_polarity  content_compound  ...  title_polarity  text_compound\n",
       "Date                                            ...                               \n",
       "2019-04-02         -0.017857           -0.6908  ...             0.0         0.0000\n",
       "2019-04-02          0.265179            0.8611  ...             0.0        -0.4767\n",
       "2019-04-03          0.080000            0.0000  ...             0.0         0.0000\n",
       "2019-04-04          0.370833            0.4310  ...             0.0        -0.2263\n",
       "2019-04-05          0.136458            0.4215  ...             0.0         0.0000\n",
       "\n",
       "[5 rows x 6 columns]"
      ]
     },
     "execution_count": 135,
     "metadata": {},
     "output_type": "execute_result"
    }
   ],
   "source": [
    "testing_data = news_df[['content_polarity','content_compound','description_polarity','description_compound' ,'title_polarity','text_compound','Date']]\n",
    "testing_data = testing_data.set_index(\"Date\")\n",
    "testing_data.head()"
   ]
  },
  {
   "cell_type": "code",
   "execution_count": 139,
   "metadata": {},
   "outputs": [
    {
     "ename": "KeyError",
     "evalue": "'Date'",
     "output_type": "error",
     "traceback": [
      "\u001b[0;31m---------------------------------------------------------------------------\u001b[0m",
      "\u001b[0;31mKeyError\u001b[0m                                  Traceback (most recent call last)",
      "\u001b[0;32m~/anaconda3/lib/python3.7/site-packages/pandas/core/indexes/base.py\u001b[0m in \u001b[0;36mget_loc\u001b[0;34m(self, key, method, tolerance)\u001b[0m\n\u001b[1;32m   2656\u001b[0m             \u001b[0;32mtry\u001b[0m\u001b[0;34m:\u001b[0m\u001b[0;34m\u001b[0m\u001b[0;34m\u001b[0m\u001b[0m\n\u001b[0;32m-> 2657\u001b[0;31m                 \u001b[0;32mreturn\u001b[0m \u001b[0mself\u001b[0m\u001b[0;34m.\u001b[0m\u001b[0m_engine\u001b[0m\u001b[0;34m.\u001b[0m\u001b[0mget_loc\u001b[0m\u001b[0;34m(\u001b[0m\u001b[0mkey\u001b[0m\u001b[0;34m)\u001b[0m\u001b[0;34m\u001b[0m\u001b[0;34m\u001b[0m\u001b[0m\n\u001b[0m\u001b[1;32m   2658\u001b[0m             \u001b[0;32mexcept\u001b[0m \u001b[0mKeyError\u001b[0m\u001b[0;34m:\u001b[0m\u001b[0;34m\u001b[0m\u001b[0;34m\u001b[0m\u001b[0m\n",
      "\u001b[0;32mpandas/_libs/index.pyx\u001b[0m in \u001b[0;36mpandas._libs.index.IndexEngine.get_loc\u001b[0;34m()\u001b[0m\n",
      "\u001b[0;32mpandas/_libs/index.pyx\u001b[0m in \u001b[0;36mpandas._libs.index.IndexEngine.get_loc\u001b[0;34m()\u001b[0m\n",
      "\u001b[0;32mpandas/_libs/hashtable_class_helper.pxi\u001b[0m in \u001b[0;36mpandas._libs.hashtable.PyObjectHashTable.get_item\u001b[0;34m()\u001b[0m\n",
      "\u001b[0;32mpandas/_libs/hashtable_class_helper.pxi\u001b[0m in \u001b[0;36mpandas._libs.hashtable.PyObjectHashTable.get_item\u001b[0;34m()\u001b[0m\n",
      "\u001b[0;31mKeyError\u001b[0m: 'Date'",
      "\nDuring handling of the above exception, another exception occurred:\n",
      "\u001b[0;31mKeyError\u001b[0m                                  Traceback (most recent call last)",
      "\u001b[0;32m<ipython-input-139-e7cdf43fe947>\u001b[0m in \u001b[0;36m<module>\u001b[0;34m\u001b[0m\n\u001b[1;32m      1\u001b[0m \u001b[0mworking_df\u001b[0m \u001b[0;34m=\u001b[0m \u001b[0msp_price\u001b[0m\u001b[0;34m[\u001b[0m\u001b[0;34m-\u001b[0m\u001b[0;36m30\u001b[0m\u001b[0;34m:\u001b[0m\u001b[0;34m]\u001b[0m\u001b[0;34m\u001b[0m\u001b[0;34m\u001b[0m\u001b[0m\n\u001b[1;32m      2\u001b[0m \u001b[0;31m#testing_df = working_df.mereg(working_df,testing_data)\u001b[0m\u001b[0;34m\u001b[0m\u001b[0;34m\u001b[0m\u001b[0;34m\u001b[0m\u001b[0m\n\u001b[0;32m----> 3\u001b[0;31m \u001b[0mtesting_df\u001b[0m \u001b[0;34m=\u001b[0m \u001b[0mpd\u001b[0m\u001b[0;34m.\u001b[0m\u001b[0mconcat\u001b[0m\u001b[0;34m(\u001b[0m\u001b[0;34m[\u001b[0m\u001b[0mworking_df\u001b[0m\u001b[0;34m.\u001b[0m\u001b[0mset_index\u001b[0m\u001b[0;34m(\u001b[0m\u001b[0;34m'Date'\u001b[0m\u001b[0;34m)\u001b[0m\u001b[0;34m,\u001b[0m\u001b[0mtesting_data\u001b[0m\u001b[0;34m.\u001b[0m\u001b[0mset_index\u001b[0m\u001b[0;34m(\u001b[0m\u001b[0;34m'Date'\u001b[0m\u001b[0;34m)\u001b[0m\u001b[0;34m]\u001b[0m\u001b[0;34m,\u001b[0m \u001b[0maxis\u001b[0m\u001b[0;34m=\u001b[0m\u001b[0;36m1\u001b[0m\u001b[0;34m,\u001b[0m \u001b[0mjoin\u001b[0m\u001b[0;34m=\u001b[0m\u001b[0;34m'inner'\u001b[0m\u001b[0;34m)\u001b[0m\u001b[0;34m.\u001b[0m\u001b[0mreset_index\u001b[0m\u001b[0;34m(\u001b[0m\u001b[0;34m)\u001b[0m\u001b[0;34m\u001b[0m\u001b[0;34m\u001b[0m\u001b[0m\n\u001b[0m\u001b[1;32m      4\u001b[0m \u001b[0mtesting_df\u001b[0m\u001b[0;34m.\u001b[0m\u001b[0mhead\u001b[0m\u001b[0;34m(\u001b[0m\u001b[0;34m)\u001b[0m\u001b[0;34m\u001b[0m\u001b[0;34m\u001b[0m\u001b[0m\n",
      "\u001b[0;32m~/anaconda3/lib/python3.7/site-packages/pandas/core/frame.py\u001b[0m in \u001b[0;36mset_index\u001b[0;34m(self, keys, drop, append, inplace, verify_integrity)\u001b[0m\n\u001b[1;32m   4176\u001b[0m                 \u001b[0mnames\u001b[0m\u001b[0;34m.\u001b[0m\u001b[0mappend\u001b[0m\u001b[0;34m(\u001b[0m\u001b[0;32mNone\u001b[0m\u001b[0;34m)\u001b[0m\u001b[0;34m\u001b[0m\u001b[0;34m\u001b[0m\u001b[0m\n\u001b[1;32m   4177\u001b[0m             \u001b[0;32melse\u001b[0m\u001b[0;34m:\u001b[0m\u001b[0;34m\u001b[0m\u001b[0;34m\u001b[0m\u001b[0m\n\u001b[0;32m-> 4178\u001b[0;31m                 \u001b[0mlevel\u001b[0m \u001b[0;34m=\u001b[0m \u001b[0mframe\u001b[0m\u001b[0;34m[\u001b[0m\u001b[0mcol\u001b[0m\u001b[0;34m]\u001b[0m\u001b[0;34m.\u001b[0m\u001b[0m_values\u001b[0m\u001b[0;34m\u001b[0m\u001b[0;34m\u001b[0m\u001b[0m\n\u001b[0m\u001b[1;32m   4179\u001b[0m                 \u001b[0mnames\u001b[0m\u001b[0;34m.\u001b[0m\u001b[0mappend\u001b[0m\u001b[0;34m(\u001b[0m\u001b[0mcol\u001b[0m\u001b[0;34m)\u001b[0m\u001b[0;34m\u001b[0m\u001b[0;34m\u001b[0m\u001b[0m\n\u001b[1;32m   4180\u001b[0m                 \u001b[0;32mif\u001b[0m \u001b[0mdrop\u001b[0m\u001b[0;34m:\u001b[0m\u001b[0;34m\u001b[0m\u001b[0;34m\u001b[0m\u001b[0m\n",
      "\u001b[0;32m~/anaconda3/lib/python3.7/site-packages/pandas/core/frame.py\u001b[0m in \u001b[0;36m__getitem__\u001b[0;34m(self, key)\u001b[0m\n\u001b[1;32m   2925\u001b[0m             \u001b[0;32mif\u001b[0m \u001b[0mself\u001b[0m\u001b[0;34m.\u001b[0m\u001b[0mcolumns\u001b[0m\u001b[0;34m.\u001b[0m\u001b[0mnlevels\u001b[0m \u001b[0;34m>\u001b[0m \u001b[0;36m1\u001b[0m\u001b[0;34m:\u001b[0m\u001b[0;34m\u001b[0m\u001b[0;34m\u001b[0m\u001b[0m\n\u001b[1;32m   2926\u001b[0m                 \u001b[0;32mreturn\u001b[0m \u001b[0mself\u001b[0m\u001b[0;34m.\u001b[0m\u001b[0m_getitem_multilevel\u001b[0m\u001b[0;34m(\u001b[0m\u001b[0mkey\u001b[0m\u001b[0;34m)\u001b[0m\u001b[0;34m\u001b[0m\u001b[0;34m\u001b[0m\u001b[0m\n\u001b[0;32m-> 2927\u001b[0;31m             \u001b[0mindexer\u001b[0m \u001b[0;34m=\u001b[0m \u001b[0mself\u001b[0m\u001b[0;34m.\u001b[0m\u001b[0mcolumns\u001b[0m\u001b[0;34m.\u001b[0m\u001b[0mget_loc\u001b[0m\u001b[0;34m(\u001b[0m\u001b[0mkey\u001b[0m\u001b[0;34m)\u001b[0m\u001b[0;34m\u001b[0m\u001b[0;34m\u001b[0m\u001b[0m\n\u001b[0m\u001b[1;32m   2928\u001b[0m             \u001b[0;32mif\u001b[0m \u001b[0mis_integer\u001b[0m\u001b[0;34m(\u001b[0m\u001b[0mindexer\u001b[0m\u001b[0;34m)\u001b[0m\u001b[0;34m:\u001b[0m\u001b[0;34m\u001b[0m\u001b[0;34m\u001b[0m\u001b[0m\n\u001b[1;32m   2929\u001b[0m                 \u001b[0mindexer\u001b[0m \u001b[0;34m=\u001b[0m \u001b[0;34m[\u001b[0m\u001b[0mindexer\u001b[0m\u001b[0;34m]\u001b[0m\u001b[0;34m\u001b[0m\u001b[0;34m\u001b[0m\u001b[0m\n",
      "\u001b[0;32m~/anaconda3/lib/python3.7/site-packages/pandas/core/indexes/base.py\u001b[0m in \u001b[0;36mget_loc\u001b[0;34m(self, key, method, tolerance)\u001b[0m\n\u001b[1;32m   2657\u001b[0m                 \u001b[0;32mreturn\u001b[0m \u001b[0mself\u001b[0m\u001b[0;34m.\u001b[0m\u001b[0m_engine\u001b[0m\u001b[0;34m.\u001b[0m\u001b[0mget_loc\u001b[0m\u001b[0;34m(\u001b[0m\u001b[0mkey\u001b[0m\u001b[0;34m)\u001b[0m\u001b[0;34m\u001b[0m\u001b[0;34m\u001b[0m\u001b[0m\n\u001b[1;32m   2658\u001b[0m             \u001b[0;32mexcept\u001b[0m \u001b[0mKeyError\u001b[0m\u001b[0;34m:\u001b[0m\u001b[0;34m\u001b[0m\u001b[0;34m\u001b[0m\u001b[0m\n\u001b[0;32m-> 2659\u001b[0;31m                 \u001b[0;32mreturn\u001b[0m \u001b[0mself\u001b[0m\u001b[0;34m.\u001b[0m\u001b[0m_engine\u001b[0m\u001b[0;34m.\u001b[0m\u001b[0mget_loc\u001b[0m\u001b[0;34m(\u001b[0m\u001b[0mself\u001b[0m\u001b[0;34m.\u001b[0m\u001b[0m_maybe_cast_indexer\u001b[0m\u001b[0;34m(\u001b[0m\u001b[0mkey\u001b[0m\u001b[0;34m)\u001b[0m\u001b[0;34m)\u001b[0m\u001b[0;34m\u001b[0m\u001b[0;34m\u001b[0m\u001b[0m\n\u001b[0m\u001b[1;32m   2660\u001b[0m         \u001b[0mindexer\u001b[0m \u001b[0;34m=\u001b[0m \u001b[0mself\u001b[0m\u001b[0;34m.\u001b[0m\u001b[0mget_indexer\u001b[0m\u001b[0;34m(\u001b[0m\u001b[0;34m[\u001b[0m\u001b[0mkey\u001b[0m\u001b[0;34m]\u001b[0m\u001b[0;34m,\u001b[0m \u001b[0mmethod\u001b[0m\u001b[0;34m=\u001b[0m\u001b[0mmethod\u001b[0m\u001b[0;34m,\u001b[0m \u001b[0mtolerance\u001b[0m\u001b[0;34m=\u001b[0m\u001b[0mtolerance\u001b[0m\u001b[0;34m)\u001b[0m\u001b[0;34m\u001b[0m\u001b[0;34m\u001b[0m\u001b[0m\n\u001b[1;32m   2661\u001b[0m         \u001b[0;32mif\u001b[0m \u001b[0mindexer\u001b[0m\u001b[0;34m.\u001b[0m\u001b[0mndim\u001b[0m \u001b[0;34m>\u001b[0m \u001b[0;36m1\u001b[0m \u001b[0;32mor\u001b[0m \u001b[0mindexer\u001b[0m\u001b[0;34m.\u001b[0m\u001b[0msize\u001b[0m \u001b[0;34m>\u001b[0m \u001b[0;36m1\u001b[0m\u001b[0;34m:\u001b[0m\u001b[0;34m\u001b[0m\u001b[0;34m\u001b[0m\u001b[0m\n",
      "\u001b[0;32mpandas/_libs/index.pyx\u001b[0m in \u001b[0;36mpandas._libs.index.IndexEngine.get_loc\u001b[0;34m()\u001b[0m\n",
      "\u001b[0;32mpandas/_libs/index.pyx\u001b[0m in \u001b[0;36mpandas._libs.index.IndexEngine.get_loc\u001b[0;34m()\u001b[0m\n",
      "\u001b[0;32mpandas/_libs/hashtable_class_helper.pxi\u001b[0m in \u001b[0;36mpandas._libs.hashtable.PyObjectHashTable.get_item\u001b[0;34m()\u001b[0m\n",
      "\u001b[0;32mpandas/_libs/hashtable_class_helper.pxi\u001b[0m in \u001b[0;36mpandas._libs.hashtable.PyObjectHashTable.get_item\u001b[0;34m()\u001b[0m\n",
      "\u001b[0;31mKeyError\u001b[0m: 'Date'"
     ]
    }
   ],
   "source": [
    "working_df = sp_price[-30:]\n",
    "#testing_df = working_df.mereg(working_df,testing_data)\n",
    "testing_df = pd.concat([working_df.set_index('Date'),testing_data.set_index('Date')], axis=1, join='inner').reset_index()                \n",
    "testing_df.head()"
   ]
  },
  {
   "cell_type": "code",
   "execution_count": 130,
   "metadata": {},
   "outputs": [
    {
     "data": {
      "text/html": [
       "<div>\n",
       "<style scoped>\n",
       "    .dataframe tbody tr th:only-of-type {\n",
       "        vertical-align: middle;\n",
       "    }\n",
       "\n",
       "    .dataframe tbody tr th {\n",
       "        vertical-align: top;\n",
       "    }\n",
       "\n",
       "    .dataframe thead th {\n",
       "        text-align: right;\n",
       "    }\n",
       "</style>\n",
       "<table border=\"1\" class=\"dataframe\">\n",
       "  <thead>\n",
       "    <tr style=\"text-align: right;\">\n",
       "      <th></th>\n",
       "      <th>Date</th>\n",
       "      <th>Open</th>\n",
       "      <th>High</th>\n",
       "      <th>Low</th>\n",
       "      <th>Close</th>\n",
       "      <th>Adj Close</th>\n",
       "      <th>Volume</th>\n",
       "      <th>content_polarity</th>\n",
       "      <th>content_compound</th>\n",
       "      <th>description_polarity</th>\n",
       "      <th>description_compound</th>\n",
       "      <th>title_polarity</th>\n",
       "      <th>text_compound</th>\n",
       "    </tr>\n",
       "  </thead>\n",
       "  <tbody>\n",
       "    <tr>\n",
       "      <th>31</th>\n",
       "      <td>2019-03-20</td>\n",
       "      <td>2831.340088</td>\n",
       "      <td>2843.540039</td>\n",
       "      <td>2812.429932</td>\n",
       "      <td>2824.229980</td>\n",
       "      <td>2824.229980</td>\n",
       "      <td>3.771200e+09</td>\n",
       "      <td>NaN</td>\n",
       "      <td>NaN</td>\n",
       "      <td>NaN</td>\n",
       "      <td>NaN</td>\n",
       "      <td>NaN</td>\n",
       "      <td>NaN</td>\n",
       "    </tr>\n",
       "    <tr>\n",
       "      <th>32</th>\n",
       "      <td>2019-03-21</td>\n",
       "      <td>2819.719971</td>\n",
       "      <td>2860.310059</td>\n",
       "      <td>2817.379883</td>\n",
       "      <td>2854.879883</td>\n",
       "      <td>2854.879883</td>\n",
       "      <td>3.546800e+09</td>\n",
       "      <td>NaN</td>\n",
       "      <td>NaN</td>\n",
       "      <td>NaN</td>\n",
       "      <td>NaN</td>\n",
       "      <td>NaN</td>\n",
       "      <td>NaN</td>\n",
       "    </tr>\n",
       "    <tr>\n",
       "      <th>33</th>\n",
       "      <td>2019-03-22</td>\n",
       "      <td>2844.520020</td>\n",
       "      <td>2846.159912</td>\n",
       "      <td>2800.469971</td>\n",
       "      <td>2800.709961</td>\n",
       "      <td>2800.709961</td>\n",
       "      <td>4.237200e+09</td>\n",
       "      <td>NaN</td>\n",
       "      <td>NaN</td>\n",
       "      <td>NaN</td>\n",
       "      <td>NaN</td>\n",
       "      <td>NaN</td>\n",
       "      <td>NaN</td>\n",
       "    </tr>\n",
       "    <tr>\n",
       "      <th>34</th>\n",
       "      <td>2019-03-25</td>\n",
       "      <td>2796.010010</td>\n",
       "      <td>2809.790039</td>\n",
       "      <td>2785.020020</td>\n",
       "      <td>2798.360107</td>\n",
       "      <td>2798.360107</td>\n",
       "      <td>3.376580e+09</td>\n",
       "      <td>NaN</td>\n",
       "      <td>NaN</td>\n",
       "      <td>NaN</td>\n",
       "      <td>NaN</td>\n",
       "      <td>NaN</td>\n",
       "      <td>NaN</td>\n",
       "    </tr>\n",
       "    <tr>\n",
       "      <th>35</th>\n",
       "      <td>2019-03-26</td>\n",
       "      <td>2812.659912</td>\n",
       "      <td>2829.870117</td>\n",
       "      <td>2803.989990</td>\n",
       "      <td>2818.459961</td>\n",
       "      <td>2818.459961</td>\n",
       "      <td>3.266050e+09</td>\n",
       "      <td>NaN</td>\n",
       "      <td>NaN</td>\n",
       "      <td>NaN</td>\n",
       "      <td>NaN</td>\n",
       "      <td>NaN</td>\n",
       "      <td>NaN</td>\n",
       "    </tr>\n",
       "    <tr>\n",
       "      <th>36</th>\n",
       "      <td>2019-03-27</td>\n",
       "      <td>2819.719971</td>\n",
       "      <td>2825.560059</td>\n",
       "      <td>2787.719971</td>\n",
       "      <td>2805.370117</td>\n",
       "      <td>2805.370117</td>\n",
       "      <td>3.372930e+09</td>\n",
       "      <td>NaN</td>\n",
       "      <td>NaN</td>\n",
       "      <td>NaN</td>\n",
       "      <td>NaN</td>\n",
       "      <td>NaN</td>\n",
       "      <td>NaN</td>\n",
       "    </tr>\n",
       "    <tr>\n",
       "      <th>37</th>\n",
       "      <td>2019-03-28</td>\n",
       "      <td>2809.399902</td>\n",
       "      <td>2819.709961</td>\n",
       "      <td>2798.770020</td>\n",
       "      <td>2815.439941</td>\n",
       "      <td>2815.439941</td>\n",
       "      <td>3.158170e+09</td>\n",
       "      <td>NaN</td>\n",
       "      <td>NaN</td>\n",
       "      <td>NaN</td>\n",
       "      <td>NaN</td>\n",
       "      <td>NaN</td>\n",
       "      <td>NaN</td>\n",
       "    </tr>\n",
       "    <tr>\n",
       "      <th>38</th>\n",
       "      <td>2019-03-29</td>\n",
       "      <td>2828.270020</td>\n",
       "      <td>2836.030029</td>\n",
       "      <td>2819.229980</td>\n",
       "      <td>2834.399902</td>\n",
       "      <td>2834.399902</td>\n",
       "      <td>3.740700e+09</td>\n",
       "      <td>NaN</td>\n",
       "      <td>NaN</td>\n",
       "      <td>NaN</td>\n",
       "      <td>NaN</td>\n",
       "      <td>NaN</td>\n",
       "      <td>NaN</td>\n",
       "    </tr>\n",
       "    <tr>\n",
       "      <th>39</th>\n",
       "      <td>2019-04-01</td>\n",
       "      <td>2848.629883</td>\n",
       "      <td>2869.399902</td>\n",
       "      <td>2848.629883</td>\n",
       "      <td>2867.189941</td>\n",
       "      <td>2867.189941</td>\n",
       "      <td>3.500760e+09</td>\n",
       "      <td>NaN</td>\n",
       "      <td>NaN</td>\n",
       "      <td>NaN</td>\n",
       "      <td>NaN</td>\n",
       "      <td>NaN</td>\n",
       "      <td>NaN</td>\n",
       "    </tr>\n",
       "    <tr>\n",
       "      <th>40</th>\n",
       "      <td>2019-04-02</td>\n",
       "      <td>2868.239990</td>\n",
       "      <td>2872.899902</td>\n",
       "      <td>2858.750000</td>\n",
       "      <td>2867.239990</td>\n",
       "      <td>2867.239990</td>\n",
       "      <td>3.246900e+09</td>\n",
       "      <td>NaN</td>\n",
       "      <td>NaN</td>\n",
       "      <td>NaN</td>\n",
       "      <td>NaN</td>\n",
       "      <td>NaN</td>\n",
       "      <td>NaN</td>\n",
       "    </tr>\n",
       "    <tr>\n",
       "      <th>41</th>\n",
       "      <td>2019-04-03</td>\n",
       "      <td>2876.090088</td>\n",
       "      <td>2885.250000</td>\n",
       "      <td>2865.169922</td>\n",
       "      <td>2873.399902</td>\n",
       "      <td>2873.399902</td>\n",
       "      <td>3.550240e+09</td>\n",
       "      <td>NaN</td>\n",
       "      <td>NaN</td>\n",
       "      <td>NaN</td>\n",
       "      <td>NaN</td>\n",
       "      <td>NaN</td>\n",
       "      <td>NaN</td>\n",
       "    </tr>\n",
       "    <tr>\n",
       "      <th>42</th>\n",
       "      <td>2019-04-04</td>\n",
       "      <td>2873.989990</td>\n",
       "      <td>2881.280029</td>\n",
       "      <td>2867.139893</td>\n",
       "      <td>2879.389893</td>\n",
       "      <td>2879.389893</td>\n",
       "      <td>3.015180e+09</td>\n",
       "      <td>NaN</td>\n",
       "      <td>NaN</td>\n",
       "      <td>NaN</td>\n",
       "      <td>NaN</td>\n",
       "      <td>NaN</td>\n",
       "      <td>NaN</td>\n",
       "    </tr>\n",
       "    <tr>\n",
       "      <th>43</th>\n",
       "      <td>2019-04-05</td>\n",
       "      <td>2884.159912</td>\n",
       "      <td>2893.239990</td>\n",
       "      <td>2882.989990</td>\n",
       "      <td>2892.739990</td>\n",
       "      <td>2892.739990</td>\n",
       "      <td>3.146820e+09</td>\n",
       "      <td>NaN</td>\n",
       "      <td>NaN</td>\n",
       "      <td>NaN</td>\n",
       "      <td>NaN</td>\n",
       "      <td>NaN</td>\n",
       "      <td>NaN</td>\n",
       "    </tr>\n",
       "    <tr>\n",
       "      <th>44</th>\n",
       "      <td>2019-04-08</td>\n",
       "      <td>2888.459961</td>\n",
       "      <td>2895.949951</td>\n",
       "      <td>2880.780029</td>\n",
       "      <td>2895.770020</td>\n",
       "      <td>2895.770020</td>\n",
       "      <td>3.054030e+09</td>\n",
       "      <td>NaN</td>\n",
       "      <td>NaN</td>\n",
       "      <td>NaN</td>\n",
       "      <td>NaN</td>\n",
       "      <td>NaN</td>\n",
       "      <td>NaN</td>\n",
       "    </tr>\n",
       "    <tr>\n",
       "      <th>45</th>\n",
       "      <td>2019-04-09</td>\n",
       "      <td>2886.580078</td>\n",
       "      <td>2886.879883</td>\n",
       "      <td>2873.330078</td>\n",
       "      <td>2878.199951</td>\n",
       "      <td>2878.199951</td>\n",
       "      <td>3.007980e+09</td>\n",
       "      <td>NaN</td>\n",
       "      <td>NaN</td>\n",
       "      <td>NaN</td>\n",
       "      <td>NaN</td>\n",
       "      <td>NaN</td>\n",
       "      <td>NaN</td>\n",
       "    </tr>\n",
       "    <tr>\n",
       "      <th>46</th>\n",
       "      <td>2019-04-10</td>\n",
       "      <td>2881.370117</td>\n",
       "      <td>2889.709961</td>\n",
       "      <td>2879.129883</td>\n",
       "      <td>2888.209961</td>\n",
       "      <td>2888.209961</td>\n",
       "      <td>3.062380e+09</td>\n",
       "      <td>NaN</td>\n",
       "      <td>NaN</td>\n",
       "      <td>NaN</td>\n",
       "      <td>NaN</td>\n",
       "      <td>NaN</td>\n",
       "      <td>NaN</td>\n",
       "    </tr>\n",
       "    <tr>\n",
       "      <th>47</th>\n",
       "      <td>2019-04-11</td>\n",
       "      <td>2891.919922</td>\n",
       "      <td>2893.419922</td>\n",
       "      <td>2881.989990</td>\n",
       "      <td>2888.320068</td>\n",
       "      <td>2888.320068</td>\n",
       "      <td>2.938540e+09</td>\n",
       "      <td>NaN</td>\n",
       "      <td>NaN</td>\n",
       "      <td>NaN</td>\n",
       "      <td>NaN</td>\n",
       "      <td>NaN</td>\n",
       "      <td>NaN</td>\n",
       "    </tr>\n",
       "    <tr>\n",
       "      <th>48</th>\n",
       "      <td>2019-04-12</td>\n",
       "      <td>2900.860107</td>\n",
       "      <td>2910.540039</td>\n",
       "      <td>2898.370117</td>\n",
       "      <td>2907.409912</td>\n",
       "      <td>2907.409912</td>\n",
       "      <td>3.688490e+09</td>\n",
       "      <td>NaN</td>\n",
       "      <td>NaN</td>\n",
       "      <td>NaN</td>\n",
       "      <td>NaN</td>\n",
       "      <td>NaN</td>\n",
       "      <td>NaN</td>\n",
       "    </tr>\n",
       "    <tr>\n",
       "      <th>49</th>\n",
       "      <td>2019-04-15</td>\n",
       "      <td>2908.320068</td>\n",
       "      <td>2909.600098</td>\n",
       "      <td>2896.479980</td>\n",
       "      <td>2905.580078</td>\n",
       "      <td>2905.580078</td>\n",
       "      <td>3.088330e+09</td>\n",
       "      <td>NaN</td>\n",
       "      <td>NaN</td>\n",
       "      <td>NaN</td>\n",
       "      <td>NaN</td>\n",
       "      <td>NaN</td>\n",
       "      <td>NaN</td>\n",
       "    </tr>\n",
       "    <tr>\n",
       "      <th>50</th>\n",
       "      <td>2019-04-16</td>\n",
       "      <td>2912.260010</td>\n",
       "      <td>2916.060059</td>\n",
       "      <td>2900.709961</td>\n",
       "      <td>2907.060059</td>\n",
       "      <td>2907.060059</td>\n",
       "      <td>3.402210e+09</td>\n",
       "      <td>NaN</td>\n",
       "      <td>NaN</td>\n",
       "      <td>NaN</td>\n",
       "      <td>NaN</td>\n",
       "      <td>NaN</td>\n",
       "      <td>NaN</td>\n",
       "    </tr>\n",
       "    <tr>\n",
       "      <th>51</th>\n",
       "      <td>2019-04-17</td>\n",
       "      <td>2916.040039</td>\n",
       "      <td>2918.000000</td>\n",
       "      <td>2895.449951</td>\n",
       "      <td>2900.449951</td>\n",
       "      <td>2900.449951</td>\n",
       "      <td>3.602300e+09</td>\n",
       "      <td>NaN</td>\n",
       "      <td>NaN</td>\n",
       "      <td>NaN</td>\n",
       "      <td>NaN</td>\n",
       "      <td>NaN</td>\n",
       "      <td>NaN</td>\n",
       "    </tr>\n",
       "    <tr>\n",
       "      <th>52</th>\n",
       "      <td>2019-04-18</td>\n",
       "      <td>2904.810059</td>\n",
       "      <td>2908.399902</td>\n",
       "      <td>2891.899902</td>\n",
       "      <td>2905.030029</td>\n",
       "      <td>2905.030029</td>\n",
       "      <td>3.506850e+09</td>\n",
       "      <td>NaN</td>\n",
       "      <td>NaN</td>\n",
       "      <td>NaN</td>\n",
       "      <td>NaN</td>\n",
       "      <td>NaN</td>\n",
       "      <td>NaN</td>\n",
       "    </tr>\n",
       "    <tr>\n",
       "      <th>53</th>\n",
       "      <td>2019-04-22</td>\n",
       "      <td>2898.780029</td>\n",
       "      <td>2909.510010</td>\n",
       "      <td>2896.350098</td>\n",
       "      <td>2907.969971</td>\n",
       "      <td>2907.969971</td>\n",
       "      <td>2.997950e+09</td>\n",
       "      <td>NaN</td>\n",
       "      <td>NaN</td>\n",
       "      <td>NaN</td>\n",
       "      <td>NaN</td>\n",
       "      <td>NaN</td>\n",
       "      <td>NaN</td>\n",
       "    </tr>\n",
       "    <tr>\n",
       "      <th>54</th>\n",
       "      <td>2019-04-23</td>\n",
       "      <td>2909.989990</td>\n",
       "      <td>2936.310059</td>\n",
       "      <td>2908.530029</td>\n",
       "      <td>2933.679932</td>\n",
       "      <td>2933.679932</td>\n",
       "      <td>3.635030e+09</td>\n",
       "      <td>NaN</td>\n",
       "      <td>NaN</td>\n",
       "      <td>NaN</td>\n",
       "      <td>NaN</td>\n",
       "      <td>NaN</td>\n",
       "      <td>NaN</td>\n",
       "    </tr>\n",
       "    <tr>\n",
       "      <th>55</th>\n",
       "      <td>2019-04-24</td>\n",
       "      <td>2934.000000</td>\n",
       "      <td>2936.830078</td>\n",
       "      <td>2926.050049</td>\n",
       "      <td>2927.250000</td>\n",
       "      <td>2927.250000</td>\n",
       "      <td>3.448960e+09</td>\n",
       "      <td>NaN</td>\n",
       "      <td>NaN</td>\n",
       "      <td>NaN</td>\n",
       "      <td>NaN</td>\n",
       "      <td>NaN</td>\n",
       "      <td>NaN</td>\n",
       "    </tr>\n",
       "    <tr>\n",
       "      <th>56</th>\n",
       "      <td>2019-04-25</td>\n",
       "      <td>2928.989990</td>\n",
       "      <td>2933.100098</td>\n",
       "      <td>2912.840088</td>\n",
       "      <td>2926.169922</td>\n",
       "      <td>2926.169922</td>\n",
       "      <td>3.425280e+09</td>\n",
       "      <td>NaN</td>\n",
       "      <td>NaN</td>\n",
       "      <td>NaN</td>\n",
       "      <td>NaN</td>\n",
       "      <td>NaN</td>\n",
       "      <td>NaN</td>\n",
       "    </tr>\n",
       "    <tr>\n",
       "      <th>57</th>\n",
       "      <td>2019-04-26</td>\n",
       "      <td>2925.810059</td>\n",
       "      <td>2939.879883</td>\n",
       "      <td>2917.560059</td>\n",
       "      <td>2939.879883</td>\n",
       "      <td>2939.879883</td>\n",
       "      <td>3.248500e+09</td>\n",
       "      <td>NaN</td>\n",
       "      <td>NaN</td>\n",
       "      <td>NaN</td>\n",
       "      <td>NaN</td>\n",
       "      <td>NaN</td>\n",
       "      <td>NaN</td>\n",
       "    </tr>\n",
       "    <tr>\n",
       "      <th>58</th>\n",
       "      <td>2019-04-29</td>\n",
       "      <td>2940.580078</td>\n",
       "      <td>2949.520020</td>\n",
       "      <td>2939.350098</td>\n",
       "      <td>2943.030029</td>\n",
       "      <td>2943.030029</td>\n",
       "      <td>3.118780e+09</td>\n",
       "      <td>NaN</td>\n",
       "      <td>NaN</td>\n",
       "      <td>NaN</td>\n",
       "      <td>NaN</td>\n",
       "      <td>NaN</td>\n",
       "      <td>NaN</td>\n",
       "    </tr>\n",
       "    <tr>\n",
       "      <th>59</th>\n",
       "      <td>2019-04-30</td>\n",
       "      <td>2937.139893</td>\n",
       "      <td>2948.219971</td>\n",
       "      <td>2924.110107</td>\n",
       "      <td>2945.830078</td>\n",
       "      <td>2945.830078</td>\n",
       "      <td>3.919330e+09</td>\n",
       "      <td>NaN</td>\n",
       "      <td>NaN</td>\n",
       "      <td>NaN</td>\n",
       "      <td>NaN</td>\n",
       "      <td>NaN</td>\n",
       "      <td>NaN</td>\n",
       "    </tr>\n",
       "    <tr>\n",
       "      <th>60</th>\n",
       "      <td>2019-05-01</td>\n",
       "      <td>2952.330078</td>\n",
       "      <td>2954.129883</td>\n",
       "      <td>2923.360107</td>\n",
       "      <td>2923.729980</td>\n",
       "      <td>2923.729980</td>\n",
       "      <td>3.645850e+09</td>\n",
       "      <td>NaN</td>\n",
       "      <td>NaN</td>\n",
       "      <td>NaN</td>\n",
       "      <td>NaN</td>\n",
       "      <td>NaN</td>\n",
       "      <td>NaN</td>\n",
       "    </tr>\n",
       "    <tr>\n",
       "      <th>2019-04-02 10:47:00</th>\n",
       "      <td>2019-04-02 00:00:00</td>\n",
       "      <td>NaN</td>\n",
       "      <td>NaN</td>\n",
       "      <td>NaN</td>\n",
       "      <td>NaN</td>\n",
       "      <td>NaN</td>\n",
       "      <td>NaN</td>\n",
       "      <td>-0.017857</td>\n",
       "      <td>-0.6908</td>\n",
       "      <td>-0.017857</td>\n",
       "      <td>-0.6908</td>\n",
       "      <td>0.000000</td>\n",
       "      <td>0.0000</td>\n",
       "    </tr>\n",
       "    <tr>\n",
       "      <th>2019-04-02 23:55:24</th>\n",
       "      <td>2019-04-02 00:00:00</td>\n",
       "      <td>NaN</td>\n",
       "      <td>NaN</td>\n",
       "      <td>NaN</td>\n",
       "      <td>NaN</td>\n",
       "      <td>NaN</td>\n",
       "      <td>NaN</td>\n",
       "      <td>0.265179</td>\n",
       "      <td>0.8611</td>\n",
       "      <td>0.366667</td>\n",
       "      <td>-0.2748</td>\n",
       "      <td>0.000000</td>\n",
       "      <td>-0.4767</td>\n",
       "    </tr>\n",
       "    <tr>\n",
       "      <th>2019-04-03 16:28:00</th>\n",
       "      <td>2019-04-03 00:00:00</td>\n",
       "      <td>NaN</td>\n",
       "      <td>NaN</td>\n",
       "      <td>NaN</td>\n",
       "      <td>NaN</td>\n",
       "      <td>NaN</td>\n",
       "      <td>NaN</td>\n",
       "      <td>0.080000</td>\n",
       "      <td>0.0000</td>\n",
       "      <td>0.066667</td>\n",
       "      <td>0.0000</td>\n",
       "      <td>0.000000</td>\n",
       "      <td>0.0000</td>\n",
       "    </tr>\n",
       "    <tr>\n",
       "      <th>2019-04-04 09:02:50</th>\n",
       "      <td>2019-04-04 00:00:00</td>\n",
       "      <td>NaN</td>\n",
       "      <td>NaN</td>\n",
       "      <td>NaN</td>\n",
       "      <td>NaN</td>\n",
       "      <td>NaN</td>\n",
       "      <td>NaN</td>\n",
       "      <td>0.370833</td>\n",
       "      <td>0.4310</td>\n",
       "      <td>0.296667</td>\n",
       "      <td>0.3716</td>\n",
       "      <td>0.000000</td>\n",
       "      <td>-0.2263</td>\n",
       "    </tr>\n",
       "    <tr>\n",
       "      <th>2019-04-05 13:30:00</th>\n",
       "      <td>2019-04-05 00:00:00</td>\n",
       "      <td>NaN</td>\n",
       "      <td>NaN</td>\n",
       "      <td>NaN</td>\n",
       "      <td>NaN</td>\n",
       "      <td>NaN</td>\n",
       "      <td>NaN</td>\n",
       "      <td>0.136458</td>\n",
       "      <td>0.4215</td>\n",
       "      <td>0.033333</td>\n",
       "      <td>0.6705</td>\n",
       "      <td>0.000000</td>\n",
       "      <td>0.0000</td>\n",
       "    </tr>\n",
       "    <tr>\n",
       "      <th>2019-04-08 10:45:00</th>\n",
       "      <td>2019-04-08 00:00:00</td>\n",
       "      <td>NaN</td>\n",
       "      <td>NaN</td>\n",
       "      <td>NaN</td>\n",
       "      <td>NaN</td>\n",
       "      <td>NaN</td>\n",
       "      <td>NaN</td>\n",
       "      <td>0.228571</td>\n",
       "      <td>-0.2716</td>\n",
       "      <td>0.228571</td>\n",
       "      <td>-0.2716</td>\n",
       "      <td>0.000000</td>\n",
       "      <td>0.0000</td>\n",
       "    </tr>\n",
       "    <tr>\n",
       "      <th>2019-04-10 15:04:39</th>\n",
       "      <td>2019-04-10 00:00:00</td>\n",
       "      <td>NaN</td>\n",
       "      <td>NaN</td>\n",
       "      <td>NaN</td>\n",
       "      <td>NaN</td>\n",
       "      <td>NaN</td>\n",
       "      <td>NaN</td>\n",
       "      <td>0.000000</td>\n",
       "      <td>0.0000</td>\n",
       "      <td>0.000000</td>\n",
       "      <td>0.0000</td>\n",
       "      <td>0.000000</td>\n",
       "      <td>-0.3400</td>\n",
       "    </tr>\n",
       "    <tr>\n",
       "      <th>2019-04-12 10:54:00</th>\n",
       "      <td>2019-04-12 00:00:00</td>\n",
       "      <td>NaN</td>\n",
       "      <td>NaN</td>\n",
       "      <td>NaN</td>\n",
       "      <td>NaN</td>\n",
       "      <td>NaN</td>\n",
       "      <td>NaN</td>\n",
       "      <td>-0.100000</td>\n",
       "      <td>0.0000</td>\n",
       "      <td>0.000000</td>\n",
       "      <td>-0.2732</td>\n",
       "      <td>0.000000</td>\n",
       "      <td>0.0000</td>\n",
       "    </tr>\n",
       "    <tr>\n",
       "      <th>2019-04-16 04:01:00</th>\n",
       "      <td>2019-04-16 00:00:00</td>\n",
       "      <td>NaN</td>\n",
       "      <td>NaN</td>\n",
       "      <td>NaN</td>\n",
       "      <td>NaN</td>\n",
       "      <td>NaN</td>\n",
       "      <td>NaN</td>\n",
       "      <td>-0.040000</td>\n",
       "      <td>0.2023</td>\n",
       "      <td>0.016667</td>\n",
       "      <td>0.5994</td>\n",
       "      <td>0.000000</td>\n",
       "      <td>0.0000</td>\n",
       "    </tr>\n",
       "    <tr>\n",
       "      <th>2019-04-17 08:48:11</th>\n",
       "      <td>2019-04-17 00:00:00</td>\n",
       "      <td>NaN</td>\n",
       "      <td>NaN</td>\n",
       "      <td>NaN</td>\n",
       "      <td>NaN</td>\n",
       "      <td>NaN</td>\n",
       "      <td>NaN</td>\n",
       "      <td>0.062879</td>\n",
       "      <td>0.5267</td>\n",
       "      <td>0.125325</td>\n",
       "      <td>0.7351</td>\n",
       "      <td>0.231944</td>\n",
       "      <td>0.5106</td>\n",
       "    </tr>\n",
       "    <tr>\n",
       "      <th>2019-04-19 12:46:00</th>\n",
       "      <td>2019-04-19 00:00:00</td>\n",
       "      <td>NaN</td>\n",
       "      <td>NaN</td>\n",
       "      <td>NaN</td>\n",
       "      <td>NaN</td>\n",
       "      <td>NaN</td>\n",
       "      <td>NaN</td>\n",
       "      <td>0.250000</td>\n",
       "      <td>0.0000</td>\n",
       "      <td>0.800000</td>\n",
       "      <td>0.0258</td>\n",
       "      <td>0.000000</td>\n",
       "      <td>-0.5994</td>\n",
       "    </tr>\n",
       "    <tr>\n",
       "      <th>2019-04-22 13:00:00</th>\n",
       "      <td>2019-04-22 00:00:00</td>\n",
       "      <td>NaN</td>\n",
       "      <td>NaN</td>\n",
       "      <td>NaN</td>\n",
       "      <td>NaN</td>\n",
       "      <td>NaN</td>\n",
       "      <td>NaN</td>\n",
       "      <td>0.025000</td>\n",
       "      <td>0.3612</td>\n",
       "      <td>0.012500</td>\n",
       "      <td>0.0000</td>\n",
       "      <td>0.000000</td>\n",
       "      <td>0.0000</td>\n",
       "    </tr>\n",
       "    <tr>\n",
       "      <th>2019-04-24 18:31:02</th>\n",
       "      <td>2019-04-24 00:00:00</td>\n",
       "      <td>NaN</td>\n",
       "      <td>NaN</td>\n",
       "      <td>NaN</td>\n",
       "      <td>NaN</td>\n",
       "      <td>NaN</td>\n",
       "      <td>NaN</td>\n",
       "      <td>0.136667</td>\n",
       "      <td>0.0000</td>\n",
       "      <td>0.170455</td>\n",
       "      <td>0.3400</td>\n",
       "      <td>0.205000</td>\n",
       "      <td>0.0000</td>\n",
       "    </tr>\n",
       "    <tr>\n",
       "      <th>2019-04-25 10:54:00</th>\n",
       "      <td>2019-04-25 00:00:00</td>\n",
       "      <td>NaN</td>\n",
       "      <td>NaN</td>\n",
       "      <td>NaN</td>\n",
       "      <td>NaN</td>\n",
       "      <td>NaN</td>\n",
       "      <td>NaN</td>\n",
       "      <td>0.132727</td>\n",
       "      <td>0.0000</td>\n",
       "      <td>0.132727</td>\n",
       "      <td>0.0000</td>\n",
       "      <td>0.000000</td>\n",
       "      <td>0.0000</td>\n",
       "    </tr>\n",
       "    <tr>\n",
       "      <th>2019-04-25 10:54:00</th>\n",
       "      <td>2019-04-25 00:00:00</td>\n",
       "      <td>NaN</td>\n",
       "      <td>NaN</td>\n",
       "      <td>NaN</td>\n",
       "      <td>NaN</td>\n",
       "      <td>NaN</td>\n",
       "      <td>NaN</td>\n",
       "      <td>0.159273</td>\n",
       "      <td>0.0000</td>\n",
       "      <td>0.082727</td>\n",
       "      <td>0.0000</td>\n",
       "      <td>0.000000</td>\n",
       "      <td>0.0000</td>\n",
       "    </tr>\n",
       "    <tr>\n",
       "      <th>2019-04-26 10:02:00</th>\n",
       "      <td>2019-04-26 00:00:00</td>\n",
       "      <td>NaN</td>\n",
       "      <td>NaN</td>\n",
       "      <td>NaN</td>\n",
       "      <td>NaN</td>\n",
       "      <td>NaN</td>\n",
       "      <td>NaN</td>\n",
       "      <td>0.073148</td>\n",
       "      <td>0.0000</td>\n",
       "      <td>0.220000</td>\n",
       "      <td>0.0000</td>\n",
       "      <td>0.500000</td>\n",
       "      <td>-0.2411</td>\n",
       "    </tr>\n",
       "    <tr>\n",
       "      <th>2019-04-26 11:22:00</th>\n",
       "      <td>2019-04-26 00:00:00</td>\n",
       "      <td>NaN</td>\n",
       "      <td>NaN</td>\n",
       "      <td>NaN</td>\n",
       "      <td>NaN</td>\n",
       "      <td>NaN</td>\n",
       "      <td>NaN</td>\n",
       "      <td>-0.100000</td>\n",
       "      <td>0.0000</td>\n",
       "      <td>-0.050000</td>\n",
       "      <td>0.5423</td>\n",
       "      <td>0.000000</td>\n",
       "      <td>0.0000</td>\n",
       "    </tr>\n",
       "    <tr>\n",
       "      <th>2019-04-29 09:58:00</th>\n",
       "      <td>2019-04-29 00:00:00</td>\n",
       "      <td>NaN</td>\n",
       "      <td>NaN</td>\n",
       "      <td>NaN</td>\n",
       "      <td>NaN</td>\n",
       "      <td>NaN</td>\n",
       "      <td>NaN</td>\n",
       "      <td>-0.034524</td>\n",
       "      <td>0.5499</td>\n",
       "      <td>-0.083333</td>\n",
       "      <td>-0.1695</td>\n",
       "      <td>0.000000</td>\n",
       "      <td>-0.2263</td>\n",
       "    </tr>\n",
       "    <tr>\n",
       "      <th>2019-04-30 16:14:00</th>\n",
       "      <td>2019-04-30 00:00:00</td>\n",
       "      <td>NaN</td>\n",
       "      <td>NaN</td>\n",
       "      <td>NaN</td>\n",
       "      <td>NaN</td>\n",
       "      <td>NaN</td>\n",
       "      <td>NaN</td>\n",
       "      <td>0.250000</td>\n",
       "      <td>0.3612</td>\n",
       "      <td>0.090625</td>\n",
       "      <td>0.0000</td>\n",
       "      <td>0.000000</td>\n",
       "      <td>0.0000</td>\n",
       "    </tr>\n",
       "    <tr>\n",
       "      <th>2019-05-02 16:46:41</th>\n",
       "      <td>2019-05-02 00:00:00</td>\n",
       "      <td>NaN</td>\n",
       "      <td>NaN</td>\n",
       "      <td>NaN</td>\n",
       "      <td>NaN</td>\n",
       "      <td>NaN</td>\n",
       "      <td>NaN</td>\n",
       "      <td>0.350000</td>\n",
       "      <td>0.5719</td>\n",
       "      <td>-0.100000</td>\n",
       "      <td>-0.2960</td>\n",
       "      <td>0.900000</td>\n",
       "      <td>0.8860</td>\n",
       "    </tr>\n",
       "  </tbody>\n",
       "</table>\n",
       "</div>"
      ],
      "text/plain": [
       "                                    Date  ...  text_compound\n",
       "31                            2019-03-20  ...            NaN\n",
       "32                            2019-03-21  ...            NaN\n",
       "33                            2019-03-22  ...            NaN\n",
       "34                            2019-03-25  ...            NaN\n",
       "35                            2019-03-26  ...            NaN\n",
       "36                            2019-03-27  ...            NaN\n",
       "37                            2019-03-28  ...            NaN\n",
       "38                            2019-03-29  ...            NaN\n",
       "39                            2019-04-01  ...            NaN\n",
       "40                            2019-04-02  ...            NaN\n",
       "41                            2019-04-03  ...            NaN\n",
       "42                            2019-04-04  ...            NaN\n",
       "43                            2019-04-05  ...            NaN\n",
       "44                            2019-04-08  ...            NaN\n",
       "45                            2019-04-09  ...            NaN\n",
       "46                            2019-04-10  ...            NaN\n",
       "47                            2019-04-11  ...            NaN\n",
       "48                            2019-04-12  ...            NaN\n",
       "49                            2019-04-15  ...            NaN\n",
       "50                            2019-04-16  ...            NaN\n",
       "51                            2019-04-17  ...            NaN\n",
       "52                            2019-04-18  ...            NaN\n",
       "53                            2019-04-22  ...            NaN\n",
       "54                            2019-04-23  ...            NaN\n",
       "55                            2019-04-24  ...            NaN\n",
       "56                            2019-04-25  ...            NaN\n",
       "57                            2019-04-26  ...            NaN\n",
       "58                            2019-04-29  ...            NaN\n",
       "59                            2019-04-30  ...            NaN\n",
       "60                            2019-05-01  ...            NaN\n",
       "2019-04-02 10:47:00  2019-04-02 00:00:00  ...         0.0000\n",
       "2019-04-02 23:55:24  2019-04-02 00:00:00  ...        -0.4767\n",
       "2019-04-03 16:28:00  2019-04-03 00:00:00  ...         0.0000\n",
       "2019-04-04 09:02:50  2019-04-04 00:00:00  ...        -0.2263\n",
       "2019-04-05 13:30:00  2019-04-05 00:00:00  ...         0.0000\n",
       "2019-04-08 10:45:00  2019-04-08 00:00:00  ...         0.0000\n",
       "2019-04-10 15:04:39  2019-04-10 00:00:00  ...        -0.3400\n",
       "2019-04-12 10:54:00  2019-04-12 00:00:00  ...         0.0000\n",
       "2019-04-16 04:01:00  2019-04-16 00:00:00  ...         0.0000\n",
       "2019-04-17 08:48:11  2019-04-17 00:00:00  ...         0.5106\n",
       "2019-04-19 12:46:00  2019-04-19 00:00:00  ...        -0.5994\n",
       "2019-04-22 13:00:00  2019-04-22 00:00:00  ...         0.0000\n",
       "2019-04-24 18:31:02  2019-04-24 00:00:00  ...         0.0000\n",
       "2019-04-25 10:54:00  2019-04-25 00:00:00  ...         0.0000\n",
       "2019-04-25 10:54:00  2019-04-25 00:00:00  ...         0.0000\n",
       "2019-04-26 10:02:00  2019-04-26 00:00:00  ...        -0.2411\n",
       "2019-04-26 11:22:00  2019-04-26 00:00:00  ...         0.0000\n",
       "2019-04-29 09:58:00  2019-04-29 00:00:00  ...        -0.2263\n",
       "2019-04-30 16:14:00  2019-04-30 00:00:00  ...         0.0000\n",
       "2019-05-02 16:46:41  2019-05-02 00:00:00  ...         0.8860\n",
       "\n",
       "[50 rows x 13 columns]"
      ]
     },
     "execution_count": 130,
     "metadata": {},
     "output_type": "execute_result"
    }
   ],
   "source": [
    "testing_df"
   ]
  },
  {
   "cell_type": "markdown",
   "metadata": {},
   "source": [
    "### WE seem to have the same problem we delt witha while back, let's use the same method to see the fix"
   ]
  },
  {
   "cell_type": "code",
   "execution_count": 127,
   "metadata": {},
   "outputs": [
    {
     "data": {
      "text/html": [
       "<div>\n",
       "<style scoped>\n",
       "    .dataframe tbody tr th:only-of-type {\n",
       "        vertical-align: middle;\n",
       "    }\n",
       "\n",
       "    .dataframe tbody tr th {\n",
       "        vertical-align: top;\n",
       "    }\n",
       "\n",
       "    .dataframe thead th {\n",
       "        text-align: right;\n",
       "    }\n",
       "</style>\n",
       "<table border=\"1\" class=\"dataframe\">\n",
       "  <thead>\n",
       "    <tr style=\"text-align: right;\">\n",
       "      <th></th>\n",
       "      <th>Date</th>\n",
       "      <th>Open</th>\n",
       "      <th>High</th>\n",
       "      <th>Low</th>\n",
       "      <th>Close</th>\n",
       "      <th>Adj Close</th>\n",
       "      <th>Volume</th>\n",
       "    </tr>\n",
       "  </thead>\n",
       "  <tbody>\n",
       "    <tr>\n",
       "      <th>31</th>\n",
       "      <td>2019-03-20</td>\n",
       "      <td>2831.340088</td>\n",
       "      <td>2843.540039</td>\n",
       "      <td>2812.429932</td>\n",
       "      <td>2824.229980</td>\n",
       "      <td>2824.229980</td>\n",
       "      <td>3771200000</td>\n",
       "    </tr>\n",
       "    <tr>\n",
       "      <th>32</th>\n",
       "      <td>2019-03-21</td>\n",
       "      <td>2819.719971</td>\n",
       "      <td>2860.310059</td>\n",
       "      <td>2817.379883</td>\n",
       "      <td>2854.879883</td>\n",
       "      <td>2854.879883</td>\n",
       "      <td>3546800000</td>\n",
       "    </tr>\n",
       "    <tr>\n",
       "      <th>33</th>\n",
       "      <td>2019-03-22</td>\n",
       "      <td>2844.520020</td>\n",
       "      <td>2846.159912</td>\n",
       "      <td>2800.469971</td>\n",
       "      <td>2800.709961</td>\n",
       "      <td>2800.709961</td>\n",
       "      <td>4237200000</td>\n",
       "    </tr>\n",
       "    <tr>\n",
       "      <th>34</th>\n",
       "      <td>2019-03-25</td>\n",
       "      <td>2796.010010</td>\n",
       "      <td>2809.790039</td>\n",
       "      <td>2785.020020</td>\n",
       "      <td>2798.360107</td>\n",
       "      <td>2798.360107</td>\n",
       "      <td>3376580000</td>\n",
       "    </tr>\n",
       "    <tr>\n",
       "      <th>35</th>\n",
       "      <td>2019-03-26</td>\n",
       "      <td>2812.659912</td>\n",
       "      <td>2829.870117</td>\n",
       "      <td>2803.989990</td>\n",
       "      <td>2818.459961</td>\n",
       "      <td>2818.459961</td>\n",
       "      <td>3266050000</td>\n",
       "    </tr>\n",
       "  </tbody>\n",
       "</table>\n",
       "</div>"
      ],
      "text/plain": [
       "          Date         Open         High  ...        Close    Adj Close      Volume\n",
       "31  2019-03-20  2831.340088  2843.540039  ...  2824.229980  2824.229980  3771200000\n",
       "32  2019-03-21  2819.719971  2860.310059  ...  2854.879883  2854.879883  3546800000\n",
       "33  2019-03-22  2844.520020  2846.159912  ...  2800.709961  2800.709961  4237200000\n",
       "34  2019-03-25  2796.010010  2809.790039  ...  2798.360107  2798.360107  3376580000\n",
       "35  2019-03-26  2812.659912  2829.870117  ...  2818.459961  2818.459961  3266050000\n",
       "\n",
       "[5 rows x 7 columns]"
      ]
     },
     "execution_count": 127,
     "metadata": {},
     "output_type": "execute_result"
    }
   ],
   "source": []
  },
  {
   "cell_type": "code",
   "execution_count": null,
   "metadata": {},
   "outputs": [],
   "source": []
  }
 ],
 "metadata": {
  "kernelspec": {
   "display_name": "Python 3",
   "language": "python",
   "name": "python3"
  },
  "language_info": {
   "codemirror_mode": {
    "name": "ipython",
    "version": 3
   },
   "file_extension": ".py",
   "mimetype": "text/x-python",
   "name": "python",
   "nbconvert_exporter": "python",
   "pygments_lexer": "ipython3",
   "version": "3.7.2"
  }
 },
 "nbformat": 4,
 "nbformat_minor": 2
}
